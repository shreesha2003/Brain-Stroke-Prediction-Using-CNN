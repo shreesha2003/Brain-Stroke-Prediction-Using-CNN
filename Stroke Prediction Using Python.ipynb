{
 "cells": [
  {
   "cell_type": "code",
   "execution_count": 2,
   "id": "b69158e6",
   "metadata": {},
   "outputs": [],
   "source": [
    "import pandas as pd\n",
    "import numpy as np"
   ]
  },
  {
   "cell_type": "code",
   "execution_count": 3,
   "id": "b0b3d1d1",
   "metadata": {},
   "outputs": [],
   "source": [
    "train_df = pd.read_csv(\"train.csv\")\n",
    "test_df = pd.read_csv(\"test.csv\")\n",
    "sub_df = pd.read_csv(\"sample_submission.csv\")"
   ]
  },
  {
   "cell_type": "code",
   "execution_count": 5,
   "id": "53d308f8",
   "metadata": {},
   "outputs": [
    {
     "data": {
      "text/html": [
       "<div>\n",
       "<style scoped>\n",
       "    .dataframe tbody tr th:only-of-type {\n",
       "        vertical-align: middle;\n",
       "    }\n",
       "\n",
       "    .dataframe tbody tr th {\n",
       "        vertical-align: top;\n",
       "    }\n",
       "\n",
       "    .dataframe thead th {\n",
       "        text-align: right;\n",
       "    }\n",
       "</style>\n",
       "<table border=\"1\" class=\"dataframe\">\n",
       "  <thead>\n",
       "    <tr style=\"text-align: right;\">\n",
       "      <th></th>\n",
       "      <th>id</th>\n",
       "      <th>gender</th>\n",
       "      <th>age</th>\n",
       "      <th>hypertension</th>\n",
       "      <th>heart_disease</th>\n",
       "      <th>ever_married</th>\n",
       "      <th>work_type</th>\n",
       "      <th>Residence_type</th>\n",
       "      <th>avg_glucose_level</th>\n",
       "      <th>bmi</th>\n",
       "      <th>smoking_status</th>\n",
       "      <th>stroke</th>\n",
       "    </tr>\n",
       "  </thead>\n",
       "  <tbody>\n",
       "    <tr>\n",
       "      <th>0</th>\n",
       "      <td>0</td>\n",
       "      <td>Male</td>\n",
       "      <td>28.0</td>\n",
       "      <td>0</td>\n",
       "      <td>0</td>\n",
       "      <td>Yes</td>\n",
       "      <td>Private</td>\n",
       "      <td>Urban</td>\n",
       "      <td>79.53</td>\n",
       "      <td>31.1</td>\n",
       "      <td>never smoked</td>\n",
       "      <td>0</td>\n",
       "    </tr>\n",
       "    <tr>\n",
       "      <th>1</th>\n",
       "      <td>1</td>\n",
       "      <td>Male</td>\n",
       "      <td>33.0</td>\n",
       "      <td>0</td>\n",
       "      <td>0</td>\n",
       "      <td>Yes</td>\n",
       "      <td>Private</td>\n",
       "      <td>Rural</td>\n",
       "      <td>78.44</td>\n",
       "      <td>23.9</td>\n",
       "      <td>formerly smoked</td>\n",
       "      <td>0</td>\n",
       "    </tr>\n",
       "    <tr>\n",
       "      <th>2</th>\n",
       "      <td>2</td>\n",
       "      <td>Female</td>\n",
       "      <td>42.0</td>\n",
       "      <td>0</td>\n",
       "      <td>0</td>\n",
       "      <td>Yes</td>\n",
       "      <td>Private</td>\n",
       "      <td>Rural</td>\n",
       "      <td>103.00</td>\n",
       "      <td>40.3</td>\n",
       "      <td>Unknown</td>\n",
       "      <td>0</td>\n",
       "    </tr>\n",
       "    <tr>\n",
       "      <th>3</th>\n",
       "      <td>3</td>\n",
       "      <td>Male</td>\n",
       "      <td>56.0</td>\n",
       "      <td>0</td>\n",
       "      <td>0</td>\n",
       "      <td>Yes</td>\n",
       "      <td>Private</td>\n",
       "      <td>Urban</td>\n",
       "      <td>64.87</td>\n",
       "      <td>28.8</td>\n",
       "      <td>never smoked</td>\n",
       "      <td>0</td>\n",
       "    </tr>\n",
       "    <tr>\n",
       "      <th>4</th>\n",
       "      <td>4</td>\n",
       "      <td>Female</td>\n",
       "      <td>24.0</td>\n",
       "      <td>0</td>\n",
       "      <td>0</td>\n",
       "      <td>No</td>\n",
       "      <td>Private</td>\n",
       "      <td>Rural</td>\n",
       "      <td>73.36</td>\n",
       "      <td>28.8</td>\n",
       "      <td>never smoked</td>\n",
       "      <td>0</td>\n",
       "    </tr>\n",
       "  </tbody>\n",
       "</table>\n",
       "</div>"
      ],
      "text/plain": [
       "   id  gender   age  hypertension  heart_disease ever_married work_type  \\\n",
       "0   0    Male  28.0             0              0          Yes   Private   \n",
       "1   1    Male  33.0             0              0          Yes   Private   \n",
       "2   2  Female  42.0             0              0          Yes   Private   \n",
       "3   3    Male  56.0             0              0          Yes   Private   \n",
       "4   4  Female  24.0             0              0           No   Private   \n",
       "\n",
       "  Residence_type  avg_glucose_level   bmi   smoking_status  stroke  \n",
       "0          Urban              79.53  31.1     never smoked       0  \n",
       "1          Rural              78.44  23.9  formerly smoked       0  \n",
       "2          Rural             103.00  40.3          Unknown       0  \n",
       "3          Urban              64.87  28.8     never smoked       0  \n",
       "4          Rural              73.36  28.8     never smoked       0  "
      ]
     },
     "execution_count": 5,
     "metadata": {},
     "output_type": "execute_result"
    }
   ],
   "source": [
    "train_df.head()"
   ]
  },
  {
   "cell_type": "code",
   "execution_count": 6,
   "id": "4e4957b7",
   "metadata": {},
   "outputs": [
    {
     "data": {
      "text/plain": [
       "array([0, 1], dtype=int64)"
      ]
     },
     "execution_count": 6,
     "metadata": {},
     "output_type": "execute_result"
    }
   ],
   "source": [
    "train_df['stroke'].unique()"
   ]
  },
  {
   "cell_type": "code",
   "execution_count": 7,
   "id": "0989a422",
   "metadata": {},
   "outputs": [
    {
     "name": "stdout",
     "output_type": "stream",
     "text": [
      "<class 'pandas.core.frame.DataFrame'>\n",
      "RangeIndex: 15304 entries, 0 to 15303\n",
      "Data columns (total 12 columns):\n",
      " #   Column             Non-Null Count  Dtype  \n",
      "---  ------             --------------  -----  \n",
      " 0   id                 15304 non-null  int64  \n",
      " 1   gender             15304 non-null  object \n",
      " 2   age                15304 non-null  float64\n",
      " 3   hypertension       15304 non-null  int64  \n",
      " 4   heart_disease      15304 non-null  int64  \n",
      " 5   ever_married       15304 non-null  object \n",
      " 6   work_type          15304 non-null  object \n",
      " 7   Residence_type     15304 non-null  object \n",
      " 8   avg_glucose_level  15304 non-null  float64\n",
      " 9   bmi                15304 non-null  float64\n",
      " 10  smoking_status     15304 non-null  object \n",
      " 11  stroke             15304 non-null  int64  \n",
      "dtypes: float64(3), int64(4), object(5)\n",
      "memory usage: 1.4+ MB\n"
     ]
    }
   ],
   "source": [
    "train_df.info()"
   ]
  },
  {
   "cell_type": "code",
   "execution_count": 9,
   "id": "0c6b9477",
   "metadata": {},
   "outputs": [
    {
     "data": {
      "text/html": [
       "<div>\n",
       "<style scoped>\n",
       "    .dataframe tbody tr th:only-of-type {\n",
       "        vertical-align: middle;\n",
       "    }\n",
       "\n",
       "    .dataframe tbody tr th {\n",
       "        vertical-align: top;\n",
       "    }\n",
       "\n",
       "    .dataframe thead th {\n",
       "        text-align: right;\n",
       "    }\n",
       "</style>\n",
       "<table border=\"1\" class=\"dataframe\">\n",
       "  <thead>\n",
       "    <tr style=\"text-align: right;\">\n",
       "      <th></th>\n",
       "      <th>count</th>\n",
       "      <th>mean</th>\n",
       "      <th>std</th>\n",
       "      <th>min</th>\n",
       "      <th>25%</th>\n",
       "      <th>50%</th>\n",
       "      <th>75%</th>\n",
       "      <th>max</th>\n",
       "    </tr>\n",
       "  </thead>\n",
       "  <tbody>\n",
       "    <tr>\n",
       "      <th>id</th>\n",
       "      <td>15304.0</td>\n",
       "      <td>7651.500000</td>\n",
       "      <td>4418.028595</td>\n",
       "      <td>0.00</td>\n",
       "      <td>3825.75</td>\n",
       "      <td>7651.50</td>\n",
       "      <td>11477.25</td>\n",
       "      <td>15303.0</td>\n",
       "    </tr>\n",
       "    <tr>\n",
       "      <th>age</th>\n",
       "      <td>15304.0</td>\n",
       "      <td>41.417708</td>\n",
       "      <td>21.444673</td>\n",
       "      <td>0.08</td>\n",
       "      <td>26.00</td>\n",
       "      <td>43.00</td>\n",
       "      <td>57.00</td>\n",
       "      <td>82.0</td>\n",
       "    </tr>\n",
       "    <tr>\n",
       "      <th>hypertension</th>\n",
       "      <td>15304.0</td>\n",
       "      <td>0.049726</td>\n",
       "      <td>0.217384</td>\n",
       "      <td>0.00</td>\n",
       "      <td>0.00</td>\n",
       "      <td>0.00</td>\n",
       "      <td>0.00</td>\n",
       "      <td>1.0</td>\n",
       "    </tr>\n",
       "    <tr>\n",
       "      <th>heart_disease</th>\n",
       "      <td>15304.0</td>\n",
       "      <td>0.023327</td>\n",
       "      <td>0.150946</td>\n",
       "      <td>0.00</td>\n",
       "      <td>0.00</td>\n",
       "      <td>0.00</td>\n",
       "      <td>0.00</td>\n",
       "      <td>1.0</td>\n",
       "    </tr>\n",
       "    <tr>\n",
       "      <th>avg_glucose_level</th>\n",
       "      <td>15304.0</td>\n",
       "      <td>89.039853</td>\n",
       "      <td>25.476102</td>\n",
       "      <td>55.22</td>\n",
       "      <td>74.90</td>\n",
       "      <td>85.12</td>\n",
       "      <td>96.98</td>\n",
       "      <td>267.6</td>\n",
       "    </tr>\n",
       "    <tr>\n",
       "      <th>bmi</th>\n",
       "      <td>15304.0</td>\n",
       "      <td>28.112721</td>\n",
       "      <td>6.722315</td>\n",
       "      <td>10.30</td>\n",
       "      <td>23.50</td>\n",
       "      <td>27.60</td>\n",
       "      <td>32.00</td>\n",
       "      <td>80.1</td>\n",
       "    </tr>\n",
       "    <tr>\n",
       "      <th>stroke</th>\n",
       "      <td>15304.0</td>\n",
       "      <td>0.041296</td>\n",
       "      <td>0.198981</td>\n",
       "      <td>0.00</td>\n",
       "      <td>0.00</td>\n",
       "      <td>0.00</td>\n",
       "      <td>0.00</td>\n",
       "      <td>1.0</td>\n",
       "    </tr>\n",
       "  </tbody>\n",
       "</table>\n",
       "</div>"
      ],
      "text/plain": [
       "                     count         mean          std    min      25%      50%  \\\n",
       "id                 15304.0  7651.500000  4418.028595   0.00  3825.75  7651.50   \n",
       "age                15304.0    41.417708    21.444673   0.08    26.00    43.00   \n",
       "hypertension       15304.0     0.049726     0.217384   0.00     0.00     0.00   \n",
       "heart_disease      15304.0     0.023327     0.150946   0.00     0.00     0.00   \n",
       "avg_glucose_level  15304.0    89.039853    25.476102  55.22    74.90    85.12   \n",
       "bmi                15304.0    28.112721     6.722315  10.30    23.50    27.60   \n",
       "stroke             15304.0     0.041296     0.198981   0.00     0.00     0.00   \n",
       "\n",
       "                        75%      max  \n",
       "id                 11477.25  15303.0  \n",
       "age                   57.00     82.0  \n",
       "hypertension           0.00      1.0  \n",
       "heart_disease          0.00      1.0  \n",
       "avg_glucose_level     96.98    267.6  \n",
       "bmi                   32.00     80.1  \n",
       "stroke                 0.00      1.0  "
      ]
     },
     "execution_count": 9,
     "metadata": {},
     "output_type": "execute_result"
    }
   ],
   "source": [
    "train_df.describe().T"
   ]
  },
  {
   "cell_type": "code",
   "execution_count": 10,
   "id": "a5c71e62",
   "metadata": {},
   "outputs": [
    {
     "data": {
      "text/plain": [
       "id                   15304\n",
       "gender                   3\n",
       "age                    106\n",
       "hypertension             2\n",
       "heart_disease            2\n",
       "ever_married             2\n",
       "work_type                5\n",
       "Residence_type           2\n",
       "avg_glucose_level     3740\n",
       "bmi                    407\n",
       "smoking_status           4\n",
       "stroke                   2\n",
       "dtype: int64"
      ]
     },
     "execution_count": 10,
     "metadata": {},
     "output_type": "execute_result"
    }
   ],
   "source": [
    "train_df.nunique()"
   ]
  },
  {
   "cell_type": "code",
   "execution_count": 12,
   "id": "d8139498",
   "metadata": {},
   "outputs": [
    {
     "data": {
      "text/plain": [
       "0"
      ]
     },
     "execution_count": 12,
     "metadata": {},
     "output_type": "execute_result"
    }
   ],
   "source": [
    "train_df.duplicated().sum()"
   ]
  },
  {
   "cell_type": "code",
   "execution_count": 16,
   "id": "957376ef",
   "metadata": {},
   "outputs": [
    {
     "data": {
      "text/plain": [
       "[0.08, 0.16, 0.24, 0.32, 0.4, 0.48, 0.56, 0.64, 0.68, 0.72, 0.8, 0.88]"
      ]
     },
     "execution_count": 16,
     "metadata": {},
     "output_type": "execute_result"
    }
   ],
   "source": [
    "# Data Cleaning\n",
    "\n",
    "sorted(train_df['age'].unique().tolist())[0:12]"
   ]
  },
  {
   "cell_type": "code",
   "execution_count": 17,
   "id": "bdc9e392",
   "metadata": {},
   "outputs": [],
   "source": [
    "train_df['age'] = np.ceil(train_df['age'])\n",
    "test_df['age'] = np.ceil(test_df['age'])"
   ]
  },
  {
   "cell_type": "code",
   "execution_count": 18,
   "id": "fedee3b8",
   "metadata": {},
   "outputs": [
    {
     "data": {
      "text/plain": [
       "Female    9446\n",
       "Male      5857\n",
       "Other        1\n",
       "Name: gender, dtype: int64"
      ]
     },
     "execution_count": 18,
     "metadata": {},
     "output_type": "execute_result"
    }
   ],
   "source": [
    "train_df['gender'].value_counts()"
   ]
  },
  {
   "cell_type": "code",
   "execution_count": 19,
   "id": "92a71242",
   "metadata": {},
   "outputs": [],
   "source": [
    "train_df.drop(train_df[train_df['gender']=='Other'].index, inplace=True)\n",
    "test_df.drop(test_df[test_df['gender']=='Other'].index, inplace=True)"
   ]
  },
  {
   "cell_type": "code",
   "execution_count": 30,
   "id": "063a7fbf",
   "metadata": {},
   "outputs": [],
   "source": [
    "# Exploratory Data Analysis(EDA)\n",
    "import matplotlib.pyplot as plt\n",
    "import seaborn as sns\n",
    "import plotly.express as px\n",
    "import plotly.graph_objects as go\n",
    "import plotly.subplots as sp\n",
    "\n",
    "sns.set_style(\"darkgrid\")"
   ]
  },
  {
   "cell_type": "code",
   "execution_count": 21,
   "id": "a51fa94e",
   "metadata": {},
   "outputs": [],
   "source": [
    "plot_color = ['#008080', 'black']\n",
    "sns.set_palette(['#008080', 'black'])"
   ]
  },
  {
   "cell_type": "code",
   "execution_count": 22,
   "id": "aa1e76e6",
   "metadata": {},
   "outputs": [],
   "source": [
    "# Filter data for stroke & Non Stroke\n",
    "no_stroke_data = train_df[train_df['stroke'] == 0 ]\n",
    "stroke_data = train_df[train_df['stroke'] == 1 ]"
   ]
  },
  {
   "cell_type": "code",
   "execution_count": 23,
   "id": "c341fbee",
   "metadata": {},
   "outputs": [],
   "source": [
    "# Univariate Analysis\n",
    "\n",
    "stroke_count = train_df['stroke'].value_counts()"
   ]
  },
  {
   "cell_type": "code",
   "execution_count": 24,
   "id": "2f8759c2",
   "metadata": {},
   "outputs": [
    {
     "data": {
      "text/plain": [
       "0    14671\n",
       "1      632\n",
       "Name: stroke, dtype: int64"
      ]
     },
     "execution_count": 24,
     "metadata": {},
     "output_type": "execute_result"
    }
   ],
   "source": [
    "stroke_count"
   ]
  },
  {
   "cell_type": "code",
   "execution_count": 25,
   "id": "006739ce",
   "metadata": {},
   "outputs": [
    {
     "data": {
      "image/svg+xml": [
       "<svg class=\"main-svg\" xmlns=\"http://www.w3.org/2000/svg\" xmlns:xlink=\"http://www.w3.org/1999/xlink\" width=\"700\" height=\"500\" style=\"\" viewBox=\"0 0 700 500\"><rect x=\"0\" y=\"0\" width=\"700\" height=\"500\" style=\"fill: rgb(255, 255, 255); fill-opacity: 1;\"/><defs id=\"defs-765114\"><g class=\"clips\"/><g class=\"gradients\"/><g class=\"patterns\"/></defs><g class=\"bglayer\"/><g class=\"layer-below\"><g class=\"imagelayer\"/><g class=\"shapelayer\"/></g><g class=\"cartesianlayer\"/><g class=\"polarlayer\"/><g class=\"ternarylayer\"/><g class=\"geolayer\"/><g class=\"funnelarealayer\"/><g class=\"pielayer\"><g class=\"trace\" stroke-linejoin=\"round\" style=\"opacity: 1;\"><g class=\"slice\"><path class=\"surface\" d=\"M328.5,260l0,-160a160,160 0 1 1 -41.05400172761779,5.356639514821836Z\" style=\"pointer-events: all; stroke-width: 0; fill: rgb(0, 128, 128); fill-opacity: 1; stroke: rgb(68, 68, 68); stroke-opacity: 1;\"/><g class=\"slicetext\"><text data-notex=\"1\" class=\"slicetext\" transform=\"translate(338.81143460383214,343.8275942513295)\" text-anchor=\"middle\" x=\"0\" y=\"0\" style=\"font-family: 'Open Sans', verdana, arial, sans-serif; font-size: 12px; fill: rgb(255, 255, 255); fill-opacity: 1; white-space: pre;\">95.9%</text></g></g><g class=\"slice\"><path class=\"surface\" d=\"M328.5,260l-41.05400172761775,-154.64336048517816a160,160 0 0 1 41.05400172761775,-5.356639514821836Z\" style=\"pointer-events: all; stroke-width: 0; fill: rgb(0, 0, 0); fill-opacity: 1; stroke: rgb(68, 68, 68); stroke-opacity: 1;\"/><g class=\"slicetext\"><text data-notex=\"1\" class=\"slicetext\" transform=\"translate(307.64361904197773,134.93484484818828)rotate(82.5661634973535)\" text-anchor=\"middle\" x=\"0\" y=\"0\" style=\"font-family: 'Open Sans', verdana, arial, sans-serif; font-size: 12px; fill: rgb(255, 255, 255); fill-opacity: 1; white-space: pre;\">4.13%</text></g></g></g></g><g class=\"iciclelayer\"/><g class=\"treemaplayer\"/><g class=\"sunburstlayer\"/><g class=\"glimages\"/><defs id=\"topdefs-765114\"><g class=\"clips\"/><clipPath id=\"legend765114\"><rect width=\"101\" height=\"67\" x=\"0\" y=\"0\"/></clipPath></defs><g class=\"layer-above\"><g class=\"imagelayer\"/><g class=\"shapelayer\"/></g><g class=\"infolayer\"><g class=\"legend\" pointer-events=\"all\" transform=\"translate(586.94,100)\"><rect class=\"bg\" shape-rendering=\"crispEdges\" style=\"stroke: rgb(68, 68, 68); stroke-opacity: 1; fill: rgb(255, 255, 255); fill-opacity: 1; stroke-width: 0px;\" width=\"101\" height=\"67\" x=\"0\" y=\"0\"/><g class=\"scrollbox\" transform=\"\" clip-path=\"url(#legend765114)\"><text class=\"legendtitletext\" text-anchor=\"start\" x=\"2\" y=\"18.2\" style=\"font-family: 'Open Sans', verdana, arial, sans-serif; font-size: 14px; fill: rgb(42, 63, 95); fill-opacity: 1; white-space: pre;\">Stroke Status</text><g class=\"groups\"><g class=\"traces\" transform=\"translate(0,32.7)\" style=\"opacity: 1;\"><text class=\"legendtext\" text-anchor=\"start\" x=\"40\" y=\"4.680000000000001\" style=\"font-family: 'Open Sans', verdana, arial, sans-serif; font-size: 12px; fill: rgb(42, 63, 95); fill-opacity: 1; white-space: pre;\">No</text><g class=\"layers\" style=\"opacity: 1;\"><g class=\"legendfill\"/><g class=\"legendlines\"/><g class=\"legendsymbols\"><g class=\"legendpoints\"><path class=\"legendpie\" d=\"M6,6H-6V-6H6Z\" transform=\"translate(20,0)\" style=\"stroke-width: 0; fill: rgb(0, 128, 128); fill-opacity: 1; stroke: rgb(68, 68, 68); stroke-opacity: 1;\"/></g></g></g><rect class=\"legendtoggle\" x=\"0\" y=\"-9.5\" width=\"61.78125\" height=\"19\" style=\"fill: rgb(0, 0, 0); fill-opacity: 0;\"/></g><g class=\"traces\" transform=\"translate(0,51.7)\" style=\"opacity: 1;\"><text class=\"legendtext\" text-anchor=\"start\" x=\"40\" y=\"4.680000000000001\" style=\"font-family: 'Open Sans', verdana, arial, sans-serif; font-size: 12px; fill: rgb(42, 63, 95); fill-opacity: 1; white-space: pre;\">Yes</text><g class=\"layers\" style=\"opacity: 1;\"><g class=\"legendfill\"/><g class=\"legendlines\"/><g class=\"legendsymbols\"><g class=\"legendpoints\"><path class=\"legendpie\" d=\"M6,6H-6V-6H6Z\" transform=\"translate(20,0)\" style=\"stroke-width: 0; fill: rgb(0, 0, 0); fill-opacity: 1; stroke: rgb(68, 68, 68); stroke-opacity: 1;\"/></g></g></g><rect class=\"legendtoggle\" x=\"0\" y=\"-9.5\" width=\"61.78125\" height=\"19\" style=\"fill: rgb(0, 0, 0); fill-opacity: 0;\"/></g></g></g><rect class=\"scrollbar\" rx=\"20\" ry=\"3\" width=\"0\" height=\"0\" style=\"fill: rgb(128, 139, 164); fill-opacity: 1;\" x=\"0\" y=\"0\"/></g><g class=\"g-gtitle\"><text class=\"gtitle\" x=\"210\" y=\"25\" text-anchor=\"start\" dy=\"0.7em\" style=\"font-family: 'Open Sans', verdana, arial, sans-serif; font-size: 17px; fill: rgb(42, 63, 95); opacity: 1; font-weight: normal; white-space: pre;\">Proportion of Stroke Cases</text></g></g></svg>"
      ]
     },
     "metadata": {},
     "output_type": "display_data"
    }
   ],
   "source": [
    "fig = px.pie(\n",
    "    stroke_count, values=stroke_count.values, names=['No', 'Yes'], \n",
    "    title = 'Proportion of Stroke Cases', \n",
    "    color_discrete_sequence=plot_color)\n",
    "\n",
    "fig.update_layout(legend_title_text = 'Stroke Status', title_x=0.3, title_y = 0.95)\n",
    "fig.show('svg')"
   ]
  },
  {
   "cell_type": "code",
   "execution_count": 35,
   "id": "26c252e4",
   "metadata": {},
   "outputs": [],
   "source": [
    "# Bivariate Analysis\n",
    "def custom_historgram(columns:str, titles:list)->go.Figure:\n",
    "    fig = sp.make_subplots(rows=1, cols=2, subplot_titles = ['No Stroke', 'Yes Stroke'])\n",
    "    histogram_no_stroke = px.histogram(no_stroke_data, x = columns, color_discrete_sequence=['#008080'])\n",
    "    histogram_stroke = px.histogram(stroke_data, x = columns, color_discrete_sequence=['black'])\n",
    "    fig.add_trace(histogram_no_stroke['data'][0], row=1, col=1)\n",
    "    fig.add_trace(histogram_stroke['data'][0], row=1, col=2)\n",
    "    fig.update_layout(title = titles[0], title_x = 0.5)\n",
    "    fig.update_xaxes(title_text = titles[1])\n",
    "    fig.update_yaxes(title_text = 'Count')\n",
    "    return fig"
   ]
  },
  {
   "cell_type": "code",
   "execution_count": 36,
   "id": "48be8e29",
   "metadata": {},
   "outputs": [
    {
     "data": {
      "image/svg+xml": [
       "<svg class=\"main-svg\" xmlns=\"http://www.w3.org/2000/svg\" xmlns:xlink=\"http://www.w3.org/1999/xlink\" width=\"700\" height=\"500\" style=\"\" viewBox=\"0 0 700 500\"><rect x=\"0\" y=\"0\" width=\"700\" height=\"500\" style=\"fill: rgb(255, 255, 255); fill-opacity: 1;\"/><defs id=\"defs-ad5f52\"><g class=\"clips\"><clipPath id=\"clipad5f52xyplot\" class=\"plotclip\"><rect width=\"243\" height=\"320\"/></clipPath><clipPath id=\"clipad5f52x2y2plot\" class=\"plotclip\"><rect width=\"242.99999999999997\" height=\"320\"/></clipPath><clipPath class=\"axesclip\" id=\"clipad5f52x\"><rect x=\"80\" y=\"0\" width=\"243\" height=\"500\"/></clipPath><clipPath class=\"axesclip\" id=\"clipad5f52y\"><rect x=\"0\" y=\"100\" width=\"700\" height=\"320\"/></clipPath><clipPath class=\"axesclip\" id=\"clipad5f52xy\"><rect x=\"80\" y=\"100\" width=\"243\" height=\"320\"/></clipPath><clipPath class=\"axesclip\" id=\"clipad5f52y2\"><rect x=\"0\" y=\"100\" width=\"700\" height=\"320\"/></clipPath><clipPath class=\"axesclip\" id=\"clipad5f52xy2\"><rect x=\"80\" y=\"100\" width=\"243\" height=\"320\"/></clipPath><clipPath class=\"axesclip\" id=\"clipad5f52x2\"><rect x=\"377\" y=\"0\" width=\"242.99999999999997\" height=\"500\"/></clipPath><clipPath class=\"axesclip\" id=\"clipad5f52x2y\"><rect x=\"377\" y=\"100\" width=\"242.99999999999997\" height=\"320\"/></clipPath><clipPath class=\"axesclip\" id=\"clipad5f52x2y2\"><rect x=\"377\" y=\"100\" width=\"242.99999999999997\" height=\"320\"/></clipPath></g><g class=\"gradients\"/><g class=\"patterns\"/></defs><g class=\"bglayer\"><rect class=\"bg\" x=\"80\" y=\"100\" width=\"243\" height=\"320\" style=\"fill: rgb(229, 236, 246); fill-opacity: 1; stroke-width: 0;\"/><rect class=\"bg\" x=\"377\" y=\"100\" width=\"242.99999999999997\" height=\"320\" style=\"fill: rgb(229, 236, 246); fill-opacity: 1; stroke-width: 0;\"/></g><g class=\"layer-below\"><g class=\"imagelayer\"/><g class=\"shapelayer\"/></g><g class=\"cartesianlayer\"><g class=\"subplot xy\"><g class=\"layer-subplot\"><g class=\"shapelayer\"/><g class=\"imagelayer\"/></g><g class=\"gridlayer\"><g class=\"x\"/><g class=\"y\"><path class=\"ygrid crisp\" transform=\"translate(0,384.32)\" d=\"M80,0h243\" style=\"stroke: rgb(255, 255, 255); stroke-opacity: 1; stroke-width: 1px;\"/><path class=\"ygrid crisp\" transform=\"translate(0,348.64)\" d=\"M80,0h243\" style=\"stroke: rgb(255, 255, 255); stroke-opacity: 1; stroke-width: 1px;\"/><path class=\"ygrid crisp\" transform=\"translate(0,312.96000000000004)\" d=\"M80,0h243\" style=\"stroke: rgb(255, 255, 255); stroke-opacity: 1; stroke-width: 1px;\"/><path class=\"ygrid crisp\" transform=\"translate(0,277.28)\" d=\"M80,0h243\" style=\"stroke: rgb(255, 255, 255); stroke-opacity: 1; stroke-width: 1px;\"/><path class=\"ygrid crisp\" transform=\"translate(0,241.6)\" d=\"M80,0h243\" style=\"stroke: rgb(255, 255, 255); stroke-opacity: 1; stroke-width: 1px;\"/><path class=\"ygrid crisp\" transform=\"translate(0,205.92000000000002)\" d=\"M80,0h243\" style=\"stroke: rgb(255, 255, 255); stroke-opacity: 1; stroke-width: 1px;\"/><path class=\"ygrid crisp\" transform=\"translate(0,170.23000000000002)\" d=\"M80,0h243\" style=\"stroke: rgb(255, 255, 255); stroke-opacity: 1; stroke-width: 1px;\"/><path class=\"ygrid crisp\" transform=\"translate(0,134.55)\" d=\"M80,0h243\" style=\"stroke: rgb(255, 255, 255); stroke-opacity: 1; stroke-width: 1px;\"/></g></g><g class=\"zerolinelayer\"><path class=\"yzl zl crisp\" transform=\"translate(0,420)\" d=\"M80,0h243\" style=\"stroke: rgb(255, 255, 255); stroke-opacity: 1; stroke-width: 2px;\"/></g><path class=\"xlines-below\"/><path class=\"ylines-below\"/><g class=\"overlines-below\"/><g class=\"xaxislayer-below\"/><g class=\"yaxislayer-below\"/><g class=\"overaxes-below\"/><g class=\"plot\" transform=\"translate(80,100)\" clip-path=\"url(#clipad5f52xyplot)\"><g class=\"barlayer mlayer\"><g class=\"trace bars\" shape-rendering=\"crispEdges\" style=\"opacity: 1;\"><g class=\"points\"><g class=\"point\"><path d=\"M0,320V308.23H2.27V320Z\" style=\"vector-effect: non-scaling-stroke; opacity: 1; stroke-width: 0px; fill: rgb(0, 128, 128); fill-opacity: 1;\"/></g><g class=\"point\"><path d=\"M2.27,320V202.97H4.54V320Z\" style=\"vector-effect: non-scaling-stroke; opacity: 1; stroke-width: 0px; fill: rgb(0, 128, 128); fill-opacity: 1;\"/></g><g class=\"point\"><path d=\"M4.54,320V241.15H6.81V320Z\" style=\"vector-effect: non-scaling-stroke; opacity: 1; stroke-width: 0px; fill: rgb(0, 128, 128); fill-opacity: 1;\"/></g><g class=\"point\"><path d=\"M6.81,320V227.59H9.08V320Z\" style=\"vector-effect: non-scaling-stroke; opacity: 1; stroke-width: 0px; fill: rgb(0, 128, 128); fill-opacity: 1;\"/></g><g class=\"point\"><path d=\"M9.08,320V210.82H11.36V320Z\" style=\"vector-effect: non-scaling-stroke; opacity: 1; stroke-width: 0px; fill: rgb(0, 128, 128); fill-opacity: 1;\"/></g><g class=\"point\"><path d=\"M11.36,320V180.49H13.63V320Z\" style=\"vector-effect: non-scaling-stroke; opacity: 1; stroke-width: 0px; fill: rgb(0, 128, 128); fill-opacity: 1;\"/></g><g class=\"point\"><path d=\"M13.63,320V231.51H15.9V320Z\" style=\"vector-effect: non-scaling-stroke; opacity: 1; stroke-width: 0px; fill: rgb(0, 128, 128); fill-opacity: 1;\"/></g><g class=\"point\"><path d=\"M15.9,320V129.46H18.17V320Z\" style=\"vector-effect: non-scaling-stroke; opacity: 1; stroke-width: 0px; fill: rgb(0, 128, 128); fill-opacity: 1;\"/></g><g class=\"point\"><path d=\"M18.17,320V135.53H20.44V320Z\" style=\"vector-effect: non-scaling-stroke; opacity: 1; stroke-width: 0px; fill: rgb(0, 128, 128); fill-opacity: 1;\"/></g><g class=\"point\"><path d=\"M20.44,320V115.19H22.71V320Z\" style=\"vector-effect: non-scaling-stroke; opacity: 1; stroke-width: 0px; fill: rgb(0, 128, 128); fill-opacity: 1;\"/></g><g class=\"point\"><path d=\"M22.71,320V110.2H24.98V320Z\" style=\"vector-effect: non-scaling-stroke; opacity: 1; stroke-width: 0px; fill: rgb(0, 128, 128); fill-opacity: 1;\"/></g><g class=\"point\"><path d=\"M24.98,320V87H27.25V320Z\" style=\"vector-effect: non-scaling-stroke; opacity: 1; stroke-width: 0px; fill: rgb(0, 128, 128); fill-opacity: 1;\"/></g><g class=\"point\"><path d=\"M27.25,320V78.08H29.52V320Z\" style=\"vector-effect: non-scaling-stroke; opacity: 1; stroke-width: 0px; fill: rgb(0, 128, 128); fill-opacity: 1;\"/></g><g class=\"point\"><path d=\"M29.52,320V69.52H31.79V320Z\" style=\"vector-effect: non-scaling-stroke; opacity: 1; stroke-width: 0px; fill: rgb(0, 128, 128); fill-opacity: 1;\"/></g><g class=\"point\"><path d=\"M31.79,320V16H34.07V320Z\" style=\"vector-effect: non-scaling-stroke; opacity: 1; stroke-width: 0px; fill: rgb(0, 128, 128); fill-opacity: 1;\"/></g><g class=\"point\"><path d=\"M34.07,320V37.41H36.34V320Z\" style=\"vector-effect: non-scaling-stroke; opacity: 1; stroke-width: 0px; fill: rgb(0, 128, 128); fill-opacity: 1;\"/></g><g class=\"point\"><path d=\"M36.34,320V75.94H38.61V320Z\" style=\"vector-effect: non-scaling-stroke; opacity: 1; stroke-width: 0px; fill: rgb(0, 128, 128); fill-opacity: 1;\"/></g><g class=\"point\"><path d=\"M38.61,320V106.99H40.88V320Z\" style=\"vector-effect: non-scaling-stroke; opacity: 1; stroke-width: 0px; fill: rgb(0, 128, 128); fill-opacity: 1;\"/></g><g class=\"point\"><path d=\"M40.88,320V70.59H43.15V320Z\" style=\"vector-effect: non-scaling-stroke; opacity: 1; stroke-width: 0px; fill: rgb(0, 128, 128); fill-opacity: 1;\"/></g><g class=\"point\"><path d=\"M43.15,320V93.07H45.42V320Z\" style=\"vector-effect: non-scaling-stroke; opacity: 1; stroke-width: 0px; fill: rgb(0, 128, 128); fill-opacity: 1;\"/></g><g class=\"point\"><path d=\"M45.42,320V124.83H47.69V320Z\" style=\"vector-effect: non-scaling-stroke; opacity: 1; stroke-width: 0px; fill: rgb(0, 128, 128); fill-opacity: 1;\"/></g><g class=\"point\"><path d=\"M47.69,320V131.96H49.96V320Z\" style=\"vector-effect: non-scaling-stroke; opacity: 1; stroke-width: 0px; fill: rgb(0, 128, 128); fill-opacity: 1;\"/></g><g class=\"point\"><path d=\"M49.96,320V147.66H52.23V320Z\" style=\"vector-effect: non-scaling-stroke; opacity: 1; stroke-width: 0px; fill: rgb(0, 128, 128); fill-opacity: 1;\"/></g><g class=\"point\"><path d=\"M52.23,320V165.5H54.5V320Z\" style=\"vector-effect: non-scaling-stroke; opacity: 1; stroke-width: 0px; fill: rgb(0, 128, 128); fill-opacity: 1;\"/></g><g class=\"point\"><path d=\"M54.5,320V183.34H56.78V320Z\" style=\"vector-effect: non-scaling-stroke; opacity: 1; stroke-width: 0px; fill: rgb(0, 128, 128); fill-opacity: 1;\"/></g><g class=\"point\"><path d=\"M56.78,320V230.8H59.05V320Z\" style=\"vector-effect: non-scaling-stroke; opacity: 1; stroke-width: 0px; fill: rgb(0, 128, 128); fill-opacity: 1;\"/></g><g class=\"point\"><path d=\"M59.05,320V216.88H61.32V320Z\" style=\"vector-effect: non-scaling-stroke; opacity: 1; stroke-width: 0px; fill: rgb(0, 128, 128); fill-opacity: 1;\"/></g><g class=\"point\"><path d=\"M61.32,320V266.84H63.59V320Z\" style=\"vector-effect: non-scaling-stroke; opacity: 1; stroke-width: 0px; fill: rgb(0, 128, 128); fill-opacity: 1;\"/></g><g class=\"point\"><path d=\"M63.59,320V205.46H65.86V320Z\" style=\"vector-effect: non-scaling-stroke; opacity: 1; stroke-width: 0px; fill: rgb(0, 128, 128); fill-opacity: 1;\"/></g><g class=\"point\"><path d=\"M65.86,320V242.22H68.13V320Z\" style=\"vector-effect: non-scaling-stroke; opacity: 1; stroke-width: 0px; fill: rgb(0, 128, 128); fill-opacity: 1;\"/></g><g class=\"point\"><path d=\"M68.13,320V288.96H70.4V320Z\" style=\"vector-effect: non-scaling-stroke; opacity: 1; stroke-width: 0px; fill: rgb(0, 128, 128); fill-opacity: 1;\"/></g><g class=\"point\"><path d=\"M70.4,320V304.66H72.67V320Z\" style=\"vector-effect: non-scaling-stroke; opacity: 1; stroke-width: 0px; fill: rgb(0, 128, 128); fill-opacity: 1;\"/></g><g class=\"point\"><path d=\"M72.67,320V307.15H74.94V320Z\" style=\"vector-effect: non-scaling-stroke; opacity: 1; stroke-width: 0px; fill: rgb(0, 128, 128); fill-opacity: 1;\"/></g><g class=\"point\"><path d=\"M74.94,320V307.15H77.21V320Z\" style=\"vector-effect: non-scaling-stroke; opacity: 1; stroke-width: 0px; fill: rgb(0, 128, 128); fill-opacity: 1;\"/></g><g class=\"point\"><path d=\"M77.21,320V300.73H79.49V320Z\" style=\"vector-effect: non-scaling-stroke; opacity: 1; stroke-width: 0px; fill: rgb(0, 128, 128); fill-opacity: 1;\"/></g><g class=\"point\"><path d=\"M79.49,320V302.16H81.76V320Z\" style=\"vector-effect: non-scaling-stroke; opacity: 1; stroke-width: 0px; fill: rgb(0, 128, 128); fill-opacity: 1;\"/></g><g class=\"point\"><path d=\"M81.76,320V312.15H84.03V320Z\" style=\"vector-effect: non-scaling-stroke; opacity: 1; stroke-width: 0px; fill: rgb(0, 128, 128); fill-opacity: 1;\"/></g><g class=\"point\"><path d=\"M84.03,320V314.65H86.3V320Z\" style=\"vector-effect: non-scaling-stroke; opacity: 1; stroke-width: 0px; fill: rgb(0, 128, 128); fill-opacity: 1;\"/></g><g class=\"point\"><path d=\"M86.3,320V314.29H88.57V320Z\" style=\"vector-effect: non-scaling-stroke; opacity: 1; stroke-width: 0px; fill: rgb(0, 128, 128); fill-opacity: 1;\"/></g><g class=\"point\"><path d=\"M88.57,320V317.86H90.84V320Z\" style=\"vector-effect: non-scaling-stroke; opacity: 1; stroke-width: 0px; fill: rgb(0, 128, 128); fill-opacity: 1;\"/></g><g class=\"point\"><path d=\"M90.84,320V312.86H93.11V320Z\" style=\"vector-effect: non-scaling-stroke; opacity: 1; stroke-width: 0px; fill: rgb(0, 128, 128); fill-opacity: 1;\"/></g><g class=\"point\"><path d=\"M93.11,320V319.29H95.38V320Z\" style=\"vector-effect: non-scaling-stroke; opacity: 1; stroke-width: 0px; fill: rgb(0, 128, 128); fill-opacity: 1;\"/></g><g class=\"point\"><path d=\"M95.38,320V317.5H97.65V320Z\" style=\"vector-effect: non-scaling-stroke; opacity: 1; stroke-width: 0px; fill: rgb(0, 128, 128); fill-opacity: 1;\"/></g><g class=\"point\"><path d=\"M97.65,320V313.58H99.93V320Z\" style=\"vector-effect: non-scaling-stroke; opacity: 1; stroke-width: 0px; fill: rgb(0, 128, 128); fill-opacity: 1;\"/></g><g class=\"point\"><path d=\"M99.93,320V317.15H102.2V320Z\" style=\"vector-effect: non-scaling-stroke; opacity: 1; stroke-width: 0px; fill: rgb(0, 128, 128); fill-opacity: 1;\"/></g><g class=\"point\"><path d=\"M102.2,320V315H104.47V320Z\" style=\"vector-effect: non-scaling-stroke; opacity: 1; stroke-width: 0px; fill: rgb(0, 128, 128); fill-opacity: 1;\"/></g><g class=\"point\"><path d=\"M104.47,320V315.36H106.74V320Z\" style=\"vector-effect: non-scaling-stroke; opacity: 1; stroke-width: 0px; fill: rgb(0, 128, 128); fill-opacity: 1;\"/></g><g class=\"point\"><path d=\"M106.74,320V317.86H109.01V320Z\" style=\"vector-effect: non-scaling-stroke; opacity: 1; stroke-width: 0px; fill: rgb(0, 128, 128); fill-opacity: 1;\"/></g><g class=\"point\"><path d=\"M109.01,320V319.64H111.28V320Z\" style=\"vector-effect: non-scaling-stroke; opacity: 1; stroke-width: 0px; fill: rgb(0, 128, 128); fill-opacity: 1;\"/></g><g class=\"point\"><path d=\"M111.28,320V317.86H113.55V320Z\" style=\"vector-effect: non-scaling-stroke; opacity: 1; stroke-width: 0px; fill: rgb(0, 128, 128); fill-opacity: 1;\"/></g><g class=\"point\"><path d=\"M113.55,320V319.64H115.82V320Z\" style=\"vector-effect: non-scaling-stroke; opacity: 1; stroke-width: 0px; fill: rgb(0, 128, 128); fill-opacity: 1;\"/></g><g class=\"point\"><path d=\"M115.82,320V318.22H118.09V320Z\" style=\"vector-effect: non-scaling-stroke; opacity: 1; stroke-width: 0px; fill: rgb(0, 128, 128); fill-opacity: 1;\"/></g><g class=\"point\"><path d=\"M118.09,320V317.5H120.36V320Z\" style=\"vector-effect: non-scaling-stroke; opacity: 1; stroke-width: 0px; fill: rgb(0, 128, 128); fill-opacity: 1;\"/></g><g class=\"point\"><path d=\"M120.36,320V317.86H122.64V320Z\" style=\"vector-effect: non-scaling-stroke; opacity: 1; stroke-width: 0px; fill: rgb(0, 128, 128); fill-opacity: 1;\"/></g><g class=\"point\"><path d=\"M122.64,320V316.79H124.91V320Z\" style=\"vector-effect: non-scaling-stroke; opacity: 1; stroke-width: 0px; fill: rgb(0, 128, 128); fill-opacity: 1;\"/></g><g class=\"point\"><path d=\"M124.91,320V319.64H127.18V320Z\" style=\"vector-effect: non-scaling-stroke; opacity: 1; stroke-width: 0px; fill: rgb(0, 128, 128); fill-opacity: 1;\"/></g><g class=\"point\"><path d=\"M127.18,320V319.64H129.45V320Z\" style=\"vector-effect: non-scaling-stroke; opacity: 1; stroke-width: 0px; fill: rgb(0, 128, 128); fill-opacity: 1;\"/></g><g class=\"point\"><path d=\"M129.45,320V318.93H131.72V320Z\" style=\"vector-effect: non-scaling-stroke; opacity: 1; stroke-width: 0px; fill: rgb(0, 128, 128); fill-opacity: 1;\"/></g><g class=\"point\"><path d=\"M131.72,320V318.22H133.99V320Z\" style=\"vector-effect: non-scaling-stroke; opacity: 1; stroke-width: 0px; fill: rgb(0, 128, 128); fill-opacity: 1;\"/></g><g class=\"point\"><path d=\"M133.99,320V317.86H136.26V320Z\" style=\"vector-effect: non-scaling-stroke; opacity: 1; stroke-width: 0px; fill: rgb(0, 128, 128); fill-opacity: 1;\"/></g><g class=\"point\"><path d=\"M136.26,320V318.93H138.53V320Z\" style=\"vector-effect: non-scaling-stroke; opacity: 1; stroke-width: 0px; fill: rgb(0, 128, 128); fill-opacity: 1;\"/></g><g class=\"point\"><path d=\"M138.53,320V318.93H140.8V320Z\" style=\"vector-effect: non-scaling-stroke; opacity: 1; stroke-width: 0px; fill: rgb(0, 128, 128); fill-opacity: 1;\"/></g><g class=\"point\"><path d=\"M140.8,320V318.57H143.07V320Z\" style=\"vector-effect: non-scaling-stroke; opacity: 1; stroke-width: 0px; fill: rgb(0, 128, 128); fill-opacity: 1;\"/></g><g class=\"point\"><path d=\"M0,0Z\" style=\"vector-effect: non-scaling-stroke; opacity: 1; stroke-width: 0px; fill: rgb(0, 128, 128); fill-opacity: 1;\"/></g><g class=\"point\"><path d=\"M145.35,320V318.22H147.62V320Z\" style=\"vector-effect: non-scaling-stroke; opacity: 1; stroke-width: 0px; fill: rgb(0, 128, 128); fill-opacity: 1;\"/></g><g class=\"point\"><path d=\"M147.62,320V317.86H149.89V320Z\" style=\"vector-effect: non-scaling-stroke; opacity: 1; stroke-width: 0px; fill: rgb(0, 128, 128); fill-opacity: 1;\"/></g><g class=\"point\"><path d=\"M149.89,320V318.57H152.16V320Z\" style=\"vector-effect: non-scaling-stroke; opacity: 1; stroke-width: 0px; fill: rgb(0, 128, 128); fill-opacity: 1;\"/></g><g class=\"point\"><path d=\"M152.16,320V318.57H154.43V320Z\" style=\"vector-effect: non-scaling-stroke; opacity: 1; stroke-width: 0px; fill: rgb(0, 128, 128); fill-opacity: 1;\"/></g><g class=\"point\"><path d=\"M154.43,320V317.5H156.7V320Z\" style=\"vector-effect: non-scaling-stroke; opacity: 1; stroke-width: 0px; fill: rgb(0, 128, 128); fill-opacity: 1;\"/></g><g class=\"point\"><path d=\"M156.7,320V317.86H158.97V320Z\" style=\"vector-effect: non-scaling-stroke; opacity: 1; stroke-width: 0px; fill: rgb(0, 128, 128); fill-opacity: 1;\"/></g><g class=\"point\"><path d=\"M158.97,320V318.22H161.24V320Z\" style=\"vector-effect: non-scaling-stroke; opacity: 1; stroke-width: 0px; fill: rgb(0, 128, 128); fill-opacity: 1;\"/></g><g class=\"point\"><path d=\"M161.24,320V314.65H163.51V320Z\" style=\"vector-effect: non-scaling-stroke; opacity: 1; stroke-width: 0px; fill: rgb(0, 128, 128); fill-opacity: 1;\"/></g><g class=\"point\"><path d=\"M163.51,320V316.43H165.79V320Z\" style=\"vector-effect: non-scaling-stroke; opacity: 1; stroke-width: 0px; fill: rgb(0, 128, 128); fill-opacity: 1;\"/></g><g class=\"point\"><path d=\"M165.79,320V314.29H168.06V320Z\" style=\"vector-effect: non-scaling-stroke; opacity: 1; stroke-width: 0px; fill: rgb(0, 128, 128); fill-opacity: 1;\"/></g><g class=\"point\"><path d=\"M168.06,320V313.58H170.33V320Z\" style=\"vector-effect: non-scaling-stroke; opacity: 1; stroke-width: 0px; fill: rgb(0, 128, 128); fill-opacity: 1;\"/></g><g class=\"point\"><path d=\"M170.33,320V313.22H172.6V320Z\" style=\"vector-effect: non-scaling-stroke; opacity: 1; stroke-width: 0px; fill: rgb(0, 128, 128); fill-opacity: 1;\"/></g><g class=\"point\"><path d=\"M172.6,320V314.65H174.87V320Z\" style=\"vector-effect: non-scaling-stroke; opacity: 1; stroke-width: 0px; fill: rgb(0, 128, 128); fill-opacity: 1;\"/></g><g class=\"point\"><path d=\"M174.87,320V317.15H177.14V320Z\" style=\"vector-effect: non-scaling-stroke; opacity: 1; stroke-width: 0px; fill: rgb(0, 128, 128); fill-opacity: 1;\"/></g><g class=\"point\"><path d=\"M177.14,320V317.5H179.41V320Z\" style=\"vector-effect: non-scaling-stroke; opacity: 1; stroke-width: 0px; fill: rgb(0, 128, 128); fill-opacity: 1;\"/></g><g class=\"point\"><path d=\"M179.41,320V319.29H181.68V320Z\" style=\"vector-effect: non-scaling-stroke; opacity: 1; stroke-width: 0px; fill: rgb(0, 128, 128); fill-opacity: 1;\"/></g><g class=\"point\"><path d=\"M181.68,320V317.86H183.95V320Z\" style=\"vector-effect: non-scaling-stroke; opacity: 1; stroke-width: 0px; fill: rgb(0, 128, 128); fill-opacity: 1;\"/></g><g class=\"point\"><path d=\"M183.95,320V317.15H186.22V320Z\" style=\"vector-effect: non-scaling-stroke; opacity: 1; stroke-width: 0px; fill: rgb(0, 128, 128); fill-opacity: 1;\"/></g><g class=\"point\"><path d=\"M186.22,320V314.65H188.5V320Z\" style=\"vector-effect: non-scaling-stroke; opacity: 1; stroke-width: 0px; fill: rgb(0, 128, 128); fill-opacity: 1;\"/></g><g class=\"point\"><path d=\"M188.5,320V315.36H190.77V320Z\" style=\"vector-effect: non-scaling-stroke; opacity: 1; stroke-width: 0px; fill: rgb(0, 128, 128); fill-opacity: 1;\"/></g><g class=\"point\"><path d=\"M190.77,320V317.15H193.04V320Z\" style=\"vector-effect: non-scaling-stroke; opacity: 1; stroke-width: 0px; fill: rgb(0, 128, 128); fill-opacity: 1;\"/></g><g class=\"point\"><path d=\"M193.04,320V319.29H195.31V320Z\" style=\"vector-effect: non-scaling-stroke; opacity: 1; stroke-width: 0px; fill: rgb(0, 128, 128); fill-opacity: 1;\"/></g><g class=\"point\"><path d=\"M195.31,320V313.22H197.58V320Z\" style=\"vector-effect: non-scaling-stroke; opacity: 1; stroke-width: 0px; fill: rgb(0, 128, 128); fill-opacity: 1;\"/></g><g class=\"point\"><path d=\"M197.58,320V315.36H199.85V320Z\" style=\"vector-effect: non-scaling-stroke; opacity: 1; stroke-width: 0px; fill: rgb(0, 128, 128); fill-opacity: 1;\"/></g><g class=\"point\"><path d=\"M199.85,320V317.5H202.12V320Z\" style=\"vector-effect: non-scaling-stroke; opacity: 1; stroke-width: 0px; fill: rgb(0, 128, 128); fill-opacity: 1;\"/></g><g class=\"point\"><path d=\"M202.12,320V318.93H204.39V320Z\" style=\"vector-effect: non-scaling-stroke; opacity: 1; stroke-width: 0px; fill: rgb(0, 128, 128); fill-opacity: 1;\"/></g><g class=\"point\"><path d=\"M204.39,320V317.86H206.66V320Z\" style=\"vector-effect: non-scaling-stroke; opacity: 1; stroke-width: 0px; fill: rgb(0, 128, 128); fill-opacity: 1;\"/></g><g class=\"point\"><path d=\"M206.66,320V319.64H208.93V320Z\" style=\"vector-effect: non-scaling-stroke; opacity: 1; stroke-width: 0px; fill: rgb(0, 128, 128); fill-opacity: 1;\"/></g><g class=\"point\"><path d=\"M208.93,320V319.64H211.21V320Z\" style=\"vector-effect: non-scaling-stroke; opacity: 1; stroke-width: 0px; fill: rgb(0, 128, 128); fill-opacity: 1;\"/></g><g class=\"point\"><path d=\"M0,0Z\" style=\"vector-effect: non-scaling-stroke; opacity: 1; stroke-width: 0px; fill: rgb(0, 128, 128); fill-opacity: 1;\"/></g><g class=\"point\"><path d=\"M213.48,320V318.57H215.75V320Z\" style=\"vector-effect: non-scaling-stroke; opacity: 1; stroke-width: 0px; fill: rgb(0, 128, 128); fill-opacity: 1;\"/></g><g class=\"point\"><path d=\"M215.75,320V319.64H218.02V320Z\" style=\"vector-effect: non-scaling-stroke; opacity: 1; stroke-width: 0px; fill: rgb(0, 128, 128); fill-opacity: 1;\"/></g><g class=\"point\"><path d=\"M218.02,320V319.29H220.29V320Z\" style=\"vector-effect: non-scaling-stroke; opacity: 1; stroke-width: 0px; fill: rgb(0, 128, 128); fill-opacity: 1;\"/></g><g class=\"point\"><path d=\"M220.29,320V319.29H222.56V320Z\" style=\"vector-effect: non-scaling-stroke; opacity: 1; stroke-width: 0px; fill: rgb(0, 128, 128); fill-opacity: 1;\"/></g><g class=\"point\"><path d=\"M0,0Z\" style=\"vector-effect: non-scaling-stroke; opacity: 1; stroke-width: 0px; fill: rgb(0, 128, 128); fill-opacity: 1;\"/></g><g class=\"point\"><path d=\"M224.83,320V319.64H227.1V320Z\" style=\"vector-effect: non-scaling-stroke; opacity: 1; stroke-width: 0px; fill: rgb(0, 128, 128); fill-opacity: 1;\"/></g><g class=\"point\"><path d=\"M227.1,320V319.29H229.37V320Z\" style=\"vector-effect: non-scaling-stroke; opacity: 1; stroke-width: 0px; fill: rgb(0, 128, 128); fill-opacity: 1;\"/></g><g class=\"point\"><path d=\"M229.37,320V319.29H231.64V320Z\" style=\"vector-effect: non-scaling-stroke; opacity: 1; stroke-width: 0px; fill: rgb(0, 128, 128); fill-opacity: 1;\"/></g><g class=\"point\"><path d=\"M0,0Z\" style=\"vector-effect: non-scaling-stroke; opacity: 1; stroke-width: 0px; fill: rgb(0, 128, 128); fill-opacity: 1;\"/></g><g class=\"point\"><path d=\"M0,0Z\" style=\"vector-effect: non-scaling-stroke; opacity: 1; stroke-width: 0px; fill: rgb(0, 128, 128); fill-opacity: 1;\"/></g><g class=\"point\"><path d=\"M0,0Z\" style=\"vector-effect: non-scaling-stroke; opacity: 1; stroke-width: 0px; fill: rgb(0, 128, 128); fill-opacity: 1;\"/></g><g class=\"point\"><path d=\"M0,0Z\" style=\"vector-effect: non-scaling-stroke; opacity: 1; stroke-width: 0px; fill: rgb(0, 128, 128); fill-opacity: 1;\"/></g><g class=\"point\"><path d=\"M240.73,320V319.29H243V320Z\" style=\"vector-effect: non-scaling-stroke; opacity: 1; stroke-width: 0px; fill: rgb(0, 128, 128); fill-opacity: 1;\"/></g></g></g></g></g><g class=\"overplot\"/><path class=\"xlines-above crisp\" d=\"M0,0\" style=\"fill: none;\"/><path class=\"ylines-above crisp\" d=\"M0,0\" style=\"fill: none;\"/><g class=\"overlines-above\"/><g class=\"xaxislayer-above\"><g class=\"xtick\"><text text-anchor=\"middle\" x=\"0\" y=\"433\" transform=\"translate(132.23,0)\" style=\"font-family: 'Open Sans', verdana, arial, sans-serif; font-size: 12px; fill: rgb(42, 63, 95); fill-opacity: 1; white-space: pre; opacity: 1;\">100</text></g><g class=\"xtick\"><text text-anchor=\"middle\" x=\"0\" y=\"433\" style=\"font-family: 'Open Sans', verdana, arial, sans-serif; font-size: 12px; fill: rgb(42, 63, 95); fill-opacity: 1; white-space: pre; opacity: 1;\" transform=\"translate(189.01,0)\">150</text></g><g class=\"xtick\"><text text-anchor=\"middle\" x=\"0\" y=\"433\" style=\"font-family: 'Open Sans', verdana, arial, sans-serif; font-size: 12px; fill: rgb(42, 63, 95); fill-opacity: 1; white-space: pre; opacity: 1;\" transform=\"translate(245.79,0)\">200</text></g><g class=\"xtick\"><text text-anchor=\"middle\" x=\"0\" y=\"433\" style=\"font-family: 'Open Sans', verdana, arial, sans-serif; font-size: 12px; fill: rgb(42, 63, 95); fill-opacity: 1; white-space: pre; opacity: 1;\" transform=\"translate(302.56,0)\">250</text></g></g><g class=\"yaxislayer-above\"><g class=\"ytick\"><text text-anchor=\"end\" x=\"79\" y=\"4.199999999999999\" transform=\"translate(0,420)\" style=\"font-family: 'Open Sans', verdana, arial, sans-serif; font-size: 12px; fill: rgb(42, 63, 95); fill-opacity: 1; white-space: pre; opacity: 1;\">0</text></g><g class=\"ytick\"><text text-anchor=\"end\" x=\"79\" y=\"4.199999999999999\" style=\"font-family: 'Open Sans', verdana, arial, sans-serif; font-size: 12px; fill: rgb(42, 63, 95); fill-opacity: 1; white-space: pre; opacity: 1;\" transform=\"translate(0,384.32)\">100</text></g><g class=\"ytick\"><text text-anchor=\"end\" x=\"79\" y=\"4.199999999999999\" style=\"font-family: 'Open Sans', verdana, arial, sans-serif; font-size: 12px; fill: rgb(42, 63, 95); fill-opacity: 1; white-space: pre; opacity: 1;\" transform=\"translate(0,348.64)\">200</text></g><g class=\"ytick\"><text text-anchor=\"end\" x=\"79\" y=\"4.199999999999999\" style=\"font-family: 'Open Sans', verdana, arial, sans-serif; font-size: 12px; fill: rgb(42, 63, 95); fill-opacity: 1; white-space: pre; opacity: 1;\" transform=\"translate(0,312.96000000000004)\">300</text></g><g class=\"ytick\"><text text-anchor=\"end\" x=\"79\" y=\"4.199999999999999\" style=\"font-family: 'Open Sans', verdana, arial, sans-serif; font-size: 12px; fill: rgb(42, 63, 95); fill-opacity: 1; white-space: pre; opacity: 1;\" transform=\"translate(0,277.28)\">400</text></g><g class=\"ytick\"><text text-anchor=\"end\" x=\"79\" y=\"4.199999999999999\" style=\"font-family: 'Open Sans', verdana, arial, sans-serif; font-size: 12px; fill: rgb(42, 63, 95); fill-opacity: 1; white-space: pre; opacity: 1;\" transform=\"translate(0,241.6)\">500</text></g><g class=\"ytick\"><text text-anchor=\"end\" x=\"79\" y=\"4.199999999999999\" style=\"font-family: 'Open Sans', verdana, arial, sans-serif; font-size: 12px; fill: rgb(42, 63, 95); fill-opacity: 1; white-space: pre; opacity: 1;\" transform=\"translate(0,205.92000000000002)\">600</text></g><g class=\"ytick\"><text text-anchor=\"end\" x=\"79\" y=\"4.199999999999999\" style=\"font-family: 'Open Sans', verdana, arial, sans-serif; font-size: 12px; fill: rgb(42, 63, 95); fill-opacity: 1; white-space: pre; opacity: 1;\" transform=\"translate(0,170.23000000000002)\">700</text></g><g class=\"ytick\"><text text-anchor=\"end\" x=\"79\" y=\"4.199999999999999\" style=\"font-family: 'Open Sans', verdana, arial, sans-serif; font-size: 12px; fill: rgb(42, 63, 95); fill-opacity: 1; white-space: pre; opacity: 1;\" transform=\"translate(0,134.55)\">800</text></g></g><g class=\"overaxes-above\"/></g><g class=\"subplot x2y2\"><g class=\"layer-subplot\"><g class=\"shapelayer\"/><g class=\"imagelayer\"/></g><g class=\"gridlayer\"><g class=\"x2\"/><g class=\"y2\"><path class=\"y2grid crisp\" transform=\"translate(0,383.81)\" d=\"M377,0h242.99999999999997\" style=\"stroke: rgb(255, 255, 255); stroke-opacity: 1; stroke-width: 1px;\"/><path class=\"y2grid crisp\" transform=\"translate(0,347.62)\" d=\"M377,0h242.99999999999997\" style=\"stroke: rgb(255, 255, 255); stroke-opacity: 1; stroke-width: 1px;\"/><path class=\"y2grid crisp\" transform=\"translate(0,311.43)\" d=\"M377,0h242.99999999999997\" style=\"stroke: rgb(255, 255, 255); stroke-opacity: 1; stroke-width: 1px;\"/><path class=\"y2grid crisp\" transform=\"translate(0,275.24)\" d=\"M377,0h242.99999999999997\" style=\"stroke: rgb(255, 255, 255); stroke-opacity: 1; stroke-width: 1px;\"/><path class=\"y2grid crisp\" transform=\"translate(0,239.05)\" d=\"M377,0h242.99999999999997\" style=\"stroke: rgb(255, 255, 255); stroke-opacity: 1; stroke-width: 1px;\"/><path class=\"y2grid crisp\" transform=\"translate(0,202.86)\" d=\"M377,0h242.99999999999997\" style=\"stroke: rgb(255, 255, 255); stroke-opacity: 1; stroke-width: 1px;\"/><path class=\"y2grid crisp\" transform=\"translate(0,166.67000000000002)\" d=\"M377,0h242.99999999999997\" style=\"stroke: rgb(255, 255, 255); stroke-opacity: 1; stroke-width: 1px;\"/><path class=\"y2grid crisp\" transform=\"translate(0,130.48)\" d=\"M377,0h242.99999999999997\" style=\"stroke: rgb(255, 255, 255); stroke-opacity: 1; stroke-width: 1px;\"/></g></g><g class=\"zerolinelayer\"><path class=\"y2zl zl crisp\" transform=\"translate(0,420)\" d=\"M377,0h242.99999999999997\" style=\"stroke: rgb(255, 255, 255); stroke-opacity: 1; stroke-width: 2px;\"/></g><path class=\"xlines-below\"/><path class=\"ylines-below\"/><g class=\"overlines-below\"/><g class=\"xaxislayer-below\"/><g class=\"yaxislayer-below\"/><g class=\"overaxes-below\"/><g class=\"plot\" transform=\"translate(377,100)\" clip-path=\"url(#clipad5f52x2y2plot)\"><g class=\"barlayer mlayer\"><g class=\"trace bars\" shape-rendering=\"crispEdges\" style=\"opacity: 1;\"><g class=\"points\"><g class=\"point\"><path d=\"M0,320V225.9H2.29V320Z\" style=\"vector-effect: non-scaling-stroke; opacity: 1; stroke-width: 0px; fill: rgb(0, 0, 0); fill-opacity: 1;\"/></g><g class=\"point\"><path d=\"M2.29,320V182.48H4.58V320Z\" style=\"vector-effect: non-scaling-stroke; opacity: 1; stroke-width: 0px; fill: rgb(0, 0, 0); fill-opacity: 1;\"/></g><g class=\"point\"><path d=\"M4.58,320V240.38H6.88V320Z\" style=\"vector-effect: non-scaling-stroke; opacity: 1; stroke-width: 0px; fill: rgb(0, 0, 0); fill-opacity: 1;\"/></g><g class=\"point\"><path d=\"M6.88,320V283.81H9.17V320Z\" style=\"vector-effect: non-scaling-stroke; opacity: 1; stroke-width: 0px; fill: rgb(0, 0, 0); fill-opacity: 1;\"/></g><g class=\"point\"><path d=\"M9.17,320V283.81H11.46V320Z\" style=\"vector-effect: non-scaling-stroke; opacity: 1; stroke-width: 0px; fill: rgb(0, 0, 0); fill-opacity: 1;\"/></g><g class=\"point\"><path d=\"M11.46,320V276.57H13.75V320Z\" style=\"vector-effect: non-scaling-stroke; opacity: 1; stroke-width: 0px; fill: rgb(0, 0, 0); fill-opacity: 1;\"/></g><g class=\"point\"><path d=\"M13.75,320V204.19H16.05V320Z\" style=\"vector-effect: non-scaling-stroke; opacity: 1; stroke-width: 0px; fill: rgb(0, 0, 0); fill-opacity: 1;\"/></g><g class=\"point\"><path d=\"M16.05,320V168H18.34V320Z\" style=\"vector-effect: non-scaling-stroke; opacity: 1; stroke-width: 0px; fill: rgb(0, 0, 0); fill-opacity: 1;\"/></g><g class=\"point\"><path d=\"M18.34,320V196.95H20.63V320Z\" style=\"vector-effect: non-scaling-stroke; opacity: 1; stroke-width: 0px; fill: rgb(0, 0, 0); fill-opacity: 1;\"/></g><g class=\"point\"><path d=\"M20.63,320V16H22.92V320Z\" style=\"vector-effect: non-scaling-stroke; opacity: 1; stroke-width: 0px; fill: rgb(0, 0, 0); fill-opacity: 1;\"/></g><g class=\"point\"><path d=\"M22.92,320V139.05H25.22V320Z\" style=\"vector-effect: non-scaling-stroke; opacity: 1; stroke-width: 0px; fill: rgb(0, 0, 0); fill-opacity: 1;\"/></g><g class=\"point\"><path d=\"M25.22,320V44.95H27.51V320Z\" style=\"vector-effect: non-scaling-stroke; opacity: 1; stroke-width: 0px; fill: rgb(0, 0, 0); fill-opacity: 1;\"/></g><g class=\"point\"><path d=\"M27.51,320V175.24H29.8V320Z\" style=\"vector-effect: non-scaling-stroke; opacity: 1; stroke-width: 0px; fill: rgb(0, 0, 0); fill-opacity: 1;\"/></g><g class=\"point\"><path d=\"M29.8,320V139.05H32.09V320Z\" style=\"vector-effect: non-scaling-stroke; opacity: 1; stroke-width: 0px; fill: rgb(0, 0, 0); fill-opacity: 1;\"/></g><g class=\"point\"><path d=\"M32.09,320V189.71H34.39V320Z\" style=\"vector-effect: non-scaling-stroke; opacity: 1; stroke-width: 0px; fill: rgb(0, 0, 0); fill-opacity: 1;\"/></g><g class=\"point\"><path d=\"M34.39,320V160.76H36.68V320Z\" style=\"vector-effect: non-scaling-stroke; opacity: 1; stroke-width: 0px; fill: rgb(0, 0, 0); fill-opacity: 1;\"/></g><g class=\"point\"><path d=\"M36.68,320V225.9H38.97V320Z\" style=\"vector-effect: non-scaling-stroke; opacity: 1; stroke-width: 0px; fill: rgb(0, 0, 0); fill-opacity: 1;\"/></g><g class=\"point\"><path d=\"M38.97,320V110.1H41.26V320Z\" style=\"vector-effect: non-scaling-stroke; opacity: 1; stroke-width: 0px; fill: rgb(0, 0, 0); fill-opacity: 1;\"/></g><g class=\"point\"><path d=\"M41.26,320V139.05H43.56V320Z\" style=\"vector-effect: non-scaling-stroke; opacity: 1; stroke-width: 0px; fill: rgb(0, 0, 0); fill-opacity: 1;\"/></g><g class=\"point\"><path d=\"M43.56,320V175.24H45.85V320Z\" style=\"vector-effect: non-scaling-stroke; opacity: 1; stroke-width: 0px; fill: rgb(0, 0, 0); fill-opacity: 1;\"/></g><g class=\"point\"><path d=\"M45.85,320V146.29H48.14V320Z\" style=\"vector-effect: non-scaling-stroke; opacity: 1; stroke-width: 0px; fill: rgb(0, 0, 0); fill-opacity: 1;\"/></g><g class=\"point\"><path d=\"M48.14,320V218.67H50.43V320Z\" style=\"vector-effect: non-scaling-stroke; opacity: 1; stroke-width: 0px; fill: rgb(0, 0, 0); fill-opacity: 1;\"/></g><g class=\"point\"><path d=\"M50.43,320V182.48H52.73V320Z\" style=\"vector-effect: non-scaling-stroke; opacity: 1; stroke-width: 0px; fill: rgb(0, 0, 0); fill-opacity: 1;\"/></g><g class=\"point\"><path d=\"M52.73,320V211.43H55.02V320Z\" style=\"vector-effect: non-scaling-stroke; opacity: 1; stroke-width: 0px; fill: rgb(0, 0, 0); fill-opacity: 1;\"/></g><g class=\"point\"><path d=\"M55.02,320V233.14H57.31V320Z\" style=\"vector-effect: non-scaling-stroke; opacity: 1; stroke-width: 0px; fill: rgb(0, 0, 0); fill-opacity: 1;\"/></g><g class=\"point\"><path d=\"M57.31,320V254.86H59.6V320Z\" style=\"vector-effect: non-scaling-stroke; opacity: 1; stroke-width: 0px; fill: rgb(0, 0, 0); fill-opacity: 1;\"/></g><g class=\"point\"><path d=\"M59.6,320V283.81H61.9V320Z\" style=\"vector-effect: non-scaling-stroke; opacity: 1; stroke-width: 0px; fill: rgb(0, 0, 0); fill-opacity: 1;\"/></g><g class=\"point\"><path d=\"M61.9,320V247.62H64.19V320Z\" style=\"vector-effect: non-scaling-stroke; opacity: 1; stroke-width: 0px; fill: rgb(0, 0, 0); fill-opacity: 1;\"/></g><g class=\"point\"><path d=\"M64.19,320V291.05H66.48V320Z\" style=\"vector-effect: non-scaling-stroke; opacity: 1; stroke-width: 0px; fill: rgb(0, 0, 0); fill-opacity: 1;\"/></g><g class=\"point\"><path d=\"M66.48,320V305.52H68.77V320Z\" style=\"vector-effect: non-scaling-stroke; opacity: 1; stroke-width: 0px; fill: rgb(0, 0, 0); fill-opacity: 1;\"/></g><g class=\"point\"><path d=\"M68.77,320V247.62H71.07V320Z\" style=\"vector-effect: non-scaling-stroke; opacity: 1; stroke-width: 0px; fill: rgb(0, 0, 0); fill-opacity: 1;\"/></g><g class=\"point\"><path d=\"M0,0Z\" style=\"vector-effect: non-scaling-stroke; opacity: 1; stroke-width: 0px; fill: rgb(0, 0, 0); fill-opacity: 1;\"/></g><g class=\"point\"><path d=\"M73.36,320V312.76H75.65V320Z\" style=\"vector-effect: non-scaling-stroke; opacity: 1; stroke-width: 0px; fill: rgb(0, 0, 0); fill-opacity: 1;\"/></g><g class=\"point\"><path d=\"M75.65,320V305.52H77.94V320Z\" style=\"vector-effect: non-scaling-stroke; opacity: 1; stroke-width: 0px; fill: rgb(0, 0, 0); fill-opacity: 1;\"/></g><g class=\"point\"><path d=\"M77.94,320V298.29H80.24V320Z\" style=\"vector-effect: non-scaling-stroke; opacity: 1; stroke-width: 0px; fill: rgb(0, 0, 0); fill-opacity: 1;\"/></g><g class=\"point\"><path d=\"M0,0Z\" style=\"vector-effect: non-scaling-stroke; opacity: 1; stroke-width: 0px; fill: rgb(0, 0, 0); fill-opacity: 1;\"/></g><g class=\"point\"><path d=\"M82.53,320V312.76H84.82V320Z\" style=\"vector-effect: non-scaling-stroke; opacity: 1; stroke-width: 0px; fill: rgb(0, 0, 0); fill-opacity: 1;\"/></g><g class=\"point\"><path d=\"M84.82,320V312.76H87.11V320Z\" style=\"vector-effect: non-scaling-stroke; opacity: 1; stroke-width: 0px; fill: rgb(0, 0, 0); fill-opacity: 1;\"/></g><g class=\"point\"><path d=\"M0,0Z\" style=\"vector-effect: non-scaling-stroke; opacity: 1; stroke-width: 0px; fill: rgb(0, 0, 0); fill-opacity: 1;\"/></g><g class=\"point\"><path d=\"M0,0Z\" style=\"vector-effect: non-scaling-stroke; opacity: 1; stroke-width: 0px; fill: rgb(0, 0, 0); fill-opacity: 1;\"/></g><g class=\"point\"><path d=\"M0,0Z\" style=\"vector-effect: non-scaling-stroke; opacity: 1; stroke-width: 0px; fill: rgb(0, 0, 0); fill-opacity: 1;\"/></g><g class=\"point\"><path d=\"M0,0Z\" style=\"vector-effect: non-scaling-stroke; opacity: 1; stroke-width: 0px; fill: rgb(0, 0, 0); fill-opacity: 1;\"/></g><g class=\"point\"><path d=\"M0,0Z\" style=\"vector-effect: non-scaling-stroke; opacity: 1; stroke-width: 0px; fill: rgb(0, 0, 0); fill-opacity: 1;\"/></g><g class=\"point\"><path d=\"M98.58,320V312.76H100.87V320Z\" style=\"vector-effect: non-scaling-stroke; opacity: 1; stroke-width: 0px; fill: rgb(0, 0, 0); fill-opacity: 1;\"/></g><g class=\"point\"><path d=\"M100.87,320V312.76H103.16V320Z\" style=\"vector-effect: non-scaling-stroke; opacity: 1; stroke-width: 0px; fill: rgb(0, 0, 0); fill-opacity: 1;\"/></g><g class=\"point\"><path d=\"M0,0Z\" style=\"vector-effect: non-scaling-stroke; opacity: 1; stroke-width: 0px; fill: rgb(0, 0, 0); fill-opacity: 1;\"/></g><g class=\"point\"><path d=\"M105.45,320V312.76H107.75V320Z\" style=\"vector-effect: non-scaling-stroke; opacity: 1; stroke-width: 0px; fill: rgb(0, 0, 0); fill-opacity: 1;\"/></g><g class=\"point\"><path d=\"M0,0Z\" style=\"vector-effect: non-scaling-stroke; opacity: 1; stroke-width: 0px; fill: rgb(0, 0, 0); fill-opacity: 1;\"/></g><g class=\"point\"><path d=\"M0,0Z\" style=\"vector-effect: non-scaling-stroke; opacity: 1; stroke-width: 0px; fill: rgb(0, 0, 0); fill-opacity: 1;\"/></g><g class=\"point\"><path d=\"M0,0Z\" style=\"vector-effect: non-scaling-stroke; opacity: 1; stroke-width: 0px; fill: rgb(0, 0, 0); fill-opacity: 1;\"/></g><g class=\"point\"><path d=\"M0,0Z\" style=\"vector-effect: non-scaling-stroke; opacity: 1; stroke-width: 0px; fill: rgb(0, 0, 0); fill-opacity: 1;\"/></g><g class=\"point\"><path d=\"M0,0Z\" style=\"vector-effect: non-scaling-stroke; opacity: 1; stroke-width: 0px; fill: rgb(0, 0, 0); fill-opacity: 1;\"/></g><g class=\"point\"><path d=\"M0,0Z\" style=\"vector-effect: non-scaling-stroke; opacity: 1; stroke-width: 0px; fill: rgb(0, 0, 0); fill-opacity: 1;\"/></g><g class=\"point\"><path d=\"M121.5,320V305.52H123.79V320Z\" style=\"vector-effect: non-scaling-stroke; opacity: 1; stroke-width: 0px; fill: rgb(0, 0, 0); fill-opacity: 1;\"/></g><g class=\"point\"><path d=\"M0,0Z\" style=\"vector-effect: non-scaling-stroke; opacity: 1; stroke-width: 0px; fill: rgb(0, 0, 0); fill-opacity: 1;\"/></g><g class=\"point\"><path d=\"M0,0Z\" style=\"vector-effect: non-scaling-stroke; opacity: 1; stroke-width: 0px; fill: rgb(0, 0, 0); fill-opacity: 1;\"/></g><g class=\"point\"><path d=\"M0,0Z\" style=\"vector-effect: non-scaling-stroke; opacity: 1; stroke-width: 0px; fill: rgb(0, 0, 0); fill-opacity: 1;\"/></g><g class=\"point\"><path d=\"M130.67,320V305.52H132.96V320Z\" style=\"vector-effect: non-scaling-stroke; opacity: 1; stroke-width: 0px; fill: rgb(0, 0, 0); fill-opacity: 1;\"/></g><g class=\"point\"><path d=\"M0,0Z\" style=\"vector-effect: non-scaling-stroke; opacity: 1; stroke-width: 0px; fill: rgb(0, 0, 0); fill-opacity: 1;\"/></g><g class=\"point\"><path d=\"M135.25,320V312.76H137.55V320Z\" style=\"vector-effect: non-scaling-stroke; opacity: 1; stroke-width: 0px; fill: rgb(0, 0, 0); fill-opacity: 1;\"/></g><g class=\"point\"><path d=\"M0,0Z\" style=\"vector-effect: non-scaling-stroke; opacity: 1; stroke-width: 0px; fill: rgb(0, 0, 0); fill-opacity: 1;\"/></g><g class=\"point\"><path d=\"M0,0Z\" style=\"vector-effect: non-scaling-stroke; opacity: 1; stroke-width: 0px; fill: rgb(0, 0, 0); fill-opacity: 1;\"/></g><g class=\"point\"><path d=\"M142.13,320V312.76H144.42V320Z\" style=\"vector-effect: non-scaling-stroke; opacity: 1; stroke-width: 0px; fill: rgb(0, 0, 0); fill-opacity: 1;\"/></g><g class=\"point\"><path d=\"M144.42,320V312.76H146.72V320Z\" style=\"vector-effect: non-scaling-stroke; opacity: 1; stroke-width: 0px; fill: rgb(0, 0, 0); fill-opacity: 1;\"/></g><g class=\"point\"><path d=\"M146.72,320V312.76H149.01V320Z\" style=\"vector-effect: non-scaling-stroke; opacity: 1; stroke-width: 0px; fill: rgb(0, 0, 0); fill-opacity: 1;\"/></g><g class=\"point\"><path d=\"M149.01,320V305.52H151.3V320Z\" style=\"vector-effect: non-scaling-stroke; opacity: 1; stroke-width: 0px; fill: rgb(0, 0, 0); fill-opacity: 1;\"/></g><g class=\"point\"><path d=\"M0,0Z\" style=\"vector-effect: non-scaling-stroke; opacity: 1; stroke-width: 0px; fill: rgb(0, 0, 0); fill-opacity: 1;\"/></g><g class=\"point\"><path d=\"M153.59,320V305.52H155.89V320Z\" style=\"vector-effect: non-scaling-stroke; opacity: 1; stroke-width: 0px; fill: rgb(0, 0, 0); fill-opacity: 1;\"/></g><g class=\"point\"><path d=\"M0,0Z\" style=\"vector-effect: non-scaling-stroke; opacity: 1; stroke-width: 0px; fill: rgb(0, 0, 0); fill-opacity: 1;\"/></g><g class=\"point\"><path d=\"M158.18,320V312.76H160.47V320Z\" style=\"vector-effect: non-scaling-stroke; opacity: 1; stroke-width: 0px; fill: rgb(0, 0, 0); fill-opacity: 1;\"/></g><g class=\"point\"><path d=\"M160.47,320V254.86H162.76V320Z\" style=\"vector-effect: non-scaling-stroke; opacity: 1; stroke-width: 0px; fill: rgb(0, 0, 0); fill-opacity: 1;\"/></g><g class=\"point\"><path d=\"M162.76,320V283.81H165.06V320Z\" style=\"vector-effect: non-scaling-stroke; opacity: 1; stroke-width: 0px; fill: rgb(0, 0, 0); fill-opacity: 1;\"/></g><g class=\"point\"><path d=\"M165.06,320V298.29H167.35V320Z\" style=\"vector-effect: non-scaling-stroke; opacity: 1; stroke-width: 0px; fill: rgb(0, 0, 0); fill-opacity: 1;\"/></g><g class=\"point\"><path d=\"M167.35,320V283.81H169.64V320Z\" style=\"vector-effect: non-scaling-stroke; opacity: 1; stroke-width: 0px; fill: rgb(0, 0, 0); fill-opacity: 1;\"/></g><g class=\"point\"><path d=\"M169.64,320V312.76H171.93V320Z\" style=\"vector-effect: non-scaling-stroke; opacity: 1; stroke-width: 0px; fill: rgb(0, 0, 0); fill-opacity: 1;\"/></g><g class=\"point\"><path d=\"M171.93,320V276.57H174.23V320Z\" style=\"vector-effect: non-scaling-stroke; opacity: 1; stroke-width: 0px; fill: rgb(0, 0, 0); fill-opacity: 1;\"/></g><g class=\"point\"><path d=\"M174.23,320V305.52H176.52V320Z\" style=\"vector-effect: non-scaling-stroke; opacity: 1; stroke-width: 0px; fill: rgb(0, 0, 0); fill-opacity: 1;\"/></g><g class=\"point\"><path d=\"M176.52,320V276.57H178.81V320Z\" style=\"vector-effect: non-scaling-stroke; opacity: 1; stroke-width: 0px; fill: rgb(0, 0, 0); fill-opacity: 1;\"/></g><g class=\"point\"><path d=\"M178.81,320V291.05H181.1V320Z\" style=\"vector-effect: non-scaling-stroke; opacity: 1; stroke-width: 0px; fill: rgb(0, 0, 0); fill-opacity: 1;\"/></g><g class=\"point\"><path d=\"M0,0Z\" style=\"vector-effect: non-scaling-stroke; opacity: 1; stroke-width: 0px; fill: rgb(0, 0, 0); fill-opacity: 1;\"/></g><g class=\"point\"><path d=\"M183.4,320V276.57H185.69V320Z\" style=\"vector-effect: non-scaling-stroke; opacity: 1; stroke-width: 0px; fill: rgb(0, 0, 0); fill-opacity: 1;\"/></g><g class=\"point\"><path d=\"M185.69,320V269.33H187.98V320Z\" style=\"vector-effect: non-scaling-stroke; opacity: 1; stroke-width: 0px; fill: rgb(0, 0, 0); fill-opacity: 1;\"/></g><g class=\"point\"><path d=\"M187.98,320V283.81H190.27V320Z\" style=\"vector-effect: non-scaling-stroke; opacity: 1; stroke-width: 0px; fill: rgb(0, 0, 0); fill-opacity: 1;\"/></g><g class=\"point\"><path d=\"M190.27,320V312.76H192.57V320Z\" style=\"vector-effect: non-scaling-stroke; opacity: 1; stroke-width: 0px; fill: rgb(0, 0, 0); fill-opacity: 1;\"/></g><g class=\"point\"><path d=\"M192.57,320V312.76H194.86V320Z\" style=\"vector-effect: non-scaling-stroke; opacity: 1; stroke-width: 0px; fill: rgb(0, 0, 0); fill-opacity: 1;\"/></g><g class=\"point\"><path d=\"M194.86,320V305.52H197.15V320Z\" style=\"vector-effect: non-scaling-stroke; opacity: 1; stroke-width: 0px; fill: rgb(0, 0, 0); fill-opacity: 1;\"/></g><g class=\"point\"><path d=\"M197.15,320V233.14H199.44V320Z\" style=\"vector-effect: non-scaling-stroke; opacity: 1; stroke-width: 0px; fill: rgb(0, 0, 0); fill-opacity: 1;\"/></g><g class=\"point\"><path d=\"M199.44,320V298.29H201.74V320Z\" style=\"vector-effect: non-scaling-stroke; opacity: 1; stroke-width: 0px; fill: rgb(0, 0, 0); fill-opacity: 1;\"/></g><g class=\"point\"><path d=\"M201.74,320V312.76H204.03V320Z\" style=\"vector-effect: non-scaling-stroke; opacity: 1; stroke-width: 0px; fill: rgb(0, 0, 0); fill-opacity: 1;\"/></g><g class=\"point\"><path d=\"M204.03,320V312.76H206.32V320Z\" style=\"vector-effect: non-scaling-stroke; opacity: 1; stroke-width: 0px; fill: rgb(0, 0, 0); fill-opacity: 1;\"/></g><g class=\"point\"><path d=\"M0,0Z\" style=\"vector-effect: non-scaling-stroke; opacity: 1; stroke-width: 0px; fill: rgb(0, 0, 0); fill-opacity: 1;\"/></g><g class=\"point\"><path d=\"M208.61,320V305.52H210.91V320Z\" style=\"vector-effect: non-scaling-stroke; opacity: 1; stroke-width: 0px; fill: rgb(0, 0, 0); fill-opacity: 1;\"/></g><g class=\"point\"><path d=\"M210.91,320V291.05H213.2V320Z\" style=\"vector-effect: non-scaling-stroke; opacity: 1; stroke-width: 0px; fill: rgb(0, 0, 0); fill-opacity: 1;\"/></g><g class=\"point\"><path d=\"M213.2,320V298.29H215.49V320Z\" style=\"vector-effect: non-scaling-stroke; opacity: 1; stroke-width: 0px; fill: rgb(0, 0, 0); fill-opacity: 1;\"/></g><g class=\"point\"><path d=\"M215.49,320V312.76H217.78V320Z\" style=\"vector-effect: non-scaling-stroke; opacity: 1; stroke-width: 0px; fill: rgb(0, 0, 0); fill-opacity: 1;\"/></g><g class=\"point\"><path d=\"M0,0Z\" style=\"vector-effect: non-scaling-stroke; opacity: 1; stroke-width: 0px; fill: rgb(0, 0, 0); fill-opacity: 1;\"/></g><g class=\"point\"><path d=\"M220.08,320V312.76H222.37V320Z\" style=\"vector-effect: non-scaling-stroke; opacity: 1; stroke-width: 0px; fill: rgb(0, 0, 0); fill-opacity: 1;\"/></g><g class=\"point\"><path d=\"M0,0Z\" style=\"vector-effect: non-scaling-stroke; opacity: 1; stroke-width: 0px; fill: rgb(0, 0, 0); fill-opacity: 1;\"/></g><g class=\"point\"><path d=\"M0,0Z\" style=\"vector-effect: non-scaling-stroke; opacity: 1; stroke-width: 0px; fill: rgb(0, 0, 0); fill-opacity: 1;\"/></g><g class=\"point\"><path d=\"M226.95,320V312.76H229.25V320Z\" style=\"vector-effect: non-scaling-stroke; opacity: 1; stroke-width: 0px; fill: rgb(0, 0, 0); fill-opacity: 1;\"/></g><g class=\"point\"><path d=\"M0,0Z\" style=\"vector-effect: non-scaling-stroke; opacity: 1; stroke-width: 0px; fill: rgb(0, 0, 0); fill-opacity: 1;\"/></g><g class=\"point\"><path d=\"M231.54,320V312.76H233.83V320Z\" style=\"vector-effect: non-scaling-stroke; opacity: 1; stroke-width: 0px; fill: rgb(0, 0, 0); fill-opacity: 1;\"/></g><g class=\"point\"><path d=\"M0,0Z\" style=\"vector-effect: non-scaling-stroke; opacity: 1; stroke-width: 0px; fill: rgb(0, 0, 0); fill-opacity: 1;\"/></g><g class=\"point\"><path d=\"M0,0Z\" style=\"vector-effect: non-scaling-stroke; opacity: 1; stroke-width: 0px; fill: rgb(0, 0, 0); fill-opacity: 1;\"/></g><g class=\"point\"><path d=\"M0,0Z\" style=\"vector-effect: non-scaling-stroke; opacity: 1; stroke-width: 0px; fill: rgb(0, 0, 0); fill-opacity: 1;\"/></g><g class=\"point\"><path d=\"M240.71,320V312.76H243V320Z\" style=\"vector-effect: non-scaling-stroke; opacity: 1; stroke-width: 0px; fill: rgb(0, 0, 0); fill-opacity: 1;\"/></g></g></g></g></g><g class=\"overplot\"/><path class=\"xlines-above crisp\" d=\"M0,0\" style=\"fill: none;\"/><path class=\"ylines-above crisp\" d=\"M0,0\" style=\"fill: none;\"/><g class=\"overlines-above\"/><g class=\"xaxislayer-above\"><g class=\"x2tick\"><text text-anchor=\"middle\" x=\"0\" y=\"433\" transform=\"translate(427.43,0)\" style=\"font-family: 'Open Sans', verdana, arial, sans-serif; font-size: 12px; fill: rgb(42, 63, 95); fill-opacity: 1; white-space: pre; opacity: 1;\">100</text></g><g class=\"x2tick\"><text text-anchor=\"middle\" x=\"0\" y=\"433\" style=\"font-family: 'Open Sans', verdana, arial, sans-serif; font-size: 12px; fill: rgb(42, 63, 95); fill-opacity: 1; white-space: pre; opacity: 1;\" transform=\"translate(484.75,0)\">150</text></g><g class=\"x2tick\"><text text-anchor=\"middle\" x=\"0\" y=\"433\" style=\"font-family: 'Open Sans', verdana, arial, sans-serif; font-size: 12px; fill: rgb(42, 63, 95); fill-opacity: 1; white-space: pre; opacity: 1;\" transform=\"translate(542.06,0)\">200</text></g><g class=\"x2tick\"><text text-anchor=\"middle\" x=\"0\" y=\"433\" style=\"font-family: 'Open Sans', verdana, arial, sans-serif; font-size: 12px; fill: rgb(42, 63, 95); fill-opacity: 1; white-space: pre; opacity: 1;\" transform=\"translate(599.37,0)\">250</text></g></g><g class=\"yaxislayer-above\"><g class=\"y2tick\"><text text-anchor=\"end\" x=\"376\" y=\"4.199999999999999\" transform=\"translate(0,420)\" style=\"font-family: 'Open Sans', verdana, arial, sans-serif; font-size: 12px; fill: rgb(42, 63, 95); fill-opacity: 1; white-space: pre; opacity: 1;\">0</text></g><g class=\"y2tick\"><text text-anchor=\"end\" x=\"376\" y=\"4.199999999999999\" style=\"font-family: 'Open Sans', verdana, arial, sans-serif; font-size: 12px; fill: rgb(42, 63, 95); fill-opacity: 1; white-space: pre; opacity: 1;\" transform=\"translate(0,383.81)\">5</text></g><g class=\"y2tick\"><text text-anchor=\"end\" x=\"376\" y=\"4.199999999999999\" style=\"font-family: 'Open Sans', verdana, arial, sans-serif; font-size: 12px; fill: rgb(42, 63, 95); fill-opacity: 1; white-space: pre; opacity: 1;\" transform=\"translate(0,347.62)\">10</text></g><g class=\"y2tick\"><text text-anchor=\"end\" x=\"376\" y=\"4.199999999999999\" style=\"font-family: 'Open Sans', verdana, arial, sans-serif; font-size: 12px; fill: rgb(42, 63, 95); fill-opacity: 1; white-space: pre; opacity: 1;\" transform=\"translate(0,311.43)\">15</text></g><g class=\"y2tick\"><text text-anchor=\"end\" x=\"376\" y=\"4.199999999999999\" style=\"font-family: 'Open Sans', verdana, arial, sans-serif; font-size: 12px; fill: rgb(42, 63, 95); fill-opacity: 1; white-space: pre; opacity: 1;\" transform=\"translate(0,275.24)\">20</text></g><g class=\"y2tick\"><text text-anchor=\"end\" x=\"376\" y=\"4.199999999999999\" style=\"font-family: 'Open Sans', verdana, arial, sans-serif; font-size: 12px; fill: rgb(42, 63, 95); fill-opacity: 1; white-space: pre; opacity: 1;\" transform=\"translate(0,239.05)\">25</text></g><g class=\"y2tick\"><text text-anchor=\"end\" x=\"376\" y=\"4.199999999999999\" style=\"font-family: 'Open Sans', verdana, arial, sans-serif; font-size: 12px; fill: rgb(42, 63, 95); fill-opacity: 1; white-space: pre; opacity: 1;\" transform=\"translate(0,202.86)\">30</text></g><g class=\"y2tick\"><text text-anchor=\"end\" x=\"376\" y=\"4.199999999999999\" style=\"font-family: 'Open Sans', verdana, arial, sans-serif; font-size: 12px; fill: rgb(42, 63, 95); fill-opacity: 1; white-space: pre; opacity: 1;\" transform=\"translate(0,166.67000000000002)\">35</text></g><g class=\"y2tick\"><text text-anchor=\"end\" x=\"376\" y=\"4.199999999999999\" style=\"font-family: 'Open Sans', verdana, arial, sans-serif; font-size: 12px; fill: rgb(42, 63, 95); fill-opacity: 1; white-space: pre; opacity: 1;\" transform=\"translate(0,130.48)\">40</text></g></g><g class=\"overaxes-above\"/></g></g><g class=\"polarlayer\"/><g class=\"ternarylayer\"/><g class=\"geolayer\"/><g class=\"funnelarealayer\"/><g class=\"pielayer\"/><g class=\"iciclelayer\"/><g class=\"treemaplayer\"/><g class=\"sunburstlayer\"/><g class=\"glimages\"/><defs id=\"topdefs-ad5f52\"><g class=\"clips\"/></defs><g class=\"layer-above\"><g class=\"imagelayer\"/><g class=\"shapelayer\"/></g><g class=\"infolayer\"><g class=\"g-gtitle\"><text class=\"gtitle\" x=\"350\" y=\"50\" text-anchor=\"middle\" dy=\"0em\" style=\"font-family: 'Open Sans', verdana, arial, sans-serif; font-size: 17px; fill: rgb(42, 63, 95); opacity: 1; font-weight: normal; white-space: pre;\">Average Glucose Level Distribution by Stroke</text></g><g class=\"g-xtitle\"><text class=\"xtitle\" x=\"201.5\" y=\"460.8\" text-anchor=\"middle\" style=\"font-family: 'Open Sans', verdana, arial, sans-serif; font-size: 14px; fill: rgb(42, 63, 95); opacity: 1; font-weight: normal; white-space: pre;\">Average Glucose Level</text></g><g class=\"g-x2title\"><text class=\"x2title\" x=\"498.5\" y=\"460.8\" text-anchor=\"middle\" style=\"font-family: 'Open Sans', verdana, arial, sans-serif; font-size: 14px; fill: rgb(42, 63, 95); opacity: 1; font-weight: normal; white-space: pre;\">Average Glucose Level</text></g><g class=\"g-ytitle\"><text class=\"ytitle\" transform=\"rotate(-90,31.309375000000003,260)\" x=\"31.309375000000003\" y=\"260\" text-anchor=\"middle\" style=\"font-family: 'Open Sans', verdana, arial, sans-serif; font-size: 14px; fill: rgb(42, 63, 95); opacity: 1; font-weight: normal; white-space: pre;\">Count</text></g><g class=\"g-y2title\"><text class=\"y2title\" transform=\"rotate(-90,335.934375,260)\" x=\"335.934375\" y=\"260\" text-anchor=\"middle\" style=\"font-family: 'Open Sans', verdana, arial, sans-serif; font-size: 14px; fill: rgb(42, 63, 95); opacity: 1; font-weight: normal; white-space: pre;\">Count</text></g><g class=\"annotation\" data-index=\"0\" style=\"opacity: 1;\"><g class=\"annotation-text-g\" transform=\"rotate(0,201.5,88.5)\"><g class=\"cursor-pointer\" transform=\"translate(160,77)\"><rect class=\"bg\" x=\"0.5\" y=\"0.5\" width=\"83\" height=\"22\" style=\"stroke-width: 1px; stroke: rgb(0, 0, 0); stroke-opacity: 0; fill: rgb(0, 0, 0); fill-opacity: 0;\"/><text class=\"annotation-text\" text-anchor=\"middle\" x=\"41.96875\" y=\"18\" style=\"font-family: 'Open Sans', verdana, arial, sans-serif; font-size: 16px; fill: rgb(42, 63, 95); fill-opacity: 1; white-space: pre;\">No Stroke</text></g></g></g><g class=\"annotation\" data-index=\"1\" style=\"opacity: 1;\"><g class=\"annotation-text-g\" transform=\"rotate(0,498.5,88.5)\"><g class=\"cursor-pointer\" transform=\"translate(454,77)\"><rect class=\"bg\" x=\"0.5\" y=\"0.5\" width=\"89\" height=\"22\" style=\"stroke-width: 1px; stroke: rgb(0, 0, 0); stroke-opacity: 0; fill: rgb(0, 0, 0); fill-opacity: 0;\"/><text class=\"annotation-text\" text-anchor=\"middle\" x=\"45.484375\" y=\"18\" style=\"font-family: 'Open Sans', verdana, arial, sans-serif; font-size: 16px; fill: rgb(42, 63, 95); fill-opacity: 1; white-space: pre;\">Yes Stroke</text></g></g></g></g></svg>"
      ]
     },
     "metadata": {},
     "output_type": "display_data"
    }
   ],
   "source": [
    "fig = custom_historgram('avg_glucose_level', ['Average Glucose Level Distribution by Stroke', 'Average Glucose Level'])\n",
    "fig.show('svg')"
   ]
  },
  {
   "cell_type": "code",
   "execution_count": 37,
   "id": "5791fa2f",
   "metadata": {},
   "outputs": [
    {
     "data": {
      "image/svg+xml": [
       "<svg class=\"main-svg\" xmlns=\"http://www.w3.org/2000/svg\" xmlns:xlink=\"http://www.w3.org/1999/xlink\" width=\"700\" height=\"500\" style=\"\" viewBox=\"0 0 700 500\"><rect x=\"0\" y=\"0\" width=\"700\" height=\"500\" style=\"fill: rgb(255, 255, 255); fill-opacity: 1;\"/><defs id=\"defs-a2eba5\"><g class=\"clips\"><clipPath id=\"clipa2eba5xyplot\" class=\"plotclip\"><rect width=\"243\" height=\"320\"/></clipPath><clipPath id=\"clipa2eba5x2y2plot\" class=\"plotclip\"><rect width=\"242.99999999999997\" height=\"320\"/></clipPath><clipPath class=\"axesclip\" id=\"clipa2eba5x\"><rect x=\"80\" y=\"0\" width=\"243\" height=\"500\"/></clipPath><clipPath class=\"axesclip\" id=\"clipa2eba5y\"><rect x=\"0\" y=\"100\" width=\"700\" height=\"320\"/></clipPath><clipPath class=\"axesclip\" id=\"clipa2eba5xy\"><rect x=\"80\" y=\"100\" width=\"243\" height=\"320\"/></clipPath><clipPath class=\"axesclip\" id=\"clipa2eba5y2\"><rect x=\"0\" y=\"100\" width=\"700\" height=\"320\"/></clipPath><clipPath class=\"axesclip\" id=\"clipa2eba5xy2\"><rect x=\"80\" y=\"100\" width=\"243\" height=\"320\"/></clipPath><clipPath class=\"axesclip\" id=\"clipa2eba5x2\"><rect x=\"377\" y=\"0\" width=\"242.99999999999997\" height=\"500\"/></clipPath><clipPath class=\"axesclip\" id=\"clipa2eba5x2y\"><rect x=\"377\" y=\"100\" width=\"242.99999999999997\" height=\"320\"/></clipPath><clipPath class=\"axesclip\" id=\"clipa2eba5x2y2\"><rect x=\"377\" y=\"100\" width=\"242.99999999999997\" height=\"320\"/></clipPath></g><g class=\"gradients\"/><g class=\"patterns\"/></defs><g class=\"bglayer\"><rect class=\"bg\" x=\"80\" y=\"100\" width=\"243\" height=\"320\" style=\"fill: rgb(229, 236, 246); fill-opacity: 1; stroke-width: 0;\"/><rect class=\"bg\" x=\"377\" y=\"100\" width=\"242.99999999999997\" height=\"320\" style=\"fill: rgb(229, 236, 246); fill-opacity: 1; stroke-width: 0;\"/></g><g class=\"layer-below\"><g class=\"imagelayer\"/><g class=\"shapelayer\"/></g><g class=\"cartesianlayer\"><g class=\"subplot xy\"><g class=\"layer-subplot\"><g class=\"shapelayer\"/><g class=\"imagelayer\"/></g><g class=\"gridlayer\"><g class=\"x\"/><g class=\"y\"><path class=\"ygrid crisp\" transform=\"translate(0,352.44)\" d=\"M80,0h243\" style=\"stroke: rgb(255, 255, 255); stroke-opacity: 1; stroke-width: 1px;\"/><path class=\"ygrid crisp\" transform=\"translate(0,284.89)\" d=\"M80,0h243\" style=\"stroke: rgb(255, 255, 255); stroke-opacity: 1; stroke-width: 1px;\"/><path class=\"ygrid crisp\" transform=\"translate(0,217.32999999999998)\" d=\"M80,0h243\" style=\"stroke: rgb(255, 255, 255); stroke-opacity: 1; stroke-width: 1px;\"/><path class=\"ygrid crisp\" transform=\"translate(0,149.78)\" d=\"M80,0h243\" style=\"stroke: rgb(255, 255, 255); stroke-opacity: 1; stroke-width: 1px;\"/></g></g><g class=\"zerolinelayer\"><path class=\"yzl zl crisp\" transform=\"translate(0,420)\" d=\"M80,0h243\" style=\"stroke: rgb(255, 255, 255); stroke-opacity: 1; stroke-width: 2px;\"/></g><path class=\"xlines-below\"/><path class=\"ylines-below\"/><g class=\"overlines-below\"/><g class=\"xaxislayer-below\"/><g class=\"yaxislayer-below\"/><g class=\"overaxes-below\"/><g class=\"plot\" transform=\"translate(80,100)\" clip-path=\"url(#clipa2eba5xyplot)\"><g class=\"barlayer mlayer\"><g class=\"trace bars\" shape-rendering=\"crispEdges\" style=\"opacity: 1;\"><g class=\"points\"><g class=\"point\"><path d=\"M0,320V228.8H2.96V320Z\" style=\"vector-effect: non-scaling-stroke; opacity: 1; stroke-width: 0px; fill: rgb(0, 128, 128); fill-opacity: 1;\"/></g><g class=\"point\"><path d=\"M2.96,320V16H5.93V320Z\" style=\"vector-effect: non-scaling-stroke; opacity: 1; stroke-width: 0px; fill: rgb(0, 128, 128); fill-opacity: 1;\"/></g><g class=\"point\"><path d=\"M5.93,320V221.37H8.89V320Z\" style=\"vector-effect: non-scaling-stroke; opacity: 1; stroke-width: 0px; fill: rgb(0, 128, 128); fill-opacity: 1;\"/></g><g class=\"point\"><path d=\"M8.89,320V263.25H11.85V320Z\" style=\"vector-effect: non-scaling-stroke; opacity: 1; stroke-width: 0px; fill: rgb(0, 128, 128); fill-opacity: 1;\"/></g><g class=\"point\"><path d=\"M11.85,320V137.6H14.82V320Z\" style=\"vector-effect: non-scaling-stroke; opacity: 1; stroke-width: 0px; fill: rgb(0, 128, 128); fill-opacity: 1;\"/></g><g class=\"point\"><path d=\"M14.82,320V286.9H17.78V320Z\" style=\"vector-effect: non-scaling-stroke; opacity: 1; stroke-width: 0px; fill: rgb(0, 128, 128); fill-opacity: 1;\"/></g><g class=\"point\"><path d=\"M17.78,320V267.31H20.74V320Z\" style=\"vector-effect: non-scaling-stroke; opacity: 1; stroke-width: 0px; fill: rgb(0, 128, 128); fill-opacity: 1;\"/></g><g class=\"point\"><path d=\"M20.74,320V180.84H23.71V320Z\" style=\"vector-effect: non-scaling-stroke; opacity: 1; stroke-width: 0px; fill: rgb(0, 128, 128); fill-opacity: 1;\"/></g><g class=\"point\"><path d=\"M23.71,320V263.93H26.67V320Z\" style=\"vector-effect: non-scaling-stroke; opacity: 1; stroke-width: 0px; fill: rgb(0, 128, 128); fill-opacity: 1;\"/></g><g class=\"point\"><path d=\"M26.67,320V263.25H29.63V320Z\" style=\"vector-effect: non-scaling-stroke; opacity: 1; stroke-width: 0px; fill: rgb(0, 128, 128); fill-opacity: 1;\"/></g><g class=\"point\"><path d=\"M29.63,320V270.68H32.6V320Z\" style=\"vector-effect: non-scaling-stroke; opacity: 1; stroke-width: 0px; fill: rgb(0, 128, 128); fill-opacity: 1;\"/></g><g class=\"point\"><path d=\"M32.6,320V246.36H35.56V320Z\" style=\"vector-effect: non-scaling-stroke; opacity: 1; stroke-width: 0px; fill: rgb(0, 128, 128); fill-opacity: 1;\"/></g><g class=\"point\"><path d=\"M35.56,320V203.13H38.52V320Z\" style=\"vector-effect: non-scaling-stroke; opacity: 1; stroke-width: 0px; fill: rgb(0, 128, 128); fill-opacity: 1;\"/></g><g class=\"point\"><path d=\"M38.52,320V201.1H41.49V320Z\" style=\"vector-effect: non-scaling-stroke; opacity: 1; stroke-width: 0px; fill: rgb(0, 128, 128); fill-opacity: 1;\"/></g><g class=\"point\"><path d=\"M41.49,320V258.52H44.45V320Z\" style=\"vector-effect: non-scaling-stroke; opacity: 1; stroke-width: 0px; fill: rgb(0, 128, 128); fill-opacity: 1;\"/></g><g class=\"point\"><path d=\"M44.45,320V208.53H47.41V320Z\" style=\"vector-effect: non-scaling-stroke; opacity: 1; stroke-width: 0px; fill: rgb(0, 128, 128); fill-opacity: 1;\"/></g><g class=\"point\"><path d=\"M47.41,320V193H50.38V320Z\" style=\"vector-effect: non-scaling-stroke; opacity: 1; stroke-width: 0px; fill: rgb(0, 128, 128); fill-opacity: 1;\"/></g><g class=\"point\"><path d=\"M50.38,320V188.94H53.34V320Z\" style=\"vector-effect: non-scaling-stroke; opacity: 1; stroke-width: 0px; fill: rgb(0, 128, 128); fill-opacity: 1;\"/></g><g class=\"point\"><path d=\"M53.34,320V232.18H56.3V320Z\" style=\"vector-effect: non-scaling-stroke; opacity: 1; stroke-width: 0px; fill: rgb(0, 128, 128); fill-opacity: 1;\"/></g><g class=\"point\"><path d=\"M56.3,320V190.97H59.27V320Z\" style=\"vector-effect: non-scaling-stroke; opacity: 1; stroke-width: 0px; fill: rgb(0, 128, 128); fill-opacity: 1;\"/></g><g class=\"point\"><path d=\"M59.27,320V239.61H62.23V320Z\" style=\"vector-effect: non-scaling-stroke; opacity: 1; stroke-width: 0px; fill: rgb(0, 128, 128); fill-opacity: 1;\"/></g><g class=\"point\"><path d=\"M62.23,320V253.8H65.2V320Z\" style=\"vector-effect: non-scaling-stroke; opacity: 1; stroke-width: 0px; fill: rgb(0, 128, 128); fill-opacity: 1;\"/></g><g class=\"point\"><path d=\"M65.2,320V193H68.16V320Z\" style=\"vector-effect: non-scaling-stroke; opacity: 1; stroke-width: 0px; fill: rgb(0, 128, 128); fill-opacity: 1;\"/></g><g class=\"point\"><path d=\"M68.16,320V207.18H71.12V320Z\" style=\"vector-effect: non-scaling-stroke; opacity: 1; stroke-width: 0px; fill: rgb(0, 128, 128); fill-opacity: 1;\"/></g><g class=\"point\"><path d=\"M71.12,320V205.83H74.09V320Z\" style=\"vector-effect: non-scaling-stroke; opacity: 1; stroke-width: 0px; fill: rgb(0, 128, 128); fill-opacity: 1;\"/></g><g class=\"point\"><path d=\"M74.09,320V166.65H77.05V320Z\" style=\"vector-effect: non-scaling-stroke; opacity: 1; stroke-width: 0px; fill: rgb(0, 128, 128); fill-opacity: 1;\"/></g><g class=\"point\"><path d=\"M77.05,320V178.13H80.01V320Z\" style=\"vector-effect: non-scaling-stroke; opacity: 1; stroke-width: 0px; fill: rgb(0, 128, 128); fill-opacity: 1;\"/></g><g class=\"point\"><path d=\"M80.01,320V215.96H82.98V320Z\" style=\"vector-effect: non-scaling-stroke; opacity: 1; stroke-width: 0px; fill: rgb(0, 128, 128); fill-opacity: 1;\"/></g><g class=\"point\"><path d=\"M82.98,320V235.56H85.94V320Z\" style=\"vector-effect: non-scaling-stroke; opacity: 1; stroke-width: 0px; fill: rgb(0, 128, 128); fill-opacity: 1;\"/></g><g class=\"point\"><path d=\"M85.94,320V205.16H88.9V320Z\" style=\"vector-effect: non-scaling-stroke; opacity: 1; stroke-width: 0px; fill: rgb(0, 128, 128); fill-opacity: 1;\"/></g><g class=\"point\"><path d=\"M88.9,320V111.25H91.87V320Z\" style=\"vector-effect: non-scaling-stroke; opacity: 1; stroke-width: 0px; fill: rgb(0, 128, 128); fill-opacity: 1;\"/></g><g class=\"point\"><path d=\"M91.87,320V136.25H94.83V320Z\" style=\"vector-effect: non-scaling-stroke; opacity: 1; stroke-width: 0px; fill: rgb(0, 128, 128); fill-opacity: 1;\"/></g><g class=\"point\"><path d=\"M94.83,320V197.05H97.79V320Z\" style=\"vector-effect: non-scaling-stroke; opacity: 1; stroke-width: 0px; fill: rgb(0, 128, 128); fill-opacity: 1;\"/></g><g class=\"point\"><path d=\"M97.79,320V143.68H100.76V320Z\" style=\"vector-effect: non-scaling-stroke; opacity: 1; stroke-width: 0px; fill: rgb(0, 128, 128); fill-opacity: 1;\"/></g><g class=\"point\"><path d=\"M100.76,320V208.53H103.72V320Z\" style=\"vector-effect: non-scaling-stroke; opacity: 1; stroke-width: 0px; fill: rgb(0, 128, 128); fill-opacity: 1;\"/></g><g class=\"point\"><path d=\"M103.72,320V247.04H106.68V320Z\" style=\"vector-effect: non-scaling-stroke; opacity: 1; stroke-width: 0px; fill: rgb(0, 128, 128); fill-opacity: 1;\"/></g><g class=\"point\"><path d=\"M106.68,320V122.06H109.65V320Z\" style=\"vector-effect: non-scaling-stroke; opacity: 1; stroke-width: 0px; fill: rgb(0, 128, 128); fill-opacity: 1;\"/></g><g class=\"point\"><path d=\"M109.65,320V157.19H112.61V320Z\" style=\"vector-effect: non-scaling-stroke; opacity: 1; stroke-width: 0px; fill: rgb(0, 128, 128); fill-opacity: 1;\"/></g><g class=\"point\"><path d=\"M112.61,320V142.33H115.57V320Z\" style=\"vector-effect: non-scaling-stroke; opacity: 1; stroke-width: 0px; fill: rgb(0, 128, 128); fill-opacity: 1;\"/></g><g class=\"point\"><path d=\"M115.57,320V160.57H118.54V320Z\" style=\"vector-effect: non-scaling-stroke; opacity: 1; stroke-width: 0px; fill: rgb(0, 128, 128); fill-opacity: 1;\"/></g><g class=\"point\"><path d=\"M118.54,320V164.62H121.5V320Z\" style=\"vector-effect: non-scaling-stroke; opacity: 1; stroke-width: 0px; fill: rgb(0, 128, 128); fill-opacity: 1;\"/></g><g class=\"point\"><path d=\"M121.5,320V155.84H124.46V320Z\" style=\"vector-effect: non-scaling-stroke; opacity: 1; stroke-width: 0px; fill: rgb(0, 128, 128); fill-opacity: 1;\"/></g><g class=\"point\"><path d=\"M124.46,320V135.57H127.43V320Z\" style=\"vector-effect: non-scaling-stroke; opacity: 1; stroke-width: 0px; fill: rgb(0, 128, 128); fill-opacity: 1;\"/></g><g class=\"point\"><path d=\"M127.43,320V148.41H130.39V320Z\" style=\"vector-effect: non-scaling-stroke; opacity: 1; stroke-width: 0px; fill: rgb(0, 128, 128); fill-opacity: 1;\"/></g><g class=\"point\"><path d=\"M130.39,320V113.28H133.35V320Z\" style=\"vector-effect: non-scaling-stroke; opacity: 1; stroke-width: 0px; fill: rgb(0, 128, 128); fill-opacity: 1;\"/></g><g class=\"point\"><path d=\"M133.35,320V185.56H136.32V320Z\" style=\"vector-effect: non-scaling-stroke; opacity: 1; stroke-width: 0px; fill: rgb(0, 128, 128); fill-opacity: 1;\"/></g><g class=\"point\"><path d=\"M136.32,320V154.49H139.28V320Z\" style=\"vector-effect: non-scaling-stroke; opacity: 1; stroke-width: 0px; fill: rgb(0, 128, 128); fill-opacity: 1;\"/></g><g class=\"point\"><path d=\"M139.28,320V186.24H142.24V320Z\" style=\"vector-effect: non-scaling-stroke; opacity: 1; stroke-width: 0px; fill: rgb(0, 128, 128); fill-opacity: 1;\"/></g><g class=\"point\"><path d=\"M142.24,320V133.55H145.21V320Z\" style=\"vector-effect: non-scaling-stroke; opacity: 1; stroke-width: 0px; fill: rgb(0, 128, 128); fill-opacity: 1;\"/></g><g class=\"point\"><path d=\"M145.21,320V124.09H148.17V320Z\" style=\"vector-effect: non-scaling-stroke; opacity: 1; stroke-width: 0px; fill: rgb(0, 128, 128); fill-opacity: 1;\"/></g><g class=\"point\"><path d=\"M148.17,320V147.73H151.13V320Z\" style=\"vector-effect: non-scaling-stroke; opacity: 1; stroke-width: 0px; fill: rgb(0, 128, 128); fill-opacity: 1;\"/></g><g class=\"point\"><path d=\"M151.13,320V127.47H154.1V320Z\" style=\"vector-effect: non-scaling-stroke; opacity: 1; stroke-width: 0px; fill: rgb(0, 128, 128); fill-opacity: 1;\"/></g><g class=\"point\"><path d=\"M154.1,320V117.33H157.06V320Z\" style=\"vector-effect: non-scaling-stroke; opacity: 1; stroke-width: 0px; fill: rgb(0, 128, 128); fill-opacity: 1;\"/></g><g class=\"point\"><path d=\"M157.06,320V138.28H160.02V320Z\" style=\"vector-effect: non-scaling-stroke; opacity: 1; stroke-width: 0px; fill: rgb(0, 128, 128); fill-opacity: 1;\"/></g><g class=\"point\"><path d=\"M160.02,320V121.39H162.99V320Z\" style=\"vector-effect: non-scaling-stroke; opacity: 1; stroke-width: 0px; fill: rgb(0, 128, 128); fill-opacity: 1;\"/></g><g class=\"point\"><path d=\"M162.99,320V130.84H165.95V320Z\" style=\"vector-effect: non-scaling-stroke; opacity: 1; stroke-width: 0px; fill: rgb(0, 128, 128); fill-opacity: 1;\"/></g><g class=\"point\"><path d=\"M165.95,320V95.04H168.91V320Z\" style=\"vector-effect: non-scaling-stroke; opacity: 1; stroke-width: 0px; fill: rgb(0, 128, 128); fill-opacity: 1;\"/></g><g class=\"point\"><path d=\"M168.91,320V180.84H171.88V320Z\" style=\"vector-effect: non-scaling-stroke; opacity: 1; stroke-width: 0px; fill: rgb(0, 128, 128); fill-opacity: 1;\"/></g><g class=\"point\"><path d=\"M171.88,320V163.27H174.84V320Z\" style=\"vector-effect: non-scaling-stroke; opacity: 1; stroke-width: 0px; fill: rgb(0, 128, 128); fill-opacity: 1;\"/></g><g class=\"point\"><path d=\"M174.84,320V173.4H177.8V320Z\" style=\"vector-effect: non-scaling-stroke; opacity: 1; stroke-width: 0px; fill: rgb(0, 128, 128); fill-opacity: 1;\"/></g><g class=\"point\"><path d=\"M177.8,320V157.19H180.77V320Z\" style=\"vector-effect: non-scaling-stroke; opacity: 1; stroke-width: 0px; fill: rgb(0, 128, 128); fill-opacity: 1;\"/></g><g class=\"point\"><path d=\"M180.77,320V178.13H183.73V320Z\" style=\"vector-effect: non-scaling-stroke; opacity: 1; stroke-width: 0px; fill: rgb(0, 128, 128); fill-opacity: 1;\"/></g><g class=\"point\"><path d=\"M183.73,320V197.05H186.7V320Z\" style=\"vector-effect: non-scaling-stroke; opacity: 1; stroke-width: 0px; fill: rgb(0, 128, 128); fill-opacity: 1;\"/></g><g class=\"point\"><path d=\"M186.7,320V257.17H189.66V320Z\" style=\"vector-effect: non-scaling-stroke; opacity: 1; stroke-width: 0px; fill: rgb(0, 128, 128); fill-opacity: 1;\"/></g><g class=\"point\"><path d=\"M189.66,320V213.94H192.62V320Z\" style=\"vector-effect: non-scaling-stroke; opacity: 1; stroke-width: 0px; fill: rgb(0, 128, 128); fill-opacity: 1;\"/></g><g class=\"point\"><path d=\"M192.62,320V228.12H195.59V320Z\" style=\"vector-effect: non-scaling-stroke; opacity: 1; stroke-width: 0px; fill: rgb(0, 128, 128); fill-opacity: 1;\"/></g><g class=\"point\"><path d=\"M195.59,320V268.66H198.55V320Z\" style=\"vector-effect: non-scaling-stroke; opacity: 1; stroke-width: 0px; fill: rgb(0, 128, 128); fill-opacity: 1;\"/></g><g class=\"point\"><path d=\"M198.55,320V287.57H201.51V320Z\" style=\"vector-effect: non-scaling-stroke; opacity: 1; stroke-width: 0px; fill: rgb(0, 128, 128); fill-opacity: 1;\"/></g><g class=\"point\"><path d=\"M201.51,320V267.31H204.48V320Z\" style=\"vector-effect: non-scaling-stroke; opacity: 1; stroke-width: 0px; fill: rgb(0, 128, 128); fill-opacity: 1;\"/></g><g class=\"point\"><path d=\"M204.48,320V287.57H207.44V320Z\" style=\"vector-effect: non-scaling-stroke; opacity: 1; stroke-width: 0px; fill: rgb(0, 128, 128); fill-opacity: 1;\"/></g><g class=\"point\"><path d=\"M207.44,320V269.33H210.4V320Z\" style=\"vector-effect: non-scaling-stroke; opacity: 1; stroke-width: 0px; fill: rgb(0, 128, 128); fill-opacity: 1;\"/></g><g class=\"point\"><path d=\"M210.4,320V289.6H213.37V320Z\" style=\"vector-effect: non-scaling-stroke; opacity: 1; stroke-width: 0px; fill: rgb(0, 128, 128); fill-opacity: 1;\"/></g><g class=\"point\"><path d=\"M213.37,320V279.47H216.33V320Z\" style=\"vector-effect: non-scaling-stroke; opacity: 1; stroke-width: 0px; fill: rgb(0, 128, 128); fill-opacity: 1;\"/></g><g class=\"point\"><path d=\"M216.33,320V283.52H219.29V320Z\" style=\"vector-effect: non-scaling-stroke; opacity: 1; stroke-width: 0px; fill: rgb(0, 128, 128); fill-opacity: 1;\"/></g><g class=\"point\"><path d=\"M219.29,320V273.39H222.26V320Z\" style=\"vector-effect: non-scaling-stroke; opacity: 1; stroke-width: 0px; fill: rgb(0, 128, 128); fill-opacity: 1;\"/></g><g class=\"point\"><path d=\"M222.26,320V286.22H225.22V320Z\" style=\"vector-effect: non-scaling-stroke; opacity: 1; stroke-width: 0px; fill: rgb(0, 128, 128); fill-opacity: 1;\"/></g><g class=\"point\"><path d=\"M225.22,320V288.25H228.18V320Z\" style=\"vector-effect: non-scaling-stroke; opacity: 1; stroke-width: 0px; fill: rgb(0, 128, 128); fill-opacity: 1;\"/></g><g class=\"point\"><path d=\"M228.18,320V130.17H231.15V320Z\" style=\"vector-effect: non-scaling-stroke; opacity: 1; stroke-width: 0px; fill: rgb(0, 128, 128); fill-opacity: 1;\"/></g><g class=\"point\"><path d=\"M231.15,320V163.95H234.11V320Z\" style=\"vector-effect: non-scaling-stroke; opacity: 1; stroke-width: 0px; fill: rgb(0, 128, 128); fill-opacity: 1;\"/></g><g class=\"point\"><path d=\"M234.11,320V230.83H237.07V320Z\" style=\"vector-effect: non-scaling-stroke; opacity: 1; stroke-width: 0px; fill: rgb(0, 128, 128); fill-opacity: 1;\"/></g><g class=\"point\"><path d=\"M237.07,320V263.93H240.04V320Z\" style=\"vector-effect: non-scaling-stroke; opacity: 1; stroke-width: 0px; fill: rgb(0, 128, 128); fill-opacity: 1;\"/></g><g class=\"point\"><path d=\"M240.04,320V280.82H243V320Z\" style=\"vector-effect: non-scaling-stroke; opacity: 1; stroke-width: 0px; fill: rgb(0, 128, 128); fill-opacity: 1;\"/></g></g></g></g></g><g class=\"overplot\"/><path class=\"xlines-above crisp\" d=\"M0,0\" style=\"fill: none;\"/><path class=\"ylines-above crisp\" d=\"M0,0\" style=\"fill: none;\"/><g class=\"overlines-above\"/><g class=\"xaxislayer-above\"><g class=\"xtick\"><text text-anchor=\"middle\" x=\"0\" y=\"433\" transform=\"translate(137.79,0)\" style=\"font-family: 'Open Sans', verdana, arial, sans-serif; font-size: 12px; fill: rgb(42, 63, 95); fill-opacity: 1; white-space: pre; opacity: 1;\">20</text></g><g class=\"xtick\"><text text-anchor=\"middle\" x=\"0\" y=\"433\" style=\"font-family: 'Open Sans', verdana, arial, sans-serif; font-size: 12px; fill: rgb(42, 63, 95); fill-opacity: 1; white-space: pre; opacity: 1;\" transform=\"translate(197.05,0)\">40</text></g><g class=\"xtick\"><text text-anchor=\"middle\" x=\"0\" y=\"433\" style=\"font-family: 'Open Sans', verdana, arial, sans-serif; font-size: 12px; fill: rgb(42, 63, 95); fill-opacity: 1; white-space: pre; opacity: 1;\" transform=\"translate(256.32,0)\">60</text></g><g class=\"xtick\"><text text-anchor=\"middle\" x=\"0\" y=\"433\" style=\"font-family: 'Open Sans', verdana, arial, sans-serif; font-size: 12px; fill: rgb(42, 63, 95); fill-opacity: 1; white-space: pre; opacity: 1;\" transform=\"translate(315.59000000000003,0)\">80</text></g></g><g class=\"yaxislayer-above\"><g class=\"ytick\"><text text-anchor=\"end\" x=\"79\" y=\"4.199999999999999\" transform=\"translate(0,420)\" style=\"font-family: 'Open Sans', verdana, arial, sans-serif; font-size: 12px; fill: rgb(42, 63, 95); fill-opacity: 1; white-space: pre; opacity: 1;\">0</text></g><g class=\"ytick\"><text text-anchor=\"end\" x=\"79\" y=\"4.199999999999999\" style=\"font-family: 'Open Sans', verdana, arial, sans-serif; font-size: 12px; fill: rgb(42, 63, 95); fill-opacity: 1; white-space: pre; opacity: 1;\" transform=\"translate(0,352.44)\">100</text></g><g class=\"ytick\"><text text-anchor=\"end\" x=\"79\" y=\"4.199999999999999\" style=\"font-family: 'Open Sans', verdana, arial, sans-serif; font-size: 12px; fill: rgb(42, 63, 95); fill-opacity: 1; white-space: pre; opacity: 1;\" transform=\"translate(0,284.89)\">200</text></g><g class=\"ytick\"><text text-anchor=\"end\" x=\"79\" y=\"4.199999999999999\" style=\"font-family: 'Open Sans', verdana, arial, sans-serif; font-size: 12px; fill: rgb(42, 63, 95); fill-opacity: 1; white-space: pre; opacity: 1;\" transform=\"translate(0,217.32999999999998)\">300</text></g><g class=\"ytick\"><text text-anchor=\"end\" x=\"79\" y=\"4.199999999999999\" style=\"font-family: 'Open Sans', verdana, arial, sans-serif; font-size: 12px; fill: rgb(42, 63, 95); fill-opacity: 1; white-space: pre; opacity: 1;\" transform=\"translate(0,149.78)\">400</text></g></g><g class=\"overaxes-above\"/></g><g class=\"subplot x2y2\"><g class=\"layer-subplot\"><g class=\"shapelayer\"/><g class=\"imagelayer\"/></g><g class=\"gridlayer\"><g class=\"x2\"/><g class=\"y2\"><path class=\"y2grid crisp\" transform=\"translate(0,365.71)\" d=\"M377,0h242.99999999999997\" style=\"stroke: rgb(255, 255, 255); stroke-opacity: 1; stroke-width: 1px;\"/><path class=\"y2grid crisp\" transform=\"translate(0,311.43)\" d=\"M377,0h242.99999999999997\" style=\"stroke: rgb(255, 255, 255); stroke-opacity: 1; stroke-width: 1px;\"/><path class=\"y2grid crisp\" transform=\"translate(0,257.14)\" d=\"M377,0h242.99999999999997\" style=\"stroke: rgb(255, 255, 255); stroke-opacity: 1; stroke-width: 1px;\"/><path class=\"y2grid crisp\" transform=\"translate(0,202.86)\" d=\"M377,0h242.99999999999997\" style=\"stroke: rgb(255, 255, 255); stroke-opacity: 1; stroke-width: 1px;\"/><path class=\"y2grid crisp\" transform=\"translate(0,148.57)\" d=\"M377,0h242.99999999999997\" style=\"stroke: rgb(255, 255, 255); stroke-opacity: 1; stroke-width: 1px;\"/></g></g><g class=\"zerolinelayer\"><path class=\"y2zl zl crisp\" transform=\"translate(0,420)\" d=\"M377,0h242.99999999999997\" style=\"stroke: rgb(255, 255, 255); stroke-opacity: 1; stroke-width: 2px;\"/></g><path class=\"xlines-below\"/><path class=\"ylines-below\"/><g class=\"overlines-below\"/><g class=\"xaxislayer-below\"/><g class=\"yaxislayer-below\"/><g class=\"overaxes-below\"/><g class=\"plot\" transform=\"translate(377,100)\" clip-path=\"url(#clipa2eba5x2y2plot)\"><g class=\"barlayer mlayer\"><g class=\"trace bars\" shape-rendering=\"crispEdges\" style=\"opacity: 1;\"><g class=\"points\"><g class=\"point\"><path d=\"M0,320V314.57H3.33V320Z\" style=\"vector-effect: non-scaling-stroke; opacity: 1; stroke-width: 0px; fill: rgb(0, 0, 0); fill-opacity: 1;\"/></g><g class=\"point\"><path d=\"M0,0Z\" style=\"vector-effect: non-scaling-stroke; opacity: 1; stroke-width: 0px; fill: rgb(0, 0, 0); fill-opacity: 1;\"/></g><g class=\"point\"><path d=\"M0,0Z\" style=\"vector-effect: non-scaling-stroke; opacity: 1; stroke-width: 0px; fill: rgb(0, 0, 0); fill-opacity: 1;\"/></g><g class=\"point\"><path d=\"M0,0Z\" style=\"vector-effect: non-scaling-stroke; opacity: 1; stroke-width: 0px; fill: rgb(0, 0, 0); fill-opacity: 1;\"/></g><g class=\"point\"><path d=\"M0,0Z\" style=\"vector-effect: non-scaling-stroke; opacity: 1; stroke-width: 0px; fill: rgb(0, 0, 0); fill-opacity: 1;\"/></g><g class=\"point\"><path d=\"M0,0Z\" style=\"vector-effect: non-scaling-stroke; opacity: 1; stroke-width: 0px; fill: rgb(0, 0, 0); fill-opacity: 1;\"/></g><g class=\"point\"><path d=\"M0,0Z\" style=\"vector-effect: non-scaling-stroke; opacity: 1; stroke-width: 0px; fill: rgb(0, 0, 0); fill-opacity: 1;\"/></g><g class=\"point\"><path d=\"M0,0Z\" style=\"vector-effect: non-scaling-stroke; opacity: 1; stroke-width: 0px; fill: rgb(0, 0, 0); fill-opacity: 1;\"/></g><g class=\"point\"><path d=\"M0,0Z\" style=\"vector-effect: non-scaling-stroke; opacity: 1; stroke-width: 0px; fill: rgb(0, 0, 0); fill-opacity: 1;\"/></g><g class=\"point\"><path d=\"M0,0Z\" style=\"vector-effect: non-scaling-stroke; opacity: 1; stroke-width: 0px; fill: rgb(0, 0, 0); fill-opacity: 1;\"/></g><g class=\"point\"><path d=\"M0,0Z\" style=\"vector-effect: non-scaling-stroke; opacity: 1; stroke-width: 0px; fill: rgb(0, 0, 0); fill-opacity: 1;\"/></g><g class=\"point\"><path d=\"M0,0Z\" style=\"vector-effect: non-scaling-stroke; opacity: 1; stroke-width: 0px; fill: rgb(0, 0, 0); fill-opacity: 1;\"/></g><g class=\"point\"><path d=\"M0,0Z\" style=\"vector-effect: non-scaling-stroke; opacity: 1; stroke-width: 0px; fill: rgb(0, 0, 0); fill-opacity: 1;\"/></g><g class=\"point\"><path d=\"M0,0Z\" style=\"vector-effect: non-scaling-stroke; opacity: 1; stroke-width: 0px; fill: rgb(0, 0, 0); fill-opacity: 1;\"/></g><g class=\"point\"><path d=\"M0,0Z\" style=\"vector-effect: non-scaling-stroke; opacity: 1; stroke-width: 0px; fill: rgb(0, 0, 0); fill-opacity: 1;\"/></g><g class=\"point\"><path d=\"M49.93,320V314.57H53.26V320Z\" style=\"vector-effect: non-scaling-stroke; opacity: 1; stroke-width: 0px; fill: rgb(0, 0, 0); fill-opacity: 1;\"/></g><g class=\"point\"><path d=\"M0,0Z\" style=\"vector-effect: non-scaling-stroke; opacity: 1; stroke-width: 0px; fill: rgb(0, 0, 0); fill-opacity: 1;\"/></g><g class=\"point\"><path d=\"M0,0Z\" style=\"vector-effect: non-scaling-stroke; opacity: 1; stroke-width: 0px; fill: rgb(0, 0, 0); fill-opacity: 1;\"/></g><g class=\"point\"><path d=\"M0,0Z\" style=\"vector-effect: non-scaling-stroke; opacity: 1; stroke-width: 0px; fill: rgb(0, 0, 0); fill-opacity: 1;\"/></g><g class=\"point\"><path d=\"M0,0Z\" style=\"vector-effect: non-scaling-stroke; opacity: 1; stroke-width: 0px; fill: rgb(0, 0, 0); fill-opacity: 1;\"/></g><g class=\"point\"><path d=\"M0,0Z\" style=\"vector-effect: non-scaling-stroke; opacity: 1; stroke-width: 0px; fill: rgb(0, 0, 0); fill-opacity: 1;\"/></g><g class=\"point\"><path d=\"M69.9,320V314.57H73.23V320Z\" style=\"vector-effect: non-scaling-stroke; opacity: 1; stroke-width: 0px; fill: rgb(0, 0, 0); fill-opacity: 1;\"/></g><g class=\"point\"><path d=\"M73.23,320V303.71H76.56V320Z\" style=\"vector-effect: non-scaling-stroke; opacity: 1; stroke-width: 0px; fill: rgb(0, 0, 0); fill-opacity: 1;\"/></g><g class=\"point\"><path d=\"M0,0Z\" style=\"vector-effect: non-scaling-stroke; opacity: 1; stroke-width: 0px; fill: rgb(0, 0, 0); fill-opacity: 1;\"/></g><g class=\"point\"><path d=\"M79.89,320V303.71H83.22V320Z\" style=\"vector-effect: non-scaling-stroke; opacity: 1; stroke-width: 0px; fill: rgb(0, 0, 0); fill-opacity: 1;\"/></g><g class=\"point\"><path d=\"M0,0Z\" style=\"vector-effect: non-scaling-stroke; opacity: 1; stroke-width: 0px; fill: rgb(0, 0, 0); fill-opacity: 1;\"/></g><g class=\"point\"><path d=\"M0,0Z\" style=\"vector-effect: non-scaling-stroke; opacity: 1; stroke-width: 0px; fill: rgb(0, 0, 0); fill-opacity: 1;\"/></g><g class=\"point\"><path d=\"M89.88,320V309.14H93.21V320Z\" style=\"vector-effect: non-scaling-stroke; opacity: 1; stroke-width: 0px; fill: rgb(0, 0, 0); fill-opacity: 1;\"/></g><g class=\"point\"><path d=\"M93.21,320V309.14H96.53V320Z\" style=\"vector-effect: non-scaling-stroke; opacity: 1; stroke-width: 0px; fill: rgb(0, 0, 0); fill-opacity: 1;\"/></g><g class=\"point\"><path d=\"M0,0Z\" style=\"vector-effect: non-scaling-stroke; opacity: 1; stroke-width: 0px; fill: rgb(0, 0, 0); fill-opacity: 1;\"/></g><g class=\"point\"><path d=\"M0,0Z\" style=\"vector-effect: non-scaling-stroke; opacity: 1; stroke-width: 0px; fill: rgb(0, 0, 0); fill-opacity: 1;\"/></g><g class=\"point\"><path d=\"M0,0Z\" style=\"vector-effect: non-scaling-stroke; opacity: 1; stroke-width: 0px; fill: rgb(0, 0, 0); fill-opacity: 1;\"/></g><g class=\"point\"><path d=\"M106.52,320V303.71H109.85V320Z\" style=\"vector-effect: non-scaling-stroke; opacity: 1; stroke-width: 0px; fill: rgb(0, 0, 0); fill-opacity: 1;\"/></g><g class=\"point\"><path d=\"M0,0Z\" style=\"vector-effect: non-scaling-stroke; opacity: 1; stroke-width: 0px; fill: rgb(0, 0, 0); fill-opacity: 1;\"/></g><g class=\"point\"><path d=\"M113.18,320V309.14H116.51V320Z\" style=\"vector-effect: non-scaling-stroke; opacity: 1; stroke-width: 0px; fill: rgb(0, 0, 0); fill-opacity: 1;\"/></g><g class=\"point\"><path d=\"M116.51,320V303.71H119.84V320Z\" style=\"vector-effect: non-scaling-stroke; opacity: 1; stroke-width: 0px; fill: rgb(0, 0, 0); fill-opacity: 1;\"/></g><g class=\"point\"><path d=\"M119.84,320V298.29H123.16V320Z\" style=\"vector-effect: non-scaling-stroke; opacity: 1; stroke-width: 0px; fill: rgb(0, 0, 0); fill-opacity: 1;\"/></g><g class=\"point\"><path d=\"M123.16,320V309.14H126.49V320Z\" style=\"vector-effect: non-scaling-stroke; opacity: 1; stroke-width: 0px; fill: rgb(0, 0, 0); fill-opacity: 1;\"/></g><g class=\"point\"><path d=\"M126.49,320V309.14H129.82V320Z\" style=\"vector-effect: non-scaling-stroke; opacity: 1; stroke-width: 0px; fill: rgb(0, 0, 0); fill-opacity: 1;\"/></g><g class=\"point\"><path d=\"M129.82,320V287.43H133.15V320Z\" style=\"vector-effect: non-scaling-stroke; opacity: 1; stroke-width: 0px; fill: rgb(0, 0, 0); fill-opacity: 1;\"/></g><g class=\"point\"><path d=\"M133.15,320V298.29H136.48V320Z\" style=\"vector-effect: non-scaling-stroke; opacity: 1; stroke-width: 0px; fill: rgb(0, 0, 0); fill-opacity: 1;\"/></g><g class=\"point\"><path d=\"M136.48,320V265.71H139.81V320Z\" style=\"vector-effect: non-scaling-stroke; opacity: 1; stroke-width: 0px; fill: rgb(0, 0, 0); fill-opacity: 1;\"/></g><g class=\"point\"><path d=\"M139.81,320V195.14H143.14V320Z\" style=\"vector-effect: non-scaling-stroke; opacity: 1; stroke-width: 0px; fill: rgb(0, 0, 0); fill-opacity: 1;\"/></g><g class=\"point\"><path d=\"M143.14,320V260.29H146.47V320Z\" style=\"vector-effect: non-scaling-stroke; opacity: 1; stroke-width: 0px; fill: rgb(0, 0, 0); fill-opacity: 1;\"/></g><g class=\"point\"><path d=\"M146.47,320V233.14H149.79V320Z\" style=\"vector-effect: non-scaling-stroke; opacity: 1; stroke-width: 0px; fill: rgb(0, 0, 0); fill-opacity: 1;\"/></g><g class=\"point\"><path d=\"M149.79,320V271.14H153.12V320Z\" style=\"vector-effect: non-scaling-stroke; opacity: 1; stroke-width: 0px; fill: rgb(0, 0, 0); fill-opacity: 1;\"/></g><g class=\"point\"><path d=\"M153.12,320V287.43H156.45V320Z\" style=\"vector-effect: non-scaling-stroke; opacity: 1; stroke-width: 0px; fill: rgb(0, 0, 0); fill-opacity: 1;\"/></g><g class=\"point\"><path d=\"M156.45,320V211.43H159.78V320Z\" style=\"vector-effect: non-scaling-stroke; opacity: 1; stroke-width: 0px; fill: rgb(0, 0, 0); fill-opacity: 1;\"/></g><g class=\"point\"><path d=\"M159.78,320V254.86H163.11V320Z\" style=\"vector-effect: non-scaling-stroke; opacity: 1; stroke-width: 0px; fill: rgb(0, 0, 0); fill-opacity: 1;\"/></g><g class=\"point\"><path d=\"M163.11,320V233.14H166.44V320Z\" style=\"vector-effect: non-scaling-stroke; opacity: 1; stroke-width: 0px; fill: rgb(0, 0, 0); fill-opacity: 1;\"/></g><g class=\"point\"><path d=\"M166.44,320V249.43H169.77V320Z\" style=\"vector-effect: non-scaling-stroke; opacity: 1; stroke-width: 0px; fill: rgb(0, 0, 0); fill-opacity: 1;\"/></g><g class=\"point\"><path d=\"M169.77,320V249.43H173.1V320Z\" style=\"vector-effect: non-scaling-stroke; opacity: 1; stroke-width: 0px; fill: rgb(0, 0, 0); fill-opacity: 1;\"/></g><g class=\"point\"><path d=\"M173.1,320V244H176.42V320Z\" style=\"vector-effect: non-scaling-stroke; opacity: 1; stroke-width: 0px; fill: rgb(0, 0, 0); fill-opacity: 1;\"/></g><g class=\"point\"><path d=\"M176.42,320V249.43H179.75V320Z\" style=\"vector-effect: non-scaling-stroke; opacity: 1; stroke-width: 0px; fill: rgb(0, 0, 0); fill-opacity: 1;\"/></g><g class=\"point\"><path d=\"M179.75,320V260.29H183.08V320Z\" style=\"vector-effect: non-scaling-stroke; opacity: 1; stroke-width: 0px; fill: rgb(0, 0, 0); fill-opacity: 1;\"/></g><g class=\"point\"><path d=\"M183.08,320V298.29H186.41V320Z\" style=\"vector-effect: non-scaling-stroke; opacity: 1; stroke-width: 0px; fill: rgb(0, 0, 0); fill-opacity: 1;\"/></g><g class=\"point\"><path d=\"M186.41,320V276.57H189.74V320Z\" style=\"vector-effect: non-scaling-stroke; opacity: 1; stroke-width: 0px; fill: rgb(0, 0, 0); fill-opacity: 1;\"/></g><g class=\"point\"><path d=\"M189.74,320V238.57H193.07V320Z\" style=\"vector-effect: non-scaling-stroke; opacity: 1; stroke-width: 0px; fill: rgb(0, 0, 0); fill-opacity: 1;\"/></g><g class=\"point\"><path d=\"M193.07,320V254.86H196.4V320Z\" style=\"vector-effect: non-scaling-stroke; opacity: 1; stroke-width: 0px; fill: rgb(0, 0, 0); fill-opacity: 1;\"/></g><g class=\"point\"><path d=\"M196.4,320V222.29H199.73V320Z\" style=\"vector-effect: non-scaling-stroke; opacity: 1; stroke-width: 0px; fill: rgb(0, 0, 0); fill-opacity: 1;\"/></g><g class=\"point\"><path d=\"M199.73,320V249.43H203.05V320Z\" style=\"vector-effect: non-scaling-stroke; opacity: 1; stroke-width: 0px; fill: rgb(0, 0, 0); fill-opacity: 1;\"/></g><g class=\"point\"><path d=\"M203.05,320V195.14H206.38V320Z\" style=\"vector-effect: non-scaling-stroke; opacity: 1; stroke-width: 0px; fill: rgb(0, 0, 0); fill-opacity: 1;\"/></g><g class=\"point\"><path d=\"M206.38,320V195.14H209.71V320Z\" style=\"vector-effect: non-scaling-stroke; opacity: 1; stroke-width: 0px; fill: rgb(0, 0, 0); fill-opacity: 1;\"/></g><g class=\"point\"><path d=\"M209.71,320V244H213.04V320Z\" style=\"vector-effect: non-scaling-stroke; opacity: 1; stroke-width: 0px; fill: rgb(0, 0, 0); fill-opacity: 1;\"/></g><g class=\"point\"><path d=\"M213.04,320V276.57H216.37V320Z\" style=\"vector-effect: non-scaling-stroke; opacity: 1; stroke-width: 0px; fill: rgb(0, 0, 0); fill-opacity: 1;\"/></g><g class=\"point\"><path d=\"M216.37,320V238.57H219.7V320Z\" style=\"vector-effect: non-scaling-stroke; opacity: 1; stroke-width: 0px; fill: rgb(0, 0, 0); fill-opacity: 1;\"/></g><g class=\"point\"><path d=\"M219.7,320V206H223.03V320Z\" style=\"vector-effect: non-scaling-stroke; opacity: 1; stroke-width: 0px; fill: rgb(0, 0, 0); fill-opacity: 1;\"/></g><g class=\"point\"><path d=\"M223.03,320V265.71H226.36V320Z\" style=\"vector-effect: non-scaling-stroke; opacity: 1; stroke-width: 0px; fill: rgb(0, 0, 0); fill-opacity: 1;\"/></g><g class=\"point\"><path d=\"M226.36,320V16H229.68V320Z\" style=\"vector-effect: non-scaling-stroke; opacity: 1; stroke-width: 0px; fill: rgb(0, 0, 0); fill-opacity: 1;\"/></g><g class=\"point\"><path d=\"M229.68,320V113.71H233.01V320Z\" style=\"vector-effect: non-scaling-stroke; opacity: 1; stroke-width: 0px; fill: rgb(0, 0, 0); fill-opacity: 1;\"/></g><g class=\"point\"><path d=\"M233.01,320V59.43H236.34V320Z\" style=\"vector-effect: non-scaling-stroke; opacity: 1; stroke-width: 0px; fill: rgb(0, 0, 0); fill-opacity: 1;\"/></g><g class=\"point\"><path d=\"M236.34,320V81.14H239.67V320Z\" style=\"vector-effect: non-scaling-stroke; opacity: 1; stroke-width: 0px; fill: rgb(0, 0, 0); fill-opacity: 1;\"/></g><g class=\"point\"><path d=\"M239.67,320V124.57H243V320Z\" style=\"vector-effect: non-scaling-stroke; opacity: 1; stroke-width: 0px; fill: rgb(0, 0, 0); fill-opacity: 1;\"/></g></g></g></g></g><g class=\"overplot\"/><path class=\"xlines-above crisp\" d=\"M0,0\" style=\"fill: none;\"/><path class=\"ylines-above crisp\" d=\"M0,0\" style=\"fill: none;\"/><g class=\"overlines-above\"/><g class=\"xaxislayer-above\"><g class=\"x2tick\"><text text-anchor=\"middle\" x=\"0\" y=\"433\" transform=\"translate(411.95,0)\" style=\"font-family: 'Open Sans', verdana, arial, sans-serif; font-size: 12px; fill: rgb(42, 63, 95); fill-opacity: 1; white-space: pre; opacity: 1;\">20</text></g><g class=\"x2tick\"><text text-anchor=\"middle\" x=\"0\" y=\"433\" style=\"font-family: 'Open Sans', verdana, arial, sans-serif; font-size: 12px; fill: rgb(42, 63, 95); fill-opacity: 1; white-space: pre; opacity: 1;\" transform=\"translate(478.53,0)\">40</text></g><g class=\"x2tick\"><text text-anchor=\"middle\" x=\"0\" y=\"433\" style=\"font-family: 'Open Sans', verdana, arial, sans-serif; font-size: 12px; fill: rgb(42, 63, 95); fill-opacity: 1; white-space: pre; opacity: 1;\" transform=\"translate(545.1,0)\">60</text></g><g class=\"x2tick\"><text text-anchor=\"middle\" x=\"0\" y=\"433\" style=\"font-family: 'Open Sans', verdana, arial, sans-serif; font-size: 12px; fill: rgb(42, 63, 95); fill-opacity: 1; white-space: pre; opacity: 1;\" transform=\"translate(611.6800000000001,0)\">80</text></g></g><g class=\"yaxislayer-above\"><g class=\"y2tick\"><text text-anchor=\"end\" x=\"376\" y=\"4.199999999999999\" transform=\"translate(0,420)\" style=\"font-family: 'Open Sans', verdana, arial, sans-serif; font-size: 12px; fill: rgb(42, 63, 95); fill-opacity: 1; white-space: pre; opacity: 1;\">0</text></g><g class=\"y2tick\"><text text-anchor=\"end\" x=\"376\" y=\"4.199999999999999\" style=\"font-family: 'Open Sans', verdana, arial, sans-serif; font-size: 12px; fill: rgb(42, 63, 95); fill-opacity: 1; white-space: pre; opacity: 1;\" transform=\"translate(0,365.71)\">10</text></g><g class=\"y2tick\"><text text-anchor=\"end\" x=\"376\" y=\"4.199999999999999\" style=\"font-family: 'Open Sans', verdana, arial, sans-serif; font-size: 12px; fill: rgb(42, 63, 95); fill-opacity: 1; white-space: pre; opacity: 1;\" transform=\"translate(0,311.43)\">20</text></g><g class=\"y2tick\"><text text-anchor=\"end\" x=\"376\" y=\"4.199999999999999\" style=\"font-family: 'Open Sans', verdana, arial, sans-serif; font-size: 12px; fill: rgb(42, 63, 95); fill-opacity: 1; white-space: pre; opacity: 1;\" transform=\"translate(0,257.14)\">30</text></g><g class=\"y2tick\"><text text-anchor=\"end\" x=\"376\" y=\"4.199999999999999\" style=\"font-family: 'Open Sans', verdana, arial, sans-serif; font-size: 12px; fill: rgb(42, 63, 95); fill-opacity: 1; white-space: pre; opacity: 1;\" transform=\"translate(0,202.86)\">40</text></g><g class=\"y2tick\"><text text-anchor=\"end\" x=\"376\" y=\"4.199999999999999\" style=\"font-family: 'Open Sans', verdana, arial, sans-serif; font-size: 12px; fill: rgb(42, 63, 95); fill-opacity: 1; white-space: pre; opacity: 1;\" transform=\"translate(0,148.57)\">50</text></g></g><g class=\"overaxes-above\"/></g></g><g class=\"polarlayer\"/><g class=\"ternarylayer\"/><g class=\"geolayer\"/><g class=\"funnelarealayer\"/><g class=\"pielayer\"/><g class=\"iciclelayer\"/><g class=\"treemaplayer\"/><g class=\"sunburstlayer\"/><g class=\"glimages\"/><defs id=\"topdefs-a2eba5\"><g class=\"clips\"/></defs><g class=\"layer-above\"><g class=\"imagelayer\"/><g class=\"shapelayer\"/></g><g class=\"infolayer\"><g class=\"g-gtitle\"><text class=\"gtitle\" x=\"350\" y=\"50\" text-anchor=\"middle\" dy=\"0em\" style=\"font-family: 'Open Sans', verdana, arial, sans-serif; font-size: 17px; fill: rgb(42, 63, 95); opacity: 1; font-weight: normal; white-space: pre;\">Age Distribution by stroke</text></g><g class=\"g-xtitle\"><text class=\"xtitle\" x=\"201.5\" y=\"460.8\" text-anchor=\"middle\" style=\"font-family: 'Open Sans', verdana, arial, sans-serif; font-size: 14px; fill: rgb(42, 63, 95); opacity: 1; font-weight: normal; white-space: pre;\">Age</text></g><g class=\"g-x2title\"><text class=\"x2title\" x=\"498.5\" y=\"460.8\" text-anchor=\"middle\" style=\"font-family: 'Open Sans', verdana, arial, sans-serif; font-size: 14px; fill: rgb(42, 63, 95); opacity: 1; font-weight: normal; white-space: pre;\">Age</text></g><g class=\"g-ytitle\"><text class=\"ytitle\" transform=\"rotate(-90,31.309375000000003,260)\" x=\"31.309375000000003\" y=\"260\" text-anchor=\"middle\" style=\"font-family: 'Open Sans', verdana, arial, sans-serif; font-size: 14px; fill: rgb(42, 63, 95); opacity: 1; font-weight: normal; white-space: pre;\">Count</text></g><g class=\"g-y2title\"><text class=\"y2title\" transform=\"rotate(-90,335.934375,260)\" x=\"335.934375\" y=\"260\" text-anchor=\"middle\" style=\"font-family: 'Open Sans', verdana, arial, sans-serif; font-size: 14px; fill: rgb(42, 63, 95); opacity: 1; font-weight: normal; white-space: pre;\">Count</text></g><g class=\"annotation\" data-index=\"0\" style=\"opacity: 1;\"><g class=\"annotation-text-g\" transform=\"rotate(0,201.5,88.5)\"><g class=\"cursor-pointer\" transform=\"translate(160,77)\"><rect class=\"bg\" x=\"0.5\" y=\"0.5\" width=\"83\" height=\"22\" style=\"stroke-width: 1px; stroke: rgb(0, 0, 0); stroke-opacity: 0; fill: rgb(0, 0, 0); fill-opacity: 0;\"/><text class=\"annotation-text\" text-anchor=\"middle\" x=\"41.96875\" y=\"18\" style=\"font-family: 'Open Sans', verdana, arial, sans-serif; font-size: 16px; fill: rgb(42, 63, 95); fill-opacity: 1; white-space: pre;\">No Stroke</text></g></g></g><g class=\"annotation\" data-index=\"1\" style=\"opacity: 1;\"><g class=\"annotation-text-g\" transform=\"rotate(0,498.5,88.5)\"><g class=\"cursor-pointer\" transform=\"translate(454,77)\"><rect class=\"bg\" x=\"0.5\" y=\"0.5\" width=\"89\" height=\"22\" style=\"stroke-width: 1px; stroke: rgb(0, 0, 0); stroke-opacity: 0; fill: rgb(0, 0, 0); fill-opacity: 0;\"/><text class=\"annotation-text\" text-anchor=\"middle\" x=\"45.484375\" y=\"18\" style=\"font-family: 'Open Sans', verdana, arial, sans-serif; font-size: 16px; fill: rgb(42, 63, 95); fill-opacity: 1; white-space: pre;\">Yes Stroke</text></g></g></g></g></svg>"
      ]
     },
     "metadata": {},
     "output_type": "display_data"
    }
   ],
   "source": [
    "fig = custom_historgram('age', ['Age Distribution by stroke', 'Age'])\n",
    "fig.show('svg')"
   ]
  },
  {
   "cell_type": "code",
   "execution_count": 40,
   "id": "47f054e2",
   "metadata": {},
   "outputs": [
    {
     "data": {
      "text/plain": [
       "30.230696202531643"
      ]
     },
     "execution_count": 40,
     "metadata": {},
     "output_type": "execute_result"
    }
   ],
   "source": [
    "stroke_data['bmi'].mean()"
   ]
  },
  {
   "cell_type": "code",
   "execution_count": 41,
   "id": "b6152fb8",
   "metadata": {},
   "outputs": [
    {
     "data": {
      "text/plain": [
       "28.02217163110899"
      ]
     },
     "execution_count": 41,
     "metadata": {},
     "output_type": "execute_result"
    }
   ],
   "source": [
    "no_stroke_data['bmi'].mean()"
   ]
  },
  {
   "cell_type": "code",
   "execution_count": 42,
   "id": "e0edd843",
   "metadata": {},
   "outputs": [
    {
     "data": {
      "image/svg+xml": [
       "<svg class=\"main-svg\" xmlns=\"http://www.w3.org/2000/svg\" xmlns:xlink=\"http://www.w3.org/1999/xlink\" width=\"700\" height=\"500\" style=\"\" viewBox=\"0 0 700 500\"><rect x=\"0\" y=\"0\" width=\"700\" height=\"500\" style=\"fill: rgb(255, 255, 255); fill-opacity: 1;\"/><defs id=\"defs-1cb80f\"><g class=\"clips\"><clipPath id=\"clip1cb80fxyplot\" class=\"plotclip\"><rect width=\"540\" height=\"320\"/></clipPath><clipPath class=\"axesclip\" id=\"clip1cb80fx\"><rect x=\"80\" y=\"0\" width=\"540\" height=\"500\"/></clipPath><clipPath class=\"axesclip\" id=\"clip1cb80fy\"><rect x=\"0\" y=\"100\" width=\"700\" height=\"320\"/></clipPath><clipPath class=\"axesclip\" id=\"clip1cb80fxy\"><rect x=\"80\" y=\"100\" width=\"540\" height=\"320\"/></clipPath></g><g class=\"gradients\"/><g class=\"patterns\"/></defs><g class=\"bglayer\"><rect class=\"bg\" x=\"80\" y=\"100\" width=\"540\" height=\"320\" style=\"fill: rgb(229, 236, 246); fill-opacity: 1; stroke-width: 0;\"/></g><g class=\"layer-below\"><g class=\"imagelayer\"/><g class=\"shapelayer\"/></g><g class=\"cartesianlayer\"><g class=\"subplot xy\"><g class=\"layer-subplot\"><g class=\"shapelayer\"/><g class=\"imagelayer\"/></g><g class=\"gridlayer\"><g class=\"x\"/><g class=\"y\"><path class=\"ygrid crisp\" transform=\"translate(0,397.52)\" d=\"M80,0h540\" style=\"stroke: rgb(255, 255, 255); stroke-opacity: 1; stroke-width: 1px;\"/><path class=\"ygrid crisp\" transform=\"translate(0,358.45)\" d=\"M80,0h540\" style=\"stroke: rgb(255, 255, 255); stroke-opacity: 1; stroke-width: 1px;\"/><path class=\"ygrid crisp\" transform=\"translate(0,319.38)\" d=\"M80,0h540\" style=\"stroke: rgb(255, 255, 255); stroke-opacity: 1; stroke-width: 1px;\"/><path class=\"ygrid crisp\" transform=\"translate(0,280.32)\" d=\"M80,0h540\" style=\"stroke: rgb(255, 255, 255); stroke-opacity: 1; stroke-width: 1px;\"/><path class=\"ygrid crisp\" transform=\"translate(0,241.25)\" d=\"M80,0h540\" style=\"stroke: rgb(255, 255, 255); stroke-opacity: 1; stroke-width: 1px;\"/><path class=\"ygrid crisp\" transform=\"translate(0,202.18)\" d=\"M80,0h540\" style=\"stroke: rgb(255, 255, 255); stroke-opacity: 1; stroke-width: 1px;\"/><path class=\"ygrid crisp\" transform=\"translate(0,163.11)\" d=\"M80,0h540\" style=\"stroke: rgb(255, 255, 255); stroke-opacity: 1; stroke-width: 1px;\"/><path class=\"ygrid crisp\" transform=\"translate(0,124.03999999999999)\" d=\"M80,0h540\" style=\"stroke: rgb(255, 255, 255); stroke-opacity: 1; stroke-width: 1px;\"/></g></g><g class=\"zerolinelayer\"/><path class=\"xlines-below\"/><path class=\"ylines-below\"/><g class=\"overlines-below\"/><g class=\"xaxislayer-below\"/><g class=\"yaxislayer-below\"/><g class=\"overaxes-below\"/><g class=\"plot\" transform=\"translate(80,100)\" clip-path=\"url(#clip1cb80fxyplot)\"><g class=\"violinlayer mlayer\"><g class=\"trace violins\" style=\"opacity: 1;\"><path class=\"violin\" d=\"M135.01,304Q135.02,303.15 135.02,302.73C135.02,302.3 135.03,301.88 135.03,301.45C135.03,301.03 135.04,300.6 135.04,300.18C135.04,299.75 135.04,299.33 135.05,298.9C135.05,298.48 135.07,298.05 135.07,297.63C135.08,297.2 135.08,296.78 135.08,296.35C135.08,295.93 135.08,295.5 135.08,295.08C135.08,294.66 135.09,294.23 135.1,293.81C135.11,293.38 135.11,292.96 135.12,292.53C135.13,292.11 135.14,291.68 135.16,291.26C135.18,290.83 135.2,290.41 135.24,289.98C135.27,289.56 135.32,289.13 135.37,288.71C135.42,288.28 135.48,287.85 135.56,287.43C135.64,287 135.73,286.58 135.83,286.16C135.94,285.73 136.05,285.3 136.19,284.88C136.33,284.45 136.48,284.03 136.65,283.61C136.82,283.18 137.02,282.76 137.23,282.34C137.45,281.91 137.69,281.48 137.95,281.06C138.22,280.63 138.52,280.21 138.84,279.79C139.18,279.36 139.54,278.93 139.93,278.51C140.34,278.08 140.79,277.66 141.25,277.24C141.73,276.81 142.24,276.38 142.77,275.96C143.31,275.53 143.89,275.11 144.46,274.69C145.05,274.26 145.65,273.84 146.25,273.42C146.85,272.99 147.46,272.57 148.05,272.14C148.63,271.72 149.21,271.3 149.77,270.87C150.31,270.45 150.84,270.02 151.34,269.59C151.82,269.17 152.28,268.76 152.7,268.32C153.1,267.9 153.47,267.48 153.81,267.04C154.13,266.62 154.42,266.2 154.69,265.77C154.95,265.35 155.17,264.93 155.39,264.5C155.61,264.08 155.8,263.64 156.02,263.22C156.24,262.79 156.46,262.37 156.71,261.95C156.97,261.52 157.24,261.09 157.55,260.67C157.87,260.24 158.22,259.82 158.58,259.4C158.96,258.97 159.36,258.54 159.78,258.12C160.21,257.69 160.67,257.27 161.13,256.85C161.6,256.42 162.08,256 162.58,255.58C163.09,255.15 163.61,254.72 164.15,254.3C164.7,253.87 165.27,253.45 165.85,253.03C166.45,252.6 167.07,252.17 167.7,251.75C168.35,251.32 169.01,250.9 169.68,250.48C170.37,250.05 171.07,249.62 171.77,249.2C172.47,248.77 173.18,248.36 173.87,247.93C174.55,247.51 175.23,247.09 175.86,246.65C176.47,246.23 177.07,245.82 177.6,245.38C178.1,244.97 178.57,244.55 178.98,244.11C179.36,243.7 179.7,243.27 179.98,242.83C180.24,242.42 180.45,241.99 180.64,241.56C180.83,241.14 180.96,240.71 181.11,240.28C181.26,239.86 181.39,239.43 181.56,239.01C181.73,238.58 181.91,238.15 182.12,237.73C182.34,237.3 182.59,236.88 182.86,236.46C183.13,236.03 183.44,235.61 183.74,235.19C184.05,234.76 184.38,234.34 184.68,233.91C184.98,233.49 185.27,233.07 185.53,232.64C185.78,232.22 186.02,231.79 186.22,231.36C186.42,230.94 186.59,230.52 186.73,230.09C186.87,229.67 186.98,229.24 187.06,228.81C187.14,228.39 187.2,227.96 187.21,227.54C187.22,227.12 187.21,226.69 187.12,226.27C187.03,225.84 186.88,225.4 186.67,224.99C186.44,224.55 186.13,224.13 185.78,223.72C185.39,223.27 184.91,222.85 184.41,222.44C183.87,222 183.25,221.59 182.64,221.17C182,220.74 181.31,220.31 180.63,219.89C179.95,219.46 179.24,219.05 178.56,218.62C177.9,218.2 177.24,217.78 176.62,217.35C176.03,216.93 175.45,216.51 174.91,216.07C174.4,215.66 173.93,215.23 173.48,214.8C173.05,214.38 172.66,213.95 172.26,213.52C171.87,213.1 171.52,212.67 171.13,212.25C170.73,211.82 170.34,211.39 169.91,210.97C169.46,210.54 169,210.12 168.5,209.7C167.98,209.26 167.42,208.84 166.85,208.42C166.26,207.99 165.64,207.57 165.02,207.15C164.4,206.72 163.76,206.31 163.14,205.88C162.53,205.46 161.91,205.03 161.33,204.6C160.77,204.18 160.22,203.76 159.7,203.33C159.19,202.91 158.71,202.48 158.24,202.05C157.79,201.63 157.36,201.21 156.94,200.78C156.53,200.36 156.13,199.93 155.73,199.5C155.34,199.08 154.95,198.65 154.56,198.23C154.17,197.81 153.79,197.38 153.41,196.96C153.03,196.53 152.64,196.11 152.27,195.68C151.9,195.26 151.54,194.84 151.19,194.41C150.85,193.99 150.51,193.56 150.19,193.13C149.88,192.71 149.59,192.29 149.31,191.86C149.04,191.44 148.79,191.01 148.54,190.58C148.3,190.16 148.06,189.74 147.84,189.31C147.62,188.89 147.41,188.46 147.2,188.04C146.99,187.61 146.78,187.19 146.58,186.76C146.38,186.34 146.18,185.92 145.99,185.49C145.8,185.07 145.62,184.64 145.44,184.21C145.26,183.79 145.08,183.36 144.9,182.94C144.72,182.51 144.55,182.09 144.37,181.66C144.2,181.24 144.02,180.81 143.85,180.39C143.68,179.97 143.51,179.54 143.34,179.12C143.17,178.69 143.01,178.27 142.85,177.84C142.69,177.42 142.55,177 142.4,176.57C142.26,176.15 142.11,175.72 141.98,175.29C141.85,174.87 141.72,174.44 141.6,174.02C141.47,173.59 141.35,173.17 141.23,172.74C141.11,172.32 141,171.89 140.89,171.47C140.78,171.04 140.68,170.62 140.58,170.19C140.48,169.77 140.4,169.34 140.31,168.92C140.22,168.5 140.14,168.07 140.06,167.65C139.97,167.22 139.89,166.8 139.8,166.37C139.71,165.95 139.61,165.52 139.51,165.1C139.41,164.67 139.3,164.24 139.18,163.82C139.06,163.39 138.94,162.97 138.81,162.55C138.68,162.12 138.54,161.7 138.41,161.27C138.28,160.85 138.14,160.42 138.01,160C137.88,159.58 137.74,159.16 137.62,158.73C137.5,158.31 137.38,157.88 137.27,157.45C137.16,157.03 137.05,156.61 136.96,156.18C136.87,155.76 136.79,155.33 136.71,154.9C136.64,154.48 136.57,154.05 136.51,153.63C136.45,153.2 136.4,152.78 136.36,152.35C136.32,151.93 136.28,151.5 136.25,151.08C136.22,150.66 136.21,150.23 136.19,149.81C136.17,149.38 136.15,148.96 136.14,148.53C136.13,148.11 136.12,147.68 136.11,147.26C136.1,146.83 136.1,146.41 136.09,145.98C136.08,145.56 136.06,145.13 136.05,144.71C136.03,144.28 136.02,143.86 136,143.43C135.98,143.01 135.96,142.58 135.93,142.16C135.9,141.73 135.87,141.31 135.84,140.88C135.81,140.46 135.77,140.03 135.74,139.61C135.7,139.19 135.66,138.76 135.63,138.34C135.59,137.91 135.56,137.49 135.53,137.06C135.5,136.64 135.49,136.21 135.47,135.79C135.45,135.36 135.44,134.94 135.43,134.51C135.42,134.09 135.43,133.66 135.43,133.24C135.43,132.81 135.45,132.39 135.46,131.96C135.47,131.54 135.48,131.11 135.5,130.69C135.52,130.27 135.54,129.84 135.56,129.42C135.58,128.99 135.6,128.57 135.62,128.14C135.64,127.72 135.66,127.29 135.68,126.87C135.7,126.44 135.72,126.02 135.73,125.59C135.74,125.17 135.75,124.74 135.76,124.32C135.77,123.89 135.77,123.47 135.76,123.04C135.75,122.62 135.74,122.19 135.72,121.77C135.7,121.35 135.68,120.92 135.66,120.5C135.63,120.07 135.6,119.65 135.57,119.22C135.54,118.8 135.51,118.37 135.48,117.95C135.45,117.52 135.43,117.1 135.4,116.67C135.37,116.25 135.34,115.82 135.32,115.4C135.3,114.97 135.29,114.55 135.27,114.12C135.25,113.7 135.24,113.27 135.22,112.85C135.21,112.43 135.19,112 135.18,111.58C135.17,111.15 135.15,110.73 135.14,110.3C135.13,109.88 135.12,109.45 135.11,109.03C135.1,108.6 135.09,108.18 135.08,107.75C135.07,107.33 135.06,106.9 135.06,106.48C135.05,106.05 135.05,105.63 135.05,105.2C135.05,104.78 135.05,104.35 135.05,103.93C135.05,103.5 135.05,103.08 135.06,102.65C135.06,102.23 135.07,101.8 135.08,101.38C135.09,100.96 135.1,100.53 135.1,100.11C135.11,99.68 135.11,99.26 135.11,98.83C135.11,98.41 135.11,97.98 135.11,97.56C135.11,97.13 135.11,96.71 135.11,96.28C135.11,95.86 135.1,95.43 135.1,95.01C135.09,94.58 135.09,94.16 135.08,93.73C135.08,93.31 135.07,92.88 135.07,92.46C135.07,92.04 135.07,91.61 135.07,91.19C135.07,90.76 135.06,90.34 135.06,89.91C135.06,89.49 135.06,89.06 135.06,88.64C135.06,88.21 135.06,87.79 135.06,87.36C135.06,86.94 135.06,86.51 135.06,86.09C135.06,85.66 135.06,85.24 135.06,84.81C135.06,84.39 135.06,83.96 135.06,83.54C135.06,83.12 135.07,82.69 135.07,82.27C135.07,81.84 135.07,81.42 135.07,80.99C135.07,80.57 135.06,80.14 135.06,79.72C135.06,79.29 135.05,78.87 135.05,78.44C135.05,78.02 135.04,77.59 135.04,77.17C135.04,76.74 135.03,76.32 135.03,75.89C135.03,75.47 135.02,75.04 135.02,74.62C135.02,74.2 135.01,73.77 135.01,73.35C135.01,72.92 135.01,72.5 135.01,72.07C135.01,71.65 135,71.22 135,70.8C135,70.37 135,69.95 135,69.52C135,69.1 135,68.67 135,68.25C135,67.82 135,67.4 135,66.97C135,66.55 135,66.12 135,65.7C135,65.27 135,64.85 135,64.42C135,64 135,63.57 135,63.15C135,62.73 135,62.3 135,61.88C135,61.45 135,61.03 135,60.6C135,60.18 135,59.75 135,59.33C135,58.9 135,58.48 135,58.05C135,57.63 135,57.2 135,56.78C135,56.35 135,55.93 135,55.5C135,55.08 135,54.65 135,54.23C135,53.81 135,53.38 135,52.96C135,52.53 135,52.11 135,51.68C135,51.26 135,50.83 135,50.41C135,49.98 135,49.56 135,49.13C135,48.71 135,48.28 135,47.86C135,47.43 135,47.01 135,46.58C135,46.16 135,45.73 135,45.31C135,44.89 135,44.46 135,44.04C135,43.61 135,43.19 135,42.76C135,42.34 135,41.91 135,41.49C135,41.06 135,40.64 135,40.21C135,39.79 135,39.36 135,38.94C135,38.51 135,38.09 135,37.66C135,37.24 135,36.81 135,36.39C135,35.97 135,35.54 135,35.12C135,34.69 135,34.27 135,33.84C135,33.42 135,32.99 135,32.57C135,32.14 135,31.72 135,31.29C135,30.87 135.01,30.44 135.01,30.02C135.01,29.59 135.01,29.17 135.01,28.74C135.01,28.32 135.01,27.89 135.01,27.47C135.01,27.04 135.02,26.62 135.02,26.19C135.02,25.77 135.02,25.34 135.02,24.92C135.02,24.5 135.02,24.07 135.02,23.65C135.02,23.22 135.02,22.8 135.02,22.37C135.02,21.95 135.02,21.52 135.02,21.1C135.02,20.67 135.01,20.25 135.01,19.82C135.01,19.4 135.01,18.97 135.01,18.55C135.01,18.12 135.01,17.7 135.01,17.27Q135.01,16.85 135,16L135,16Q134.99,16.85 134.99,17.27C134.99,17.7 134.99,18.12 134.99,18.55C134.99,18.97 134.99,19.4 134.99,19.82C134.99,20.25 134.98,20.67 134.98,21.1C134.98,21.52 134.98,21.95 134.98,22.37C134.98,22.8 134.98,23.22 134.98,23.65C134.98,24.07 134.98,24.5 134.98,24.92C134.98,25.34 134.98,25.77 134.98,26.19C134.98,26.62 134.99,27.04 134.99,27.47C134.99,27.89 134.99,28.32 134.99,28.74C134.99,29.17 134.99,29.59 134.99,30.02C134.99,30.44 135,30.87 135,31.29C135,31.72 135,32.14 135,32.57C135,32.99 135,33.42 135,33.84C135,34.27 135,34.69 135,35.12C135,35.54 135,35.97 135,36.39C135,36.81 135,37.24 135,37.66C135,38.09 135,38.51 135,38.94C135,39.36 135,39.79 135,40.21C135,40.64 135,41.06 135,41.49C135,41.91 135,42.34 135,42.76C135,43.19 135,43.61 135,44.04C135,44.46 135,44.89 135,45.31C135,45.73 135,46.16 135,46.58C135,47.01 135,47.43 135,47.86C135,48.28 135,48.71 135,49.13C135,49.56 135,49.98 135,50.41C135,50.83 135,51.26 135,51.68C135,52.11 135,52.53 135,52.96C135,53.38 135,53.81 135,54.23C135,54.65 135,55.08 135,55.5C135,55.93 135,56.35 135,56.78C135,57.2 135,57.63 135,58.05C135,58.48 135,58.9 135,59.33C135,59.75 135,60.18 135,60.6C135,61.03 135,61.45 135,61.88C135,62.3 135,62.73 135,63.15C135,63.57 135,64 135,64.42C135,64.85 135,65.27 135,65.7C135,66.12 135,66.55 135,66.97C135,67.4 135,67.82 135,68.25C135,68.67 135,69.1 135,69.52C135,69.95 135,70.37 135,70.8C135,71.22 134.99,71.65 134.99,72.07C134.99,72.5 134.99,72.92 134.99,73.35C134.99,73.77 134.98,74.2 134.98,74.62C134.98,75.04 134.97,75.47 134.97,75.89C134.97,76.32 134.96,76.74 134.96,77.17C134.96,77.59 134.95,78.02 134.95,78.44C134.95,78.87 134.94,79.29 134.94,79.72C134.94,80.14 134.93,80.57 134.93,80.99C134.93,81.42 134.93,81.84 134.93,82.27C134.93,82.69 134.94,83.12 134.94,83.54C134.94,83.96 134.94,84.39 134.94,84.81C134.94,85.24 134.94,85.66 134.94,86.09C134.94,86.51 134.94,86.94 134.94,87.36C134.94,87.79 134.94,88.21 134.94,88.64C134.94,89.06 134.94,89.49 134.94,89.91C134.94,90.34 134.93,90.76 134.93,91.19C134.93,91.61 134.93,92.04 134.93,92.46C134.93,92.88 134.92,93.31 134.92,93.73C134.91,94.16 134.91,94.58 134.9,95.01C134.9,95.43 134.89,95.86 134.89,96.28C134.89,96.71 134.89,97.13 134.89,97.56C134.89,97.98 134.89,98.41 134.89,98.83C134.89,99.26 134.89,99.68 134.9,100.11C134.9,100.53 134.91,100.96 134.92,101.38C134.93,101.8 134.94,102.23 134.94,102.65C134.95,103.08 134.95,103.5 134.95,103.93C134.95,104.35 134.95,104.78 134.95,105.2C134.95,105.63 134.95,106.05 134.94,106.48C134.94,106.9 134.93,107.33 134.92,107.75C134.91,108.18 134.9,108.6 134.89,109.03C134.88,109.45 134.87,109.88 134.86,110.3C134.85,110.73 134.83,111.15 134.82,111.58C134.81,112 134.79,112.43 134.78,112.85C134.76,113.27 134.75,113.7 134.73,114.12C134.71,114.55 134.7,114.97 134.68,115.4C134.66,115.82 134.63,116.25 134.6,116.67C134.57,117.1 134.55,117.52 134.52,117.95C134.49,118.37 134.46,118.8 134.43,119.22C134.4,119.65 134.37,120.07 134.34,120.5C134.32,120.92 134.3,121.35 134.28,121.77C134.26,122.19 134.25,122.62 134.24,123.04C134.23,123.47 134.23,123.89 134.24,124.32C134.25,124.74 134.26,125.17 134.27,125.59C134.28,126.02 134.3,126.44 134.32,126.87C134.34,127.29 134.36,127.72 134.38,128.14C134.4,128.57 134.42,128.99 134.44,129.42C134.46,129.84 134.48,130.27 134.5,130.69C134.52,131.11 134.53,131.54 134.54,131.96C134.55,132.39 134.57,132.81 134.57,133.24C134.57,133.66 134.58,134.09 134.57,134.51C134.56,134.94 134.55,135.36 134.53,135.79C134.51,136.21 134.5,136.64 134.47,137.06C134.44,137.49 134.41,137.91 134.37,138.34C134.34,138.76 134.3,139.19 134.26,139.61C134.23,140.03 134.19,140.46 134.16,140.88C134.13,141.31 134.1,141.73 134.07,142.16C134.04,142.58 134.02,143.01 134,143.43C133.98,143.86 133.97,144.28 133.95,144.71C133.94,145.13 133.92,145.56 133.91,145.98C133.9,146.41 133.9,146.83 133.89,147.26C133.88,147.68 133.87,148.11 133.86,148.53C133.85,148.96 133.83,149.38 133.81,149.81C133.79,150.23 133.78,150.66 133.75,151.08C133.72,151.5 133.68,151.93 133.64,152.35C133.6,152.78 133.55,153.2 133.49,153.63C133.43,154.05 133.36,154.48 133.29,154.9C133.21,155.33 133.13,155.76 133.04,156.18C132.95,156.61 132.84,157.03 132.73,157.45C132.62,157.88 132.5,158.31 132.38,158.73C132.26,159.16 132.12,159.58 131.99,160C131.86,160.42 131.72,160.85 131.59,161.27C131.46,161.7 131.32,162.12 131.19,162.55C131.06,162.97 130.94,163.39 130.82,163.82C130.7,164.24 130.59,164.67 130.49,165.1C130.39,165.52 130.29,165.95 130.2,166.37C130.11,166.8 130.03,167.22 129.94,167.65C129.86,168.07 129.78,168.5 129.69,168.92C129.6,169.34 129.52,169.77 129.42,170.19C129.32,170.62 129.22,171.04 129.11,171.47C129,171.89 128.89,172.32 128.77,172.74C128.65,173.17 128.53,173.59 128.4,174.02C128.28,174.44 128.15,174.87 128.02,175.29C127.89,175.72 127.74,176.15 127.6,176.57C127.45,177 127.31,177.42 127.15,177.84C126.99,178.27 126.83,178.69 126.66,179.12C126.49,179.54 126.32,179.97 126.15,180.39C125.98,180.81 125.8,181.24 125.63,181.66C125.45,182.09 125.28,182.51 125.1,182.94C124.92,183.36 124.74,183.79 124.56,184.21C124.38,184.64 124.2,185.07 124.01,185.49C123.82,185.92 123.62,186.34 123.42,186.76C123.22,187.19 123.01,187.61 122.8,188.04C122.59,188.46 122.38,188.89 122.16,189.31C121.94,189.74 121.7,190.16 121.46,190.58C121.21,191.01 120.96,191.44 120.69,191.86C120.41,192.29 120.12,192.71 119.81,193.13C119.49,193.56 119.15,193.99 118.81,194.41C118.46,194.84 118.1,195.26 117.73,195.68C117.36,196.11 116.97,196.53 116.59,196.96C116.21,197.38 115.83,197.81 115.44,198.23C115.05,198.65 114.66,199.08 114.27,199.5C113.87,199.93 113.47,200.36 113.06,200.78C112.64,201.21 112.21,201.63 111.76,202.05C111.29,202.48 110.81,202.91 110.3,203.33C109.78,203.76 109.23,204.18 108.67,204.6C108.09,205.03 107.47,205.46 106.86,205.88C106.24,206.31 105.6,206.72 104.98,207.15C104.36,207.57 103.74,207.99 103.15,208.42C102.58,208.84 102.02,209.26 101.5,209.7C101,210.12 100.54,210.54 100.09,210.97C99.66,211.39 99.27,211.82 98.87,212.25C98.48,212.67 98.13,213.1 97.74,213.52C97.34,213.95 96.95,214.38 96.52,214.8C96.07,215.23 95.6,215.66 95.09,216.07C94.55,216.51 93.97,216.93 93.38,217.35C92.76,217.78 92.1,218.2 91.44,218.62C90.76,219.05 90.05,219.46 89.37,219.89C88.69,220.31 88,220.74 87.36,221.17C86.75,221.59 86.13,222 85.59,222.44C85.09,222.85 84.61,223.27 84.22,223.72C83.87,224.13 83.56,224.55 83.33,224.99C83.12,225.4 82.97,225.84 82.88,226.27C82.79,226.69 82.78,227.12 82.79,227.54C82.8,227.96 82.86,228.39 82.94,228.81C83.02,229.24 83.13,229.67 83.27,230.09C83.41,230.52 83.58,230.94 83.78,231.36C83.98,231.79 84.22,232.22 84.47,232.64C84.73,233.07 85.02,233.49 85.32,233.91C85.62,234.34 85.95,234.76 86.26,235.19C86.56,235.61 86.87,236.03 87.14,236.46C87.41,236.88 87.66,237.3 87.88,237.73C88.09,238.15 88.27,238.58 88.44,239.01C88.61,239.43 88.74,239.86 88.89,240.28C89.04,240.71 89.17,241.14 89.36,241.56C89.55,241.99 89.76,242.42 90.02,242.83C90.3,243.27 90.64,243.7 91.02,244.11C91.43,244.55 91.9,244.97 92.4,245.38C92.93,245.82 93.53,246.23 94.14,246.65C94.77,247.09 95.45,247.51 96.13,247.93C96.82,248.36 97.53,248.77 98.23,249.2C98.93,249.62 99.63,250.05 100.32,250.48C100.99,250.9 101.65,251.32 102.3,251.75C102.93,252.17 103.55,252.6 104.15,253.03C104.73,253.45 105.3,253.87 105.85,254.3C106.39,254.72 106.91,255.15 107.42,255.58C107.92,256 108.4,256.42 108.87,256.85C109.33,257.27 109.79,257.69 110.22,258.12C110.64,258.54 111.04,258.97 111.42,259.4C111.78,259.82 112.13,260.24 112.45,260.67C112.76,261.09 113.03,261.52 113.29,261.95C113.54,262.37 113.76,262.79 113.98,263.22C114.2,263.64 114.39,264.08 114.61,264.5C114.83,264.93 115.05,265.35 115.31,265.77C115.58,266.2 115.87,266.62 116.19,267.04C116.53,267.48 116.9,267.9 117.3,268.32C117.72,268.76 118.18,269.17 118.66,269.59C119.16,270.02 119.69,270.45 120.23,270.87C120.79,271.3 121.37,271.72 121.95,272.14C122.54,272.57 123.15,272.99 123.75,273.42C124.35,273.84 124.95,274.26 125.54,274.69C126.11,275.11 126.69,275.53 127.23,275.96C127.76,276.38 128.27,276.81 128.75,277.24C129.21,277.66 129.66,278.08 130.07,278.51C130.46,278.93 130.82,279.36 131.16,279.79C131.48,280.21 131.78,280.63 132.05,281.06C132.31,281.48 132.55,281.91 132.77,282.34C132.98,282.76 133.18,283.18 133.35,283.61C133.52,284.03 133.67,284.45 133.81,284.88C133.95,285.3 134.06,285.73 134.17,286.16C134.27,286.58 134.36,287 134.44,287.43C134.52,287.85 134.58,288.28 134.63,288.71C134.68,289.13 134.73,289.56 134.76,289.98C134.8,290.41 134.82,290.83 134.84,291.26C134.86,291.68 134.87,292.11 134.88,292.53C134.89,292.96 134.89,293.38 134.9,293.81C134.91,294.23 134.92,294.66 134.92,295.08C134.92,295.5 134.92,295.93 134.92,296.35C134.92,296.78 134.92,297.2 134.93,297.63C134.93,298.05 134.95,298.48 134.95,298.9C134.96,299.33 134.96,299.75 134.96,300.18C134.96,300.6 134.97,301.03 134.97,301.45C134.97,301.88 134.98,302.3 134.98,302.73Q134.98,303.15 134.99,304Z\" style=\"vector-effect: non-scaling-stroke; stroke-width: 2px; stroke: rgb(0, 128, 128); stroke-opacity: 1; fill: rgb(0, 128, 128); fill-opacity: 0.5;\"/><path class=\"violin\" d=\"M405.05,287.18Q405.07,285.95 405.09,285.33C405.11,284.71 405.13,284.1 405.15,283.48C405.17,282.86 405.2,282.25 405.22,281.63C405.25,281.01 405.27,280.4 405.3,279.78C405.33,279.16 405.35,278.55 405.38,277.93C405.41,277.32 405.43,276.7 405.46,276.09C405.49,275.47 405.53,274.86 405.58,274.24C405.63,273.62 405.69,273 405.78,272.39C405.87,271.77 405.98,271.15 406.14,270.54C406.3,269.92 406.5,269.3 406.75,268.69C407.01,268.06 407.31,267.45 407.66,266.84C408.02,266.21 408.44,265.6 408.89,264.99C409.36,264.36 409.88,263.75 410.42,263.14C410.98,262.51 411.58,261.91 412.2,261.3C412.83,260.68 413.5,260.06 414.17,259.45C414.85,258.83 415.55,258.21 416.25,257.6C416.96,256.98 417.68,256.37 418.4,255.75C419.13,255.13 419.86,254.52 420.59,253.9C421.32,253.28 422.05,252.67 422.79,252.05C423.53,251.43 424.26,250.81 425.02,250.2C425.79,249.58 426.57,248.96 427.38,248.35C428.22,247.72 429.08,247.11 429.99,246.51C430.95,245.88 431.94,245.26 433,244.66C434.12,244.02 435.31,243.41 436.55,242.81C437.87,242.17 439.27,241.56 440.71,240.96C442.25,240.32 443.86,239.71 445.51,239.11C447.24,238.48 449.06,237.87 450.87,237.26C452.73,236.64 454.65,236.03 456.52,235.41C458.36,234.8 460.24,234.21 461.98,233.57C463.6,232.98 465.25,232.39 466.63,231.72C467.82,231.14 469.04,230.58 469.82,229.87C470.44,229.31 471.04,228.66 471.15,228.02C471.25,227.43 470.96,226.74 470.6,226.17C470.18,225.49 469.34,224.91 468.59,224.32C467.76,223.67 466.74,223.08 465.81,222.47C464.87,221.85 463.86,221.25 462.96,220.62C462.1,220.02 461.27,219.42 460.52,218.78C459.82,218.18 459.2,217.56 458.6,216.93C458.03,216.33 457.54,215.7 457.01,215.08C456.48,214.46 455.99,213.84 455.43,213.23C454.85,212.6 454.23,211.98 453.57,211.38C452.88,210.75 452.14,210.13 451.37,209.53C450.57,208.9 449.72,208.29 448.87,207.68C448,207.06 447.11,206.44 446.21,205.83C445.3,205.21 444.38,204.6 443.44,203.99C442.49,203.37 441.52,202.75 440.53,202.14C439.52,201.52 438.49,200.9 437.44,200.29C436.37,199.67 435.28,199.05 434.19,198.44C433.09,197.82 431.96,197.21 430.86,196.59C429.77,195.98 428.68,195.37 427.62,194.74C426.59,194.13 425.57,193.52 424.61,192.89C423.69,192.29 422.78,191.67 421.95,191.04C421.16,190.44 420.4,189.84 419.73,189.2C419.1,188.6 418.51,187.99 418.02,187.35C417.57,186.75 417.17,186.13 416.87,185.5C416.59,184.9 416.38,184.27 416.25,183.65C416.12,183.04 416.1,182.42 416.08,181.8C416.06,181.18 416.12,180.57 416.14,179.95C416.16,179.33 416.22,178.72 416.21,178.1C416.2,177.49 416.18,176.87 416.08,176.26C415.98,175.64 415.82,175.02 415.61,174.41C415.4,173.79 415.11,173.17 414.82,172.56C414.52,171.94 414.18,171.33 413.85,170.71C413.52,170.09 413.17,169.48 412.86,168.86C412.56,168.25 412.27,167.63 412.01,167.01C411.76,166.4 411.54,165.78 411.33,165.16C411.12,164.55 410.95,163.93 410.76,163.31C410.57,162.7 410.4,162.08 410.2,161.47C410,160.85 409.79,160.23 409.56,159.62C409.33,159 409.07,158.39 408.82,157.77C408.56,157.15 408.29,156.54 408.03,155.92C407.77,155.3 407.51,154.69 407.28,154.07C407.05,153.46 406.82,152.84 406.63,152.22C406.44,151.61 406.28,150.99 406.13,150.37C405.99,149.76 405.87,149.14 405.76,148.52C405.66,147.91 405.57,147.29 405.5,146.68C405.43,146.06 405.37,145.45 405.32,144.83C405.27,144.21 405.23,143.6 405.2,142.98C405.17,142.36 405.14,141.75 405.12,141.13C405.1,140.51 405.08,139.9 405.07,139.28C405.06,138.66 405.05,138.05 405.04,137.43C405.03,136.81 405.03,136.2 405.03,135.58C405.03,134.96 405.03,134.35 405.04,133.73C405.05,133.12 405.06,132.5 405.07,131.89C405.08,131.27 405.1,130.66 405.12,130.04C405.14,129.42 405.16,128.81 405.18,128.19C405.2,127.57 405.23,126.96 405.25,126.34C405.27,125.72 405.29,125.11 405.31,124.49C405.33,123.87 405.34,123.26 405.35,122.64C405.36,122.02 405.36,121.41 405.35,120.79C405.34,120.18 405.33,119.56 405.31,118.95C405.29,118.33 405.27,117.72 405.25,117.1C405.23,116.48 405.2,115.87 405.18,115.25C405.16,114.63 405.15,114.02 405.13,113.4C405.12,112.78 405.1,112.17 405.09,111.55C405.08,110.93 405.08,110.32 405.08,109.7C405.08,109.08 405.1,108.47 405.11,107.85C405.12,107.23 405.13,106.62 405.15,106C405.17,105.39 405.2,104.77 405.22,104.16C405.24,103.54 405.27,102.93 405.29,102.31C405.31,101.69 405.32,101.08 405.33,100.46C405.34,99.84 405.35,99.23 405.35,98.61C405.35,97.99 405.34,97.38 405.33,96.76C405.32,96.14 405.3,95.53 405.28,94.91C405.26,94.29 405.23,93.68 405.21,93.06C405.19,92.44 405.16,91.83 405.14,91.21C405.12,90.6 405.1,89.98 405.09,89.37Q405.07,88.75 405.05,87.52L404.95,87.52Q404.93,88.75 404.91,89.37C404.9,89.98 404.88,90.6 404.86,91.21C404.84,91.83 404.81,92.44 404.79,93.06C404.77,93.68 404.74,94.29 404.72,94.91C404.7,95.53 404.68,96.14 404.67,96.76C404.66,97.38 404.65,97.99 404.65,98.61C404.65,99.23 404.66,99.84 404.67,100.46C404.68,101.08 404.69,101.69 404.71,102.31C404.73,102.93 404.76,103.54 404.78,104.16C404.8,104.77 404.83,105.39 404.85,106C404.87,106.62 404.88,107.23 404.89,107.85C404.9,108.47 404.92,109.08 404.92,109.7C404.92,110.32 404.92,110.93 404.91,111.55C404.9,112.17 404.88,112.78 404.87,113.4C404.85,114.02 404.84,114.63 404.82,115.25C404.8,115.87 404.77,116.48 404.75,117.1C404.73,117.72 404.71,118.33 404.69,118.95C404.67,119.56 404.66,120.18 404.65,120.79C404.64,121.41 404.64,122.02 404.65,122.64C404.66,123.26 404.67,123.87 404.69,124.49C404.71,125.11 404.73,125.72 404.75,126.34C404.77,126.96 404.8,127.57 404.82,128.19C404.84,128.81 404.86,129.42 404.88,130.04C404.9,130.66 404.92,131.27 404.93,131.89C404.94,132.5 404.95,133.12 404.96,133.73C404.97,134.35 404.97,134.96 404.97,135.58C404.97,136.2 404.97,136.81 404.96,137.43C404.95,138.05 404.94,138.66 404.93,139.28C404.92,139.9 404.9,140.51 404.88,141.13C404.86,141.75 404.83,142.36 404.8,142.98C404.77,143.6 404.73,144.21 404.68,144.83C404.63,145.45 404.57,146.06 404.5,146.68C404.43,147.29 404.34,147.91 404.24,148.52C404.13,149.14 404.01,149.76 403.87,150.37C403.72,150.99 403.56,151.61 403.37,152.22C403.18,152.84 402.95,153.46 402.72,154.07C402.49,154.69 402.23,155.3 401.97,155.92C401.71,156.54 401.44,157.15 401.18,157.77C400.93,158.39 400.67,159 400.44,159.62C400.21,160.23 400,160.85 399.8,161.47C399.6,162.08 399.43,162.7 399.24,163.31C399.05,163.93 398.88,164.55 398.67,165.16C398.46,165.78 398.24,166.4 397.99,167.01C397.73,167.63 397.44,168.25 397.14,168.86C396.83,169.48 396.48,170.09 396.15,170.71C395.82,171.33 395.48,171.94 395.18,172.56C394.89,173.17 394.6,173.79 394.39,174.41C394.18,175.02 394.02,175.64 393.92,176.26C393.82,176.87 393.8,177.49 393.79,178.1C393.78,178.72 393.84,179.33 393.86,179.95C393.88,180.57 393.94,181.18 393.92,181.8C393.9,182.42 393.88,183.04 393.75,183.65C393.62,184.27 393.41,184.9 393.13,185.5C392.83,186.13 392.43,186.75 391.98,187.35C391.49,187.99 390.9,188.6 390.27,189.2C389.6,189.84 388.84,190.44 388.05,191.04C387.22,191.67 386.31,192.29 385.39,192.89C384.43,193.52 383.41,194.13 382.38,194.74C381.32,195.37 380.23,195.98 379.14,196.59C378.04,197.21 376.91,197.82 375.81,198.44C374.72,199.05 373.63,199.67 372.56,200.29C371.51,200.9 370.48,201.52 369.47,202.14C368.48,202.75 367.51,203.37 366.56,203.99C365.62,204.6 364.7,205.21 363.79,205.83C362.89,206.44 362,207.06 361.13,207.68C360.28,208.29 359.43,208.9 358.63,209.53C357.86,210.13 357.12,210.75 356.43,211.38C355.77,211.98 355.15,212.6 354.57,213.23C354.01,213.84 353.52,214.46 352.99,215.08C352.46,215.7 351.97,216.33 351.4,216.93C350.8,217.56 350.18,218.18 349.48,218.78C348.73,219.42 347.9,220.02 347.04,220.62C346.14,221.25 345.13,221.85 344.19,222.47C343.26,223.08 342.24,223.67 341.41,224.32C340.66,224.91 339.82,225.49 339.4,226.17C339.04,226.74 338.75,227.43 338.85,228.02C338.96,228.66 339.56,229.31 340.18,229.87C340.96,230.58 342.18,231.14 343.37,231.72C344.75,232.39 346.4,232.98 348.02,233.57C349.76,234.21 351.64,234.8 353.48,235.41C355.35,236.03 357.27,236.64 359.13,237.26C360.94,237.87 362.76,238.48 364.49,239.11C366.14,239.71 367.75,240.32 369.29,240.96C370.73,241.56 372.13,242.17 373.45,242.81C374.69,243.41 375.88,244.02 377,244.66C378.06,245.26 379.05,245.88 380.01,246.51C380.92,247.11 381.78,247.72 382.62,248.35C383.43,248.96 384.21,249.58 384.98,250.2C385.74,250.81 386.47,251.43 387.21,252.05C387.95,252.67 388.68,253.28 389.41,253.9C390.14,254.52 390.87,255.13 391.6,255.75C392.32,256.37 393.04,256.98 393.75,257.6C394.45,258.21 395.15,258.83 395.83,259.45C396.5,260.06 397.17,260.68 397.8,261.3C398.42,261.91 399.02,262.51 399.58,263.14C400.12,263.75 400.64,264.36 401.11,264.99C401.56,265.6 401.98,266.21 402.34,266.84C402.69,267.45 402.99,268.06 403.25,268.69C403.5,269.3 403.7,269.92 403.86,270.54C404.02,271.15 404.13,271.77 404.22,272.39C404.31,273 404.37,273.62 404.42,274.24C404.47,274.86 404.51,275.47 404.54,276.09C404.57,276.7 404.59,277.32 404.62,277.93C404.65,278.55 404.67,279.16 404.7,279.78C404.73,280.4 404.75,281.01 404.78,281.63C404.8,282.25 404.83,282.86 404.85,283.48C404.87,284.1 404.89,284.71 404.91,285.33Q404.93,285.95 404.95,287.18Z\" style=\"vector-effect: non-scaling-stroke; stroke-width: 2px; stroke: rgb(0, 128, 128); stroke-opacity: 1; fill: rgb(0, 128, 128); fill-opacity: 0.5;\"/><path class=\"box\" d=\"M118.46,229.15H151.54M118.46,245.17H151.54V211.96H118.46ZM135,245.17V288.92M135,211.96V162.34\" style=\"vector-effect: non-scaling-stroke; stroke-width: 2px; stroke: rgb(0, 128, 128); stroke-opacity: 1; fill: rgb(0, 128, 128); fill-opacity: 0.5;\"/><path class=\"box\" d=\"M388.46,221.73H421.54M388.46,232.28H421.54V206.49H388.46ZM405,232.28V264.7M405,206.49V169.38\" style=\"vector-effect: non-scaling-stroke; stroke-width: 2px; stroke: rgb(0, 128, 128); stroke-opacity: 1; fill: rgb(0, 128, 128); fill-opacity: 0.5;\"/><g class=\"points\"><path class=\"point\" transform=\"translate(135,296.35)\" d=\"M3,0A3,3 0 1,1 0,-3A3,3 0 0,1 3,0Z\" style=\"opacity: 1; stroke-width: 0px; fill: rgb(0, 128, 128); fill-opacity: 1;\"/><path class=\"point\" transform=\"translate(135,296.35)\" d=\"M3,0A3,3 0 1,1 0,-3A3,3 0 0,1 3,0Z\" style=\"opacity: 1; stroke-width: 0px; fill: rgb(0, 128, 128); fill-opacity: 1;\"/><path class=\"point\" transform=\"translate(135,296.35)\" d=\"M3,0A3,3 0 1,1 0,-3A3,3 0 0,1 3,0Z\" style=\"opacity: 1; stroke-width: 0px; fill: rgb(0, 128, 128); fill-opacity: 1;\"/><path class=\"point\" transform=\"translate(135,161.95)\" d=\"M3,0A3,3 0 1,1 0,-3A3,3 0 0,1 3,0Z\" style=\"opacity: 1; stroke-width: 0px; fill: rgb(0, 128, 128); fill-opacity: 1;\"/><path class=\"point\" transform=\"translate(135,161.95)\" d=\"M3,0A3,3 0 1,1 0,-3A3,3 0 0,1 3,0Z\" style=\"opacity: 1; stroke-width: 0px; fill: rgb(0, 128, 128); fill-opacity: 1;\"/><path class=\"point\" transform=\"translate(135,161.95)\" d=\"M3,0A3,3 0 1,1 0,-3A3,3 0 0,1 3,0Z\" style=\"opacity: 1; stroke-width: 0px; fill: rgb(0, 128, 128); fill-opacity: 1;\"/><path class=\"point\" transform=\"translate(135,161.95)\" d=\"M3,0A3,3 0 1,1 0,-3A3,3 0 0,1 3,0Z\" style=\"opacity: 1; stroke-width: 0px; fill: rgb(0, 128, 128); fill-opacity: 1;\"/><path class=\"point\" transform=\"translate(135,161.95)\" d=\"M3,0A3,3 0 1,1 0,-3A3,3 0 0,1 3,0Z\" style=\"opacity: 1; stroke-width: 0px; fill: rgb(0, 128, 128); fill-opacity: 1;\"/><path class=\"point\" transform=\"translate(135,161.95)\" d=\"M3,0A3,3 0 1,1 0,-3A3,3 0 0,1 3,0Z\" style=\"opacity: 1; stroke-width: 0px; fill: rgb(0, 128, 128); fill-opacity: 1;\"/><path class=\"point\" transform=\"translate(135,161.95)\" d=\"M3,0A3,3 0 1,1 0,-3A3,3 0 0,1 3,0Z\" style=\"opacity: 1; stroke-width: 0px; fill: rgb(0, 128, 128); fill-opacity: 1;\"/><path class=\"point\" transform=\"translate(135,161.95)\" d=\"M3,0A3,3 0 1,1 0,-3A3,3 0 0,1 3,0Z\" style=\"opacity: 1; stroke-width: 0px; fill: rgb(0, 128, 128); fill-opacity: 1;\"/><path class=\"point\" transform=\"translate(135,161.95)\" d=\"M3,0A3,3 0 1,1 0,-3A3,3 0 0,1 3,0Z\" style=\"opacity: 1; stroke-width: 0px; fill: rgb(0, 128, 128); fill-opacity: 1;\"/><path class=\"point\" transform=\"translate(135,161.95)\" d=\"M3,0A3,3 0 1,1 0,-3A3,3 0 0,1 3,0Z\" style=\"opacity: 1; stroke-width: 0px; fill: rgb(0, 128, 128); fill-opacity: 1;\"/><path class=\"point\" transform=\"translate(135,161.95)\" d=\"M3,0A3,3 0 1,1 0,-3A3,3 0 0,1 3,0Z\" style=\"opacity: 1; stroke-width: 0px; fill: rgb(0, 128, 128); fill-opacity: 1;\"/><path class=\"point\" transform=\"translate(135,161.95)\" d=\"M3,0A3,3 0 1,1 0,-3A3,3 0 0,1 3,0Z\" style=\"opacity: 1; stroke-width: 0px; fill: rgb(0, 128, 128); fill-opacity: 1;\"/><path class=\"point\" transform=\"translate(135,161.56)\" d=\"M3,0A3,3 0 1,1 0,-3A3,3 0 0,1 3,0Z\" style=\"opacity: 1; stroke-width: 0px; fill: rgb(0, 128, 128); fill-opacity: 1;\"/><path class=\"point\" transform=\"translate(135,161.56)\" d=\"M3,0A3,3 0 1,1 0,-3A3,3 0 0,1 3,0Z\" style=\"opacity: 1; stroke-width: 0px; fill: rgb(0, 128, 128); fill-opacity: 1;\"/><path class=\"point\" transform=\"translate(135,161.56)\" d=\"M3,0A3,3 0 1,1 0,-3A3,3 0 0,1 3,0Z\" style=\"opacity: 1; stroke-width: 0px; fill: rgb(0, 128, 128); fill-opacity: 1;\"/><path class=\"point\" transform=\"translate(135,161.56)\" d=\"M3,0A3,3 0 1,1 0,-3A3,3 0 0,1 3,0Z\" style=\"opacity: 1; stroke-width: 0px; fill: rgb(0, 128, 128); fill-opacity: 1;\"/><path class=\"point\" transform=\"translate(135,161.56)\" d=\"M3,0A3,3 0 1,1 0,-3A3,3 0 0,1 3,0Z\" style=\"opacity: 1; stroke-width: 0px; fill: rgb(0, 128, 128); fill-opacity: 1;\"/><path class=\"point\" transform=\"translate(135,161.56)\" d=\"M3,0A3,3 0 1,1 0,-3A3,3 0 0,1 3,0Z\" style=\"opacity: 1; stroke-width: 0px; fill: rgb(0, 128, 128); fill-opacity: 1;\"/><path class=\"point\" transform=\"translate(135,161.56)\" d=\"M3,0A3,3 0 1,1 0,-3A3,3 0 0,1 3,0Z\" style=\"opacity: 1; stroke-width: 0px; fill: rgb(0, 128, 128); fill-opacity: 1;\"/><path class=\"point\" transform=\"translate(135,161.17)\" d=\"M3,0A3,3 0 1,1 0,-3A3,3 0 0,1 3,0Z\" style=\"opacity: 1; stroke-width: 0px; fill: rgb(0, 128, 128); fill-opacity: 1;\"/><path class=\"point\" transform=\"translate(135,161.17)\" d=\"M3,0A3,3 0 1,1 0,-3A3,3 0 0,1 3,0Z\" style=\"opacity: 1; stroke-width: 0px; fill: rgb(0, 128, 128); fill-opacity: 1;\"/><path class=\"point\" transform=\"translate(135,161.17)\" d=\"M3,0A3,3 0 1,1 0,-3A3,3 0 0,1 3,0Z\" style=\"opacity: 1; stroke-width: 0px; fill: rgb(0, 128, 128); fill-opacity: 1;\"/><path class=\"point\" transform=\"translate(135,160.78)\" d=\"M3,0A3,3 0 1,1 0,-3A3,3 0 0,1 3,0Z\" style=\"opacity: 1; stroke-width: 0px; fill: rgb(0, 128, 128); fill-opacity: 1;\"/><path class=\"point\" transform=\"translate(135,160.78)\" d=\"M3,0A3,3 0 1,1 0,-3A3,3 0 0,1 3,0Z\" style=\"opacity: 1; stroke-width: 0px; fill: rgb(0, 128, 128); fill-opacity: 1;\"/><path class=\"point\" transform=\"translate(135,160.78)\" d=\"M3,0A3,3 0 1,1 0,-3A3,3 0 0,1 3,0Z\" style=\"opacity: 1; stroke-width: 0px; fill: rgb(0, 128, 128); fill-opacity: 1;\"/><path class=\"point\" transform=\"translate(135,160.78)\" d=\"M3,0A3,3 0 1,1 0,-3A3,3 0 0,1 3,0Z\" style=\"opacity: 1; stroke-width: 0px; fill: rgb(0, 128, 128); fill-opacity: 1;\"/><path class=\"point\" transform=\"translate(135,160.78)\" d=\"M3,0A3,3 0 1,1 0,-3A3,3 0 0,1 3,0Z\" style=\"opacity: 1; stroke-width: 0px; fill: rgb(0, 128, 128); fill-opacity: 1;\"/><path class=\"point\" transform=\"translate(135,160.78)\" d=\"M3,0A3,3 0 1,1 0,-3A3,3 0 0,1 3,0Z\" style=\"opacity: 1; stroke-width: 0px; fill: rgb(0, 128, 128); fill-opacity: 1;\"/><path class=\"point\" transform=\"translate(135,160.78)\" d=\"M3,0A3,3 0 1,1 0,-3A3,3 0 0,1 3,0Z\" style=\"opacity: 1; stroke-width: 0px; fill: rgb(0, 128, 128); fill-opacity: 1;\"/><path class=\"point\" transform=\"translate(135,160.78)\" d=\"M3,0A3,3 0 1,1 0,-3A3,3 0 0,1 3,0Z\" style=\"opacity: 1; stroke-width: 0px; fill: rgb(0, 128, 128); fill-opacity: 1;\"/><path class=\"point\" transform=\"translate(135,160.78)\" d=\"M3,0A3,3 0 1,1 0,-3A3,3 0 0,1 3,0Z\" style=\"opacity: 1; stroke-width: 0px; fill: rgb(0, 128, 128); fill-opacity: 1;\"/><path class=\"point\" transform=\"translate(135,160.78)\" d=\"M3,0A3,3 0 1,1 0,-3A3,3 0 0,1 3,0Z\" style=\"opacity: 1; stroke-width: 0px; fill: rgb(0, 128, 128); fill-opacity: 1;\"/><path class=\"point\" transform=\"translate(135,160.78)\" d=\"M3,0A3,3 0 1,1 0,-3A3,3 0 0,1 3,0Z\" style=\"opacity: 1; stroke-width: 0px; fill: rgb(0, 128, 128); fill-opacity: 1;\"/><path class=\"point\" transform=\"translate(135,160.78)\" d=\"M3,0A3,3 0 1,1 0,-3A3,3 0 0,1 3,0Z\" style=\"opacity: 1; stroke-width: 0px; fill: rgb(0, 128, 128); fill-opacity: 1;\"/><path class=\"point\" transform=\"translate(135,160.39)\" d=\"M3,0A3,3 0 1,1 0,-3A3,3 0 0,1 3,0Z\" style=\"opacity: 1; stroke-width: 0px; fill: rgb(0, 128, 128); fill-opacity: 1;\"/><path class=\"point\" transform=\"translate(135,160)\" d=\"M3,0A3,3 0 1,1 0,-3A3,3 0 0,1 3,0Z\" style=\"opacity: 1; stroke-width: 0px; fill: rgb(0, 128, 128); fill-opacity: 1;\"/><path class=\"point\" transform=\"translate(135,160)\" d=\"M3,0A3,3 0 1,1 0,-3A3,3 0 0,1 3,0Z\" style=\"opacity: 1; stroke-width: 0px; fill: rgb(0, 128, 128); fill-opacity: 1;\"/><path class=\"point\" transform=\"translate(135,160)\" d=\"M3,0A3,3 0 1,1 0,-3A3,3 0 0,1 3,0Z\" style=\"opacity: 1; stroke-width: 0px; fill: rgb(0, 128, 128); fill-opacity: 1;\"/><path class=\"point\" transform=\"translate(135,160)\" d=\"M3,0A3,3 0 1,1 0,-3A3,3 0 0,1 3,0Z\" style=\"opacity: 1; stroke-width: 0px; fill: rgb(0, 128, 128); fill-opacity: 1;\"/><path class=\"point\" transform=\"translate(135,160)\" d=\"M3,0A3,3 0 1,1 0,-3A3,3 0 0,1 3,0Z\" style=\"opacity: 1; stroke-width: 0px; fill: rgb(0, 128, 128); fill-opacity: 1;\"/><path class=\"point\" transform=\"translate(135,160)\" d=\"M3,0A3,3 0 1,1 0,-3A3,3 0 0,1 3,0Z\" style=\"opacity: 1; stroke-width: 0px; fill: rgb(0, 128, 128); fill-opacity: 1;\"/><path class=\"point\" transform=\"translate(135,160)\" d=\"M3,0A3,3 0 1,1 0,-3A3,3 0 0,1 3,0Z\" style=\"opacity: 1; stroke-width: 0px; fill: rgb(0, 128, 128); fill-opacity: 1;\"/><path class=\"point\" transform=\"translate(135,160)\" d=\"M3,0A3,3 0 1,1 0,-3A3,3 0 0,1 3,0Z\" style=\"opacity: 1; stroke-width: 0px; fill: rgb(0, 128, 128); fill-opacity: 1;\"/><path class=\"point\" transform=\"translate(135,159.61)\" d=\"M3,0A3,3 0 1,1 0,-3A3,3 0 0,1 3,0Z\" style=\"opacity: 1; stroke-width: 0px; fill: rgb(0, 128, 128); fill-opacity: 1;\"/><path class=\"point\" transform=\"translate(135,159.61)\" d=\"M3,0A3,3 0 1,1 0,-3A3,3 0 0,1 3,0Z\" style=\"opacity: 1; stroke-width: 0px; fill: rgb(0, 128, 128); fill-opacity: 1;\"/><path class=\"point\" transform=\"translate(135,159.61)\" d=\"M3,0A3,3 0 1,1 0,-3A3,3 0 0,1 3,0Z\" style=\"opacity: 1; stroke-width: 0px; fill: rgb(0, 128, 128); fill-opacity: 1;\"/><path class=\"point\" transform=\"translate(135,159.61)\" d=\"M3,0A3,3 0 1,1 0,-3A3,3 0 0,1 3,0Z\" style=\"opacity: 1; stroke-width: 0px; fill: rgb(0, 128, 128); fill-opacity: 1;\"/><path class=\"point\" transform=\"translate(135,159.61)\" d=\"M3,0A3,3 0 1,1 0,-3A3,3 0 0,1 3,0Z\" style=\"opacity: 1; stroke-width: 0px; fill: rgb(0, 128, 128); fill-opacity: 1;\"/><path class=\"point\" transform=\"translate(135,159.61)\" d=\"M3,0A3,3 0 1,1 0,-3A3,3 0 0,1 3,0Z\" style=\"opacity: 1; stroke-width: 0px; fill: rgb(0, 128, 128); fill-opacity: 1;\"/><path class=\"point\" transform=\"translate(135,159.61)\" d=\"M3,0A3,3 0 1,1 0,-3A3,3 0 0,1 3,0Z\" style=\"opacity: 1; stroke-width: 0px; fill: rgb(0, 128, 128); fill-opacity: 1;\"/><path class=\"point\" transform=\"translate(135,159.61)\" d=\"M3,0A3,3 0 1,1 0,-3A3,3 0 0,1 3,0Z\" style=\"opacity: 1; stroke-width: 0px; fill: rgb(0, 128, 128); fill-opacity: 1;\"/><path class=\"point\" transform=\"translate(135,159.22)\" d=\"M3,0A3,3 0 1,1 0,-3A3,3 0 0,1 3,0Z\" style=\"opacity: 1; stroke-width: 0px; fill: rgb(0, 128, 128); fill-opacity: 1;\"/><path class=\"point\" transform=\"translate(135,159.22)\" d=\"M3,0A3,3 0 1,1 0,-3A3,3 0 0,1 3,0Z\" style=\"opacity: 1; stroke-width: 0px; fill: rgb(0, 128, 128); fill-opacity: 1;\"/><path class=\"point\" transform=\"translate(135,159.22)\" d=\"M3,0A3,3 0 1,1 0,-3A3,3 0 0,1 3,0Z\" style=\"opacity: 1; stroke-width: 0px; fill: rgb(0, 128, 128); fill-opacity: 1;\"/><path class=\"point\" transform=\"translate(135,159.22)\" d=\"M3,0A3,3 0 1,1 0,-3A3,3 0 0,1 3,0Z\" style=\"opacity: 1; stroke-width: 0px; fill: rgb(0, 128, 128); fill-opacity: 1;\"/><path class=\"point\" transform=\"translate(135,159.22)\" d=\"M3,0A3,3 0 1,1 0,-3A3,3 0 0,1 3,0Z\" style=\"opacity: 1; stroke-width: 0px; fill: rgb(0, 128, 128); fill-opacity: 1;\"/><path class=\"point\" transform=\"translate(135,159.22)\" d=\"M3,0A3,3 0 1,1 0,-3A3,3 0 0,1 3,0Z\" style=\"opacity: 1; stroke-width: 0px; fill: rgb(0, 128, 128); fill-opacity: 1;\"/><path class=\"point\" transform=\"translate(135,159.22)\" d=\"M3,0A3,3 0 1,1 0,-3A3,3 0 0,1 3,0Z\" style=\"opacity: 1; stroke-width: 0px; fill: rgb(0, 128, 128); fill-opacity: 1;\"/><path class=\"point\" transform=\"translate(135,158.83)\" d=\"M3,0A3,3 0 1,1 0,-3A3,3 0 0,1 3,0Z\" style=\"opacity: 1; stroke-width: 0px; fill: rgb(0, 128, 128); fill-opacity: 1;\"/><path class=\"point\" transform=\"translate(135,158.83)\" d=\"M3,0A3,3 0 1,1 0,-3A3,3 0 0,1 3,0Z\" style=\"opacity: 1; stroke-width: 0px; fill: rgb(0, 128, 128); fill-opacity: 1;\"/><path class=\"point\" transform=\"translate(135,158.83)\" d=\"M3,0A3,3 0 1,1 0,-3A3,3 0 0,1 3,0Z\" style=\"opacity: 1; stroke-width: 0px; fill: rgb(0, 128, 128); fill-opacity: 1;\"/><path class=\"point\" transform=\"translate(135,158.83)\" d=\"M3,0A3,3 0 1,1 0,-3A3,3 0 0,1 3,0Z\" style=\"opacity: 1; stroke-width: 0px; fill: rgb(0, 128, 128); fill-opacity: 1;\"/><path class=\"point\" transform=\"translate(135,158.83)\" d=\"M3,0A3,3 0 1,1 0,-3A3,3 0 0,1 3,0Z\" style=\"opacity: 1; stroke-width: 0px; fill: rgb(0, 128, 128); fill-opacity: 1;\"/><path class=\"point\" transform=\"translate(135,158.83)\" d=\"M3,0A3,3 0 1,1 0,-3A3,3 0 0,1 3,0Z\" style=\"opacity: 1; stroke-width: 0px; fill: rgb(0, 128, 128); fill-opacity: 1;\"/><path class=\"point\" transform=\"translate(135,158.44)\" d=\"M3,0A3,3 0 1,1 0,-3A3,3 0 0,1 3,0Z\" style=\"opacity: 1; stroke-width: 0px; fill: rgb(0, 128, 128); fill-opacity: 1;\"/><path class=\"point\" transform=\"translate(135,158.05)\" d=\"M3,0A3,3 0 1,1 0,-3A3,3 0 0,1 3,0Z\" style=\"opacity: 1; stroke-width: 0px; fill: rgb(0, 128, 128); fill-opacity: 1;\"/><path class=\"point\" transform=\"translate(135,158.05)\" d=\"M3,0A3,3 0 1,1 0,-3A3,3 0 0,1 3,0Z\" style=\"opacity: 1; stroke-width: 0px; fill: rgb(0, 128, 128); fill-opacity: 1;\"/><path class=\"point\" transform=\"translate(135,157.27)\" d=\"M3,0A3,3 0 1,1 0,-3A3,3 0 0,1 3,0Z\" style=\"opacity: 1; stroke-width: 0px; fill: rgb(0, 128, 128); fill-opacity: 1;\"/><path class=\"point\" transform=\"translate(135,157.27)\" d=\"M3,0A3,3 0 1,1 0,-3A3,3 0 0,1 3,0Z\" style=\"opacity: 1; stroke-width: 0px; fill: rgb(0, 128, 128); fill-opacity: 1;\"/><path class=\"point\" transform=\"translate(135,156.87)\" d=\"M3,0A3,3 0 1,1 0,-3A3,3 0 0,1 3,0Z\" style=\"opacity: 1; stroke-width: 0px; fill: rgb(0, 128, 128); fill-opacity: 1;\"/><path class=\"point\" transform=\"translate(135,156.87)\" d=\"M3,0A3,3 0 1,1 0,-3A3,3 0 0,1 3,0Z\" style=\"opacity: 1; stroke-width: 0px; fill: rgb(0, 128, 128); fill-opacity: 1;\"/><path class=\"point\" transform=\"translate(135,156.87)\" d=\"M3,0A3,3 0 1,1 0,-3A3,3 0 0,1 3,0Z\" style=\"opacity: 1; stroke-width: 0px; fill: rgb(0, 128, 128); fill-opacity: 1;\"/><path class=\"point\" transform=\"translate(135,156.87)\" d=\"M3,0A3,3 0 1,1 0,-3A3,3 0 0,1 3,0Z\" style=\"opacity: 1; stroke-width: 0px; fill: rgb(0, 128, 128); fill-opacity: 1;\"/><path class=\"point\" transform=\"translate(135,156.87)\" d=\"M3,0A3,3 0 1,1 0,-3A3,3 0 0,1 3,0Z\" style=\"opacity: 1; stroke-width: 0px; fill: rgb(0, 128, 128); fill-opacity: 1;\"/><path class=\"point\" transform=\"translate(135,156.48)\" d=\"M3,0A3,3 0 1,1 0,-3A3,3 0 0,1 3,0Z\" style=\"opacity: 1; stroke-width: 0px; fill: rgb(0, 128, 128); fill-opacity: 1;\"/><path class=\"point\" transform=\"translate(135,156.48)\" d=\"M3,0A3,3 0 1,1 0,-3A3,3 0 0,1 3,0Z\" style=\"opacity: 1; stroke-width: 0px; fill: rgb(0, 128, 128); fill-opacity: 1;\"/><path class=\"point\" transform=\"translate(135,156.48)\" d=\"M3,0A3,3 0 1,1 0,-3A3,3 0 0,1 3,0Z\" style=\"opacity: 1; stroke-width: 0px; fill: rgb(0, 128, 128); fill-opacity: 1;\"/><path class=\"point\" transform=\"translate(135,156.48)\" d=\"M3,0A3,3 0 1,1 0,-3A3,3 0 0,1 3,0Z\" style=\"opacity: 1; stroke-width: 0px; fill: rgb(0, 128, 128); fill-opacity: 1;\"/><path class=\"point\" transform=\"translate(135,156.48)\" d=\"M3,0A3,3 0 1,1 0,-3A3,3 0 0,1 3,0Z\" style=\"opacity: 1; stroke-width: 0px; fill: rgb(0, 128, 128); fill-opacity: 1;\"/><path class=\"point\" transform=\"translate(135,156.48)\" d=\"M3,0A3,3 0 1,1 0,-3A3,3 0 0,1 3,0Z\" style=\"opacity: 1; stroke-width: 0px; fill: rgb(0, 128, 128); fill-opacity: 1;\"/><path class=\"point\" transform=\"translate(135,156.09)\" d=\"M3,0A3,3 0 1,1 0,-3A3,3 0 0,1 3,0Z\" style=\"opacity: 1; stroke-width: 0px; fill: rgb(0, 128, 128); fill-opacity: 1;\"/><path class=\"point\" transform=\"translate(135,156.09)\" d=\"M3,0A3,3 0 1,1 0,-3A3,3 0 0,1 3,0Z\" style=\"opacity: 1; stroke-width: 0px; fill: rgb(0, 128, 128); fill-opacity: 1;\"/><path class=\"point\" transform=\"translate(135,156.09)\" d=\"M3,0A3,3 0 1,1 0,-3A3,3 0 0,1 3,0Z\" style=\"opacity: 1; stroke-width: 0px; fill: rgb(0, 128, 128); fill-opacity: 1;\"/><path class=\"point\" transform=\"translate(135,155.7)\" d=\"M3,0A3,3 0 1,1 0,-3A3,3 0 0,1 3,0Z\" style=\"opacity: 1; stroke-width: 0px; fill: rgb(0, 128, 128); fill-opacity: 1;\"/><path class=\"point\" transform=\"translate(135,155.7)\" d=\"M3,0A3,3 0 1,1 0,-3A3,3 0 0,1 3,0Z\" style=\"opacity: 1; stroke-width: 0px; fill: rgb(0, 128, 128); fill-opacity: 1;\"/><path class=\"point\" transform=\"translate(135,155.7)\" d=\"M3,0A3,3 0 1,1 0,-3A3,3 0 0,1 3,0Z\" style=\"opacity: 1; stroke-width: 0px; fill: rgb(0, 128, 128); fill-opacity: 1;\"/><path class=\"point\" transform=\"translate(135,155.7)\" d=\"M3,0A3,3 0 1,1 0,-3A3,3 0 0,1 3,0Z\" style=\"opacity: 1; stroke-width: 0px; fill: rgb(0, 128, 128); fill-opacity: 1;\"/><path class=\"point\" transform=\"translate(135,155.31)\" d=\"M3,0A3,3 0 1,1 0,-3A3,3 0 0,1 3,0Z\" style=\"opacity: 1; stroke-width: 0px; fill: rgb(0, 128, 128); fill-opacity: 1;\"/><path class=\"point\" transform=\"translate(135,155.31)\" d=\"M3,0A3,3 0 1,1 0,-3A3,3 0 0,1 3,0Z\" style=\"opacity: 1; stroke-width: 0px; fill: rgb(0, 128, 128); fill-opacity: 1;\"/><path class=\"point\" transform=\"translate(135,154.92)\" d=\"M3,0A3,3 0 1,1 0,-3A3,3 0 0,1 3,0Z\" style=\"opacity: 1; stroke-width: 0px; fill: rgb(0, 128, 128); fill-opacity: 1;\"/><path class=\"point\" transform=\"translate(135,154.92)\" d=\"M3,0A3,3 0 1,1 0,-3A3,3 0 0,1 3,0Z\" style=\"opacity: 1; stroke-width: 0px; fill: rgb(0, 128, 128); fill-opacity: 1;\"/><path class=\"point\" transform=\"translate(135,154.92)\" d=\"M3,0A3,3 0 1,1 0,-3A3,3 0 0,1 3,0Z\" style=\"opacity: 1; stroke-width: 0px; fill: rgb(0, 128, 128); fill-opacity: 1;\"/><path class=\"point\" transform=\"translate(135,154.53)\" d=\"M3,0A3,3 0 1,1 0,-3A3,3 0 0,1 3,0Z\" style=\"opacity: 1; stroke-width: 0px; fill: rgb(0, 128, 128); fill-opacity: 1;\"/><path class=\"point\" transform=\"translate(135,154.53)\" d=\"M3,0A3,3 0 1,1 0,-3A3,3 0 0,1 3,0Z\" style=\"opacity: 1; stroke-width: 0px; fill: rgb(0, 128, 128); fill-opacity: 1;\"/><path class=\"point\" transform=\"translate(135,154.14)\" d=\"M3,0A3,3 0 1,1 0,-3A3,3 0 0,1 3,0Z\" style=\"opacity: 1; stroke-width: 0px; fill: rgb(0, 128, 128); fill-opacity: 1;\"/><path class=\"point\" transform=\"translate(135,153.36)\" d=\"M3,0A3,3 0 1,1 0,-3A3,3 0 0,1 3,0Z\" style=\"opacity: 1; stroke-width: 0px; fill: rgb(0, 128, 128); fill-opacity: 1;\"/><path class=\"point\" transform=\"translate(135,153.36)\" d=\"M3,0A3,3 0 1,1 0,-3A3,3 0 0,1 3,0Z\" style=\"opacity: 1; stroke-width: 0px; fill: rgb(0, 128, 128); fill-opacity: 1;\"/><path class=\"point\" transform=\"translate(135,153.36)\" d=\"M3,0A3,3 0 1,1 0,-3A3,3 0 0,1 3,0Z\" style=\"opacity: 1; stroke-width: 0px; fill: rgb(0, 128, 128); fill-opacity: 1;\"/><path class=\"point\" transform=\"translate(135,153.36)\" d=\"M3,0A3,3 0 1,1 0,-3A3,3 0 0,1 3,0Z\" style=\"opacity: 1; stroke-width: 0px; fill: rgb(0, 128, 128); fill-opacity: 1;\"/><path class=\"point\" transform=\"translate(135,153.36)\" d=\"M3,0A3,3 0 1,1 0,-3A3,3 0 0,1 3,0Z\" style=\"opacity: 1; stroke-width: 0px; fill: rgb(0, 128, 128); fill-opacity: 1;\"/><path class=\"point\" transform=\"translate(135,153.36)\" d=\"M3,0A3,3 0 1,1 0,-3A3,3 0 0,1 3,0Z\" style=\"opacity: 1; stroke-width: 0px; fill: rgb(0, 128, 128); fill-opacity: 1;\"/><path class=\"point\" transform=\"translate(135,152.97)\" d=\"M3,0A3,3 0 1,1 0,-3A3,3 0 0,1 3,0Z\" style=\"opacity: 1; stroke-width: 0px; fill: rgb(0, 128, 128); fill-opacity: 1;\"/><path class=\"point\" transform=\"translate(135,152.58)\" d=\"M3,0A3,3 0 1,1 0,-3A3,3 0 0,1 3,0Z\" style=\"opacity: 1; stroke-width: 0px; fill: rgb(0, 128, 128); fill-opacity: 1;\"/><path class=\"point\" transform=\"translate(135,152.58)\" d=\"M3,0A3,3 0 1,1 0,-3A3,3 0 0,1 3,0Z\" style=\"opacity: 1; stroke-width: 0px; fill: rgb(0, 128, 128); fill-opacity: 1;\"/><path class=\"point\" transform=\"translate(135,152.19)\" d=\"M3,0A3,3 0 1,1 0,-3A3,3 0 0,1 3,0Z\" style=\"opacity: 1; stroke-width: 0px; fill: rgb(0, 128, 128); fill-opacity: 1;\"/><path class=\"point\" transform=\"translate(135,151.8)\" d=\"M3,0A3,3 0 1,1 0,-3A3,3 0 0,1 3,0Z\" style=\"opacity: 1; stroke-width: 0px; fill: rgb(0, 128, 128); fill-opacity: 1;\"/><path class=\"point\" transform=\"translate(135,151.8)\" d=\"M3,0A3,3 0 1,1 0,-3A3,3 0 0,1 3,0Z\" style=\"opacity: 1; stroke-width: 0px; fill: rgb(0, 128, 128); fill-opacity: 1;\"/><path class=\"point\" transform=\"translate(135,151.8)\" d=\"M3,0A3,3 0 1,1 0,-3A3,3 0 0,1 3,0Z\" style=\"opacity: 1; stroke-width: 0px; fill: rgb(0, 128, 128); fill-opacity: 1;\"/><path class=\"point\" transform=\"translate(135,151.8)\" d=\"M3,0A3,3 0 1,1 0,-3A3,3 0 0,1 3,0Z\" style=\"opacity: 1; stroke-width: 0px; fill: rgb(0, 128, 128); fill-opacity: 1;\"/><path class=\"point\" transform=\"translate(135,151.01)\" d=\"M3,0A3,3 0 1,1 0,-3A3,3 0 0,1 3,0Z\" style=\"opacity: 1; stroke-width: 0px; fill: rgb(0, 128, 128); fill-opacity: 1;\"/><path class=\"point\" transform=\"translate(135,151.01)\" d=\"M3,0A3,3 0 1,1 0,-3A3,3 0 0,1 3,0Z\" style=\"opacity: 1; stroke-width: 0px; fill: rgb(0, 128, 128); fill-opacity: 1;\"/><path class=\"point\" transform=\"translate(135,151.01)\" d=\"M3,0A3,3 0 1,1 0,-3A3,3 0 0,1 3,0Z\" style=\"opacity: 1; stroke-width: 0px; fill: rgb(0, 128, 128); fill-opacity: 1;\"/><path class=\"point\" transform=\"translate(135,151.01)\" d=\"M3,0A3,3 0 1,1 0,-3A3,3 0 0,1 3,0Z\" style=\"opacity: 1; stroke-width: 0px; fill: rgb(0, 128, 128); fill-opacity: 1;\"/><path class=\"point\" transform=\"translate(135,151.01)\" d=\"M3,0A3,3 0 1,1 0,-3A3,3 0 0,1 3,0Z\" style=\"opacity: 1; stroke-width: 0px; fill: rgb(0, 128, 128); fill-opacity: 1;\"/><path class=\"point\" transform=\"translate(135,151.01)\" d=\"M3,0A3,3 0 1,1 0,-3A3,3 0 0,1 3,0Z\" style=\"opacity: 1; stroke-width: 0px; fill: rgb(0, 128, 128); fill-opacity: 1;\"/><path class=\"point\" transform=\"translate(135,151.01)\" d=\"M3,0A3,3 0 1,1 0,-3A3,3 0 0,1 3,0Z\" style=\"opacity: 1; stroke-width: 0px; fill: rgb(0, 128, 128); fill-opacity: 1;\"/><path class=\"point\" transform=\"translate(135,150.62)\" d=\"M3,0A3,3 0 1,1 0,-3A3,3 0 0,1 3,0Z\" style=\"opacity: 1; stroke-width: 0px; fill: rgb(0, 128, 128); fill-opacity: 1;\"/><path class=\"point\" transform=\"translate(135,149.84)\" d=\"M3,0A3,3 0 1,1 0,-3A3,3 0 0,1 3,0Z\" style=\"opacity: 1; stroke-width: 0px; fill: rgb(0, 128, 128); fill-opacity: 1;\"/><path class=\"point\" transform=\"translate(135,149.84)\" d=\"M3,0A3,3 0 1,1 0,-3A3,3 0 0,1 3,0Z\" style=\"opacity: 1; stroke-width: 0px; fill: rgb(0, 128, 128); fill-opacity: 1;\"/><path class=\"point\" transform=\"translate(135,149.45)\" d=\"M3,0A3,3 0 1,1 0,-3A3,3 0 0,1 3,0Z\" style=\"opacity: 1; stroke-width: 0px; fill: rgb(0, 128, 128); fill-opacity: 1;\"/><path class=\"point\" transform=\"translate(135,149.45)\" d=\"M3,0A3,3 0 1,1 0,-3A3,3 0 0,1 3,0Z\" style=\"opacity: 1; stroke-width: 0px; fill: rgb(0, 128, 128); fill-opacity: 1;\"/><path class=\"point\" transform=\"translate(135,148.67)\" d=\"M3,0A3,3 0 1,1 0,-3A3,3 0 0,1 3,0Z\" style=\"opacity: 1; stroke-width: 0px; fill: rgb(0, 128, 128); fill-opacity: 1;\"/><path class=\"point\" transform=\"translate(135,148.67)\" d=\"M3,0A3,3 0 1,1 0,-3A3,3 0 0,1 3,0Z\" style=\"opacity: 1; stroke-width: 0px; fill: rgb(0, 128, 128); fill-opacity: 1;\"/><path class=\"point\" transform=\"translate(135,148.67)\" d=\"M3,0A3,3 0 1,1 0,-3A3,3 0 0,1 3,0Z\" style=\"opacity: 1; stroke-width: 0px; fill: rgb(0, 128, 128); fill-opacity: 1;\"/><path class=\"point\" transform=\"translate(135,148.28)\" d=\"M3,0A3,3 0 1,1 0,-3A3,3 0 0,1 3,0Z\" style=\"opacity: 1; stroke-width: 0px; fill: rgb(0, 128, 128); fill-opacity: 1;\"/><path class=\"point\" transform=\"translate(135,148.28)\" d=\"M3,0A3,3 0 1,1 0,-3A3,3 0 0,1 3,0Z\" style=\"opacity: 1; stroke-width: 0px; fill: rgb(0, 128, 128); fill-opacity: 1;\"/><path class=\"point\" transform=\"translate(135,148.28)\" d=\"M3,0A3,3 0 1,1 0,-3A3,3 0 0,1 3,0Z\" style=\"opacity: 1; stroke-width: 0px; fill: rgb(0, 128, 128); fill-opacity: 1;\"/><path class=\"point\" transform=\"translate(135,147.89)\" d=\"M3,0A3,3 0 1,1 0,-3A3,3 0 0,1 3,0Z\" style=\"opacity: 1; stroke-width: 0px; fill: rgb(0, 128, 128); fill-opacity: 1;\"/><path class=\"point\" transform=\"translate(135,147.89)\" d=\"M3,0A3,3 0 1,1 0,-3A3,3 0 0,1 3,0Z\" style=\"opacity: 1; stroke-width: 0px; fill: rgb(0, 128, 128); fill-opacity: 1;\"/><path class=\"point\" transform=\"translate(135,147.89)\" d=\"M3,0A3,3 0 1,1 0,-3A3,3 0 0,1 3,0Z\" style=\"opacity: 1; stroke-width: 0px; fill: rgb(0, 128, 128); fill-opacity: 1;\"/><path class=\"point\" transform=\"translate(135,147.5)\" d=\"M3,0A3,3 0 1,1 0,-3A3,3 0 0,1 3,0Z\" style=\"opacity: 1; stroke-width: 0px; fill: rgb(0, 128, 128); fill-opacity: 1;\"/><path class=\"point\" transform=\"translate(135,147.5)\" d=\"M3,0A3,3 0 1,1 0,-3A3,3 0 0,1 3,0Z\" style=\"opacity: 1; stroke-width: 0px; fill: rgb(0, 128, 128); fill-opacity: 1;\"/><path class=\"point\" transform=\"translate(135,146.72)\" d=\"M3,0A3,3 0 1,1 0,-3A3,3 0 0,1 3,0Z\" style=\"opacity: 1; stroke-width: 0px; fill: rgb(0, 128, 128); fill-opacity: 1;\"/><path class=\"point\" transform=\"translate(135,145.94)\" d=\"M3,0A3,3 0 1,1 0,-3A3,3 0 0,1 3,0Z\" style=\"opacity: 1; stroke-width: 0px; fill: rgb(0, 128, 128); fill-opacity: 1;\"/><path class=\"point\" transform=\"translate(135,145.94)\" d=\"M3,0A3,3 0 1,1 0,-3A3,3 0 0,1 3,0Z\" style=\"opacity: 1; stroke-width: 0px; fill: rgb(0, 128, 128); fill-opacity: 1;\"/><path class=\"point\" transform=\"translate(135,145.94)\" d=\"M3,0A3,3 0 1,1 0,-3A3,3 0 0,1 3,0Z\" style=\"opacity: 1; stroke-width: 0px; fill: rgb(0, 128, 128); fill-opacity: 1;\"/><path class=\"point\" transform=\"translate(135,145.94)\" d=\"M3,0A3,3 0 1,1 0,-3A3,3 0 0,1 3,0Z\" style=\"opacity: 1; stroke-width: 0px; fill: rgb(0, 128, 128); fill-opacity: 1;\"/><path class=\"point\" transform=\"translate(135,145.94)\" d=\"M3,0A3,3 0 1,1 0,-3A3,3 0 0,1 3,0Z\" style=\"opacity: 1; stroke-width: 0px; fill: rgb(0, 128, 128); fill-opacity: 1;\"/><path class=\"point\" transform=\"translate(135,145.94)\" d=\"M3,0A3,3 0 1,1 0,-3A3,3 0 0,1 3,0Z\" style=\"opacity: 1; stroke-width: 0px; fill: rgb(0, 128, 128); fill-opacity: 1;\"/><path class=\"point\" transform=\"translate(135,145.54)\" d=\"M3,0A3,3 0 1,1 0,-3A3,3 0 0,1 3,0Z\" style=\"opacity: 1; stroke-width: 0px; fill: rgb(0, 128, 128); fill-opacity: 1;\"/><path class=\"point\" transform=\"translate(135,145.54)\" d=\"M3,0A3,3 0 1,1 0,-3A3,3 0 0,1 3,0Z\" style=\"opacity: 1; stroke-width: 0px; fill: rgb(0, 128, 128); fill-opacity: 1;\"/><path class=\"point\" transform=\"translate(135,145.54)\" d=\"M3,0A3,3 0 1,1 0,-3A3,3 0 0,1 3,0Z\" style=\"opacity: 1; stroke-width: 0px; fill: rgb(0, 128, 128); fill-opacity: 1;\"/><path class=\"point\" transform=\"translate(135,145.54)\" d=\"M3,0A3,3 0 1,1 0,-3A3,3 0 0,1 3,0Z\" style=\"opacity: 1; stroke-width: 0px; fill: rgb(0, 128, 128); fill-opacity: 1;\"/><path class=\"point\" transform=\"translate(135,145.54)\" d=\"M3,0A3,3 0 1,1 0,-3A3,3 0 0,1 3,0Z\" style=\"opacity: 1; stroke-width: 0px; fill: rgb(0, 128, 128); fill-opacity: 1;\"/><path class=\"point\" transform=\"translate(135,143.98)\" d=\"M3,0A3,3 0 1,1 0,-3A3,3 0 0,1 3,0Z\" style=\"opacity: 1; stroke-width: 0px; fill: rgb(0, 128, 128); fill-opacity: 1;\"/><path class=\"point\" transform=\"translate(135,143.98)\" d=\"M3,0A3,3 0 1,1 0,-3A3,3 0 0,1 3,0Z\" style=\"opacity: 1; stroke-width: 0px; fill: rgb(0, 128, 128); fill-opacity: 1;\"/><path class=\"point\" transform=\"translate(135,143.98)\" d=\"M3,0A3,3 0 1,1 0,-3A3,3 0 0,1 3,0Z\" style=\"opacity: 1; stroke-width: 0px; fill: rgb(0, 128, 128); fill-opacity: 1;\"/><path class=\"point\" transform=\"translate(135,143.98)\" d=\"M3,0A3,3 0 1,1 0,-3A3,3 0 0,1 3,0Z\" style=\"opacity: 1; stroke-width: 0px; fill: rgb(0, 128, 128); fill-opacity: 1;\"/><path class=\"point\" transform=\"translate(135,143.98)\" d=\"M3,0A3,3 0 1,1 0,-3A3,3 0 0,1 3,0Z\" style=\"opacity: 1; stroke-width: 0px; fill: rgb(0, 128, 128); fill-opacity: 1;\"/><path class=\"point\" transform=\"translate(135,143.98)\" d=\"M3,0A3,3 0 1,1 0,-3A3,3 0 0,1 3,0Z\" style=\"opacity: 1; stroke-width: 0px; fill: rgb(0, 128, 128); fill-opacity: 1;\"/><path class=\"point\" transform=\"translate(135,143.98)\" d=\"M3,0A3,3 0 1,1 0,-3A3,3 0 0,1 3,0Z\" style=\"opacity: 1; stroke-width: 0px; fill: rgb(0, 128, 128); fill-opacity: 1;\"/><path class=\"point\" transform=\"translate(135,143.59)\" d=\"M3,0A3,3 0 1,1 0,-3A3,3 0 0,1 3,0Z\" style=\"opacity: 1; stroke-width: 0px; fill: rgb(0, 128, 128); fill-opacity: 1;\"/><path class=\"point\" transform=\"translate(135,143.59)\" d=\"M3,0A3,3 0 1,1 0,-3A3,3 0 0,1 3,0Z\" style=\"opacity: 1; stroke-width: 0px; fill: rgb(0, 128, 128); fill-opacity: 1;\"/><path class=\"point\" transform=\"translate(135,143.2)\" d=\"M3,0A3,3 0 1,1 0,-3A3,3 0 0,1 3,0Z\" style=\"opacity: 1; stroke-width: 0px; fill: rgb(0, 128, 128); fill-opacity: 1;\"/><path class=\"point\" transform=\"translate(135,143.2)\" d=\"M3,0A3,3 0 1,1 0,-3A3,3 0 0,1 3,0Z\" style=\"opacity: 1; stroke-width: 0px; fill: rgb(0, 128, 128); fill-opacity: 1;\"/><path class=\"point\" transform=\"translate(135,143.2)\" d=\"M3,0A3,3 0 1,1 0,-3A3,3 0 0,1 3,0Z\" style=\"opacity: 1; stroke-width: 0px; fill: rgb(0, 128, 128); fill-opacity: 1;\"/><path class=\"point\" transform=\"translate(135,142.03)\" d=\"M3,0A3,3 0 1,1 0,-3A3,3 0 0,1 3,0Z\" style=\"opacity: 1; stroke-width: 0px; fill: rgb(0, 128, 128); fill-opacity: 1;\"/><path class=\"point\" transform=\"translate(135,142.03)\" d=\"M3,0A3,3 0 1,1 0,-3A3,3 0 0,1 3,0Z\" style=\"opacity: 1; stroke-width: 0px; fill: rgb(0, 128, 128); fill-opacity: 1;\"/><path class=\"point\" transform=\"translate(135,141.64)\" d=\"M3,0A3,3 0 1,1 0,-3A3,3 0 0,1 3,0Z\" style=\"opacity: 1; stroke-width: 0px; fill: rgb(0, 128, 128); fill-opacity: 1;\"/><path class=\"point\" transform=\"translate(135,141.64)\" d=\"M3,0A3,3 0 1,1 0,-3A3,3 0 0,1 3,0Z\" style=\"opacity: 1; stroke-width: 0px; fill: rgb(0, 128, 128); fill-opacity: 1;\"/><path class=\"point\" transform=\"translate(135,141.64)\" d=\"M3,0A3,3 0 1,1 0,-3A3,3 0 0,1 3,0Z\" style=\"opacity: 1; stroke-width: 0px; fill: rgb(0, 128, 128); fill-opacity: 1;\"/><path class=\"point\" transform=\"translate(135,140.86)\" d=\"M3,0A3,3 0 1,1 0,-3A3,3 0 0,1 3,0Z\" style=\"opacity: 1; stroke-width: 0px; fill: rgb(0, 128, 128); fill-opacity: 1;\"/><path class=\"point\" transform=\"translate(135,140.86)\" d=\"M3,0A3,3 0 1,1 0,-3A3,3 0 0,1 3,0Z\" style=\"opacity: 1; stroke-width: 0px; fill: rgb(0, 128, 128); fill-opacity: 1;\"/><path class=\"point\" transform=\"translate(135,140.86)\" d=\"M3,0A3,3 0 1,1 0,-3A3,3 0 0,1 3,0Z\" style=\"opacity: 1; stroke-width: 0px; fill: rgb(0, 128, 128); fill-opacity: 1;\"/><path class=\"point\" transform=\"translate(135,140.86)\" d=\"M3,0A3,3 0 1,1 0,-3A3,3 0 0,1 3,0Z\" style=\"opacity: 1; stroke-width: 0px; fill: rgb(0, 128, 128); fill-opacity: 1;\"/><path class=\"point\" transform=\"translate(135,140.47)\" d=\"M3,0A3,3 0 1,1 0,-3A3,3 0 0,1 3,0Z\" style=\"opacity: 1; stroke-width: 0px; fill: rgb(0, 128, 128); fill-opacity: 1;\"/><path class=\"point\" transform=\"translate(135,140.47)\" d=\"M3,0A3,3 0 1,1 0,-3A3,3 0 0,1 3,0Z\" style=\"opacity: 1; stroke-width: 0px; fill: rgb(0, 128, 128); fill-opacity: 1;\"/><path class=\"point\" transform=\"translate(135,140.47)\" d=\"M3,0A3,3 0 1,1 0,-3A3,3 0 0,1 3,0Z\" style=\"opacity: 1; stroke-width: 0px; fill: rgb(0, 128, 128); fill-opacity: 1;\"/><path class=\"point\" transform=\"translate(135,140.47)\" d=\"M3,0A3,3 0 1,1 0,-3A3,3 0 0,1 3,0Z\" style=\"opacity: 1; stroke-width: 0px; fill: rgb(0, 128, 128); fill-opacity: 1;\"/><path class=\"point\" transform=\"translate(135,140.08)\" d=\"M3,0A3,3 0 1,1 0,-3A3,3 0 0,1 3,0Z\" style=\"opacity: 1; stroke-width: 0px; fill: rgb(0, 128, 128); fill-opacity: 1;\"/><path class=\"point\" transform=\"translate(135,140.08)\" d=\"M3,0A3,3 0 1,1 0,-3A3,3 0 0,1 3,0Z\" style=\"opacity: 1; stroke-width: 0px; fill: rgb(0, 128, 128); fill-opacity: 1;\"/><path class=\"point\" transform=\"translate(135,139.68)\" d=\"M3,0A3,3 0 1,1 0,-3A3,3 0 0,1 3,0Z\" style=\"opacity: 1; stroke-width: 0px; fill: rgb(0, 128, 128); fill-opacity: 1;\"/><path class=\"point\" transform=\"translate(135,139.68)\" d=\"M3,0A3,3 0 1,1 0,-3A3,3 0 0,1 3,0Z\" style=\"opacity: 1; stroke-width: 0px; fill: rgb(0, 128, 128); fill-opacity: 1;\"/><path class=\"point\" transform=\"translate(135,138.9)\" d=\"M3,0A3,3 0 1,1 0,-3A3,3 0 0,1 3,0Z\" style=\"opacity: 1; stroke-width: 0px; fill: rgb(0, 128, 128); fill-opacity: 1;\"/><path class=\"point\" transform=\"translate(135,138.9)\" d=\"M3,0A3,3 0 1,1 0,-3A3,3 0 0,1 3,0Z\" style=\"opacity: 1; stroke-width: 0px; fill: rgb(0, 128, 128); fill-opacity: 1;\"/><path class=\"point\" transform=\"translate(135,137.73)\" d=\"M3,0A3,3 0 1,1 0,-3A3,3 0 0,1 3,0Z\" style=\"opacity: 1; stroke-width: 0px; fill: rgb(0, 128, 128); fill-opacity: 1;\"/><path class=\"point\" transform=\"translate(135,137.34)\" d=\"M3,0A3,3 0 1,1 0,-3A3,3 0 0,1 3,0Z\" style=\"opacity: 1; stroke-width: 0px; fill: rgb(0, 128, 128); fill-opacity: 1;\"/><path class=\"point\" transform=\"translate(135,135.39)\" d=\"M3,0A3,3 0 1,1 0,-3A3,3 0 0,1 3,0Z\" style=\"opacity: 1; stroke-width: 0px; fill: rgb(0, 128, 128); fill-opacity: 1;\"/><path class=\"point\" transform=\"translate(135,134.22)\" d=\"M3,0A3,3 0 1,1 0,-3A3,3 0 0,1 3,0Z\" style=\"opacity: 1; stroke-width: 0px; fill: rgb(0, 128, 128); fill-opacity: 1;\"/><path class=\"point\" transform=\"translate(135,133.82)\" d=\"M3,0A3,3 0 1,1 0,-3A3,3 0 0,1 3,0Z\" style=\"opacity: 1; stroke-width: 0px; fill: rgb(0, 128, 128); fill-opacity: 1;\"/><path class=\"point\" transform=\"translate(135,133.82)\" d=\"M3,0A3,3 0 1,1 0,-3A3,3 0 0,1 3,0Z\" style=\"opacity: 1; stroke-width: 0px; fill: rgb(0, 128, 128); fill-opacity: 1;\"/><path class=\"point\" transform=\"translate(135,133.82)\" d=\"M3,0A3,3 0 1,1 0,-3A3,3 0 0,1 3,0Z\" style=\"opacity: 1; stroke-width: 0px; fill: rgb(0, 128, 128); fill-opacity: 1;\"/><path class=\"point\" transform=\"translate(135,132.26)\" d=\"M3,0A3,3 0 1,1 0,-3A3,3 0 0,1 3,0Z\" style=\"opacity: 1; stroke-width: 0px; fill: rgb(0, 128, 128); fill-opacity: 1;\"/><path class=\"point\" transform=\"translate(135,130.7)\" d=\"M3,0A3,3 0 1,1 0,-3A3,3 0 0,1 3,0Z\" style=\"opacity: 1; stroke-width: 0px; fill: rgb(0, 128, 128); fill-opacity: 1;\"/><path class=\"point\" transform=\"translate(135,130.31)\" d=\"M3,0A3,3 0 1,1 0,-3A3,3 0 0,1 3,0Z\" style=\"opacity: 1; stroke-width: 0px; fill: rgb(0, 128, 128); fill-opacity: 1;\"/><path class=\"point\" transform=\"translate(135,130.31)\" d=\"M3,0A3,3 0 1,1 0,-3A3,3 0 0,1 3,0Z\" style=\"opacity: 1; stroke-width: 0px; fill: rgb(0, 128, 128); fill-opacity: 1;\"/><path class=\"point\" transform=\"translate(135,130.31)\" d=\"M3,0A3,3 0 1,1 0,-3A3,3 0 0,1 3,0Z\" style=\"opacity: 1; stroke-width: 0px; fill: rgb(0, 128, 128); fill-opacity: 1;\"/><path class=\"point\" transform=\"translate(135,130.31)\" d=\"M3,0A3,3 0 1,1 0,-3A3,3 0 0,1 3,0Z\" style=\"opacity: 1; stroke-width: 0px; fill: rgb(0, 128, 128); fill-opacity: 1;\"/><path class=\"point\" transform=\"translate(135,130.31)\" d=\"M3,0A3,3 0 1,1 0,-3A3,3 0 0,1 3,0Z\" style=\"opacity: 1; stroke-width: 0px; fill: rgb(0, 128, 128); fill-opacity: 1;\"/><path class=\"point\" transform=\"translate(135,129.92)\" d=\"M3,0A3,3 0 1,1 0,-3A3,3 0 0,1 3,0Z\" style=\"opacity: 1; stroke-width: 0px; fill: rgb(0, 128, 128); fill-opacity: 1;\"/><path class=\"point\" transform=\"translate(135,127.96)\" d=\"M3,0A3,3 0 1,1 0,-3A3,3 0 0,1 3,0Z\" style=\"opacity: 1; stroke-width: 0px; fill: rgb(0, 128, 128); fill-opacity: 1;\"/><path class=\"point\" transform=\"translate(135,127.96)\" d=\"M3,0A3,3 0 1,1 0,-3A3,3 0 0,1 3,0Z\" style=\"opacity: 1; stroke-width: 0px; fill: rgb(0, 128, 128); fill-opacity: 1;\"/><path class=\"point\" transform=\"translate(135,127.96)\" d=\"M3,0A3,3 0 1,1 0,-3A3,3 0 0,1 3,0Z\" style=\"opacity: 1; stroke-width: 0px; fill: rgb(0, 128, 128); fill-opacity: 1;\"/><path class=\"point\" transform=\"translate(135,127.96)\" d=\"M3,0A3,3 0 1,1 0,-3A3,3 0 0,1 3,0Z\" style=\"opacity: 1; stroke-width: 0px; fill: rgb(0, 128, 128); fill-opacity: 1;\"/><path class=\"point\" transform=\"translate(135,127.96)\" d=\"M3,0A3,3 0 1,1 0,-3A3,3 0 0,1 3,0Z\" style=\"opacity: 1; stroke-width: 0px; fill: rgb(0, 128, 128); fill-opacity: 1;\"/><path class=\"point\" transform=\"translate(135,126.4)\" d=\"M3,0A3,3 0 1,1 0,-3A3,3 0 0,1 3,0Z\" style=\"opacity: 1; stroke-width: 0px; fill: rgb(0, 128, 128); fill-opacity: 1;\"/><path class=\"point\" transform=\"translate(135,126.4)\" d=\"M3,0A3,3 0 1,1 0,-3A3,3 0 0,1 3,0Z\" style=\"opacity: 1; stroke-width: 0px; fill: rgb(0, 128, 128); fill-opacity: 1;\"/><path class=\"point\" transform=\"translate(135,126.01)\" d=\"M3,0A3,3 0 1,1 0,-3A3,3 0 0,1 3,0Z\" style=\"opacity: 1; stroke-width: 0px; fill: rgb(0, 128, 128); fill-opacity: 1;\"/><path class=\"point\" transform=\"translate(135,126.01)\" d=\"M3,0A3,3 0 1,1 0,-3A3,3 0 0,1 3,0Z\" style=\"opacity: 1; stroke-width: 0px; fill: rgb(0, 128, 128); fill-opacity: 1;\"/><path class=\"point\" transform=\"translate(135,126.01)\" d=\"M3,0A3,3 0 1,1 0,-3A3,3 0 0,1 3,0Z\" style=\"opacity: 1; stroke-width: 0px; fill: rgb(0, 128, 128); fill-opacity: 1;\"/><path class=\"point\" transform=\"translate(135,125.62)\" d=\"M3,0A3,3 0 1,1 0,-3A3,3 0 0,1 3,0Z\" style=\"opacity: 1; stroke-width: 0px; fill: rgb(0, 128, 128); fill-opacity: 1;\"/><path class=\"point\" transform=\"translate(135,125.62)\" d=\"M3,0A3,3 0 1,1 0,-3A3,3 0 0,1 3,0Z\" style=\"opacity: 1; stroke-width: 0px; fill: rgb(0, 128, 128); fill-opacity: 1;\"/><path class=\"point\" transform=\"translate(135,124.84)\" d=\"M3,0A3,3 0 1,1 0,-3A3,3 0 0,1 3,0Z\" style=\"opacity: 1; stroke-width: 0px; fill: rgb(0, 128, 128); fill-opacity: 1;\"/><path class=\"point\" transform=\"translate(135,124.45)\" d=\"M3,0A3,3 0 1,1 0,-3A3,3 0 0,1 3,0Z\" style=\"opacity: 1; stroke-width: 0px; fill: rgb(0, 128, 128); fill-opacity: 1;\"/><path class=\"point\" transform=\"translate(135,124.45)\" d=\"M3,0A3,3 0 1,1 0,-3A3,3 0 0,1 3,0Z\" style=\"opacity: 1; stroke-width: 0px; fill: rgb(0, 128, 128); fill-opacity: 1;\"/><path class=\"point\" transform=\"translate(135,124.45)\" d=\"M3,0A3,3 0 1,1 0,-3A3,3 0 0,1 3,0Z\" style=\"opacity: 1; stroke-width: 0px; fill: rgb(0, 128, 128); fill-opacity: 1;\"/><path class=\"point\" transform=\"translate(135,124.45)\" d=\"M3,0A3,3 0 1,1 0,-3A3,3 0 0,1 3,0Z\" style=\"opacity: 1; stroke-width: 0px; fill: rgb(0, 128, 128); fill-opacity: 1;\"/><path class=\"point\" transform=\"translate(135,124.06)\" d=\"M3,0A3,3 0 1,1 0,-3A3,3 0 0,1 3,0Z\" style=\"opacity: 1; stroke-width: 0px; fill: rgb(0, 128, 128); fill-opacity: 1;\"/><path class=\"point\" transform=\"translate(135,123.28)\" d=\"M3,0A3,3 0 1,1 0,-3A3,3 0 0,1 3,0Z\" style=\"opacity: 1; stroke-width: 0px; fill: rgb(0, 128, 128); fill-opacity: 1;\"/><path class=\"point\" transform=\"translate(135,123.28)\" d=\"M3,0A3,3 0 1,1 0,-3A3,3 0 0,1 3,0Z\" style=\"opacity: 1; stroke-width: 0px; fill: rgb(0, 128, 128); fill-opacity: 1;\"/><path class=\"point\" transform=\"translate(135,122.89)\" d=\"M3,0A3,3 0 1,1 0,-3A3,3 0 0,1 3,0Z\" style=\"opacity: 1; stroke-width: 0px; fill: rgb(0, 128, 128); fill-opacity: 1;\"/><path class=\"point\" transform=\"translate(135,122.89)\" d=\"M3,0A3,3 0 1,1 0,-3A3,3 0 0,1 3,0Z\" style=\"opacity: 1; stroke-width: 0px; fill: rgb(0, 128, 128); fill-opacity: 1;\"/><path class=\"point\" transform=\"translate(135,122.89)\" d=\"M3,0A3,3 0 1,1 0,-3A3,3 0 0,1 3,0Z\" style=\"opacity: 1; stroke-width: 0px; fill: rgb(0, 128, 128); fill-opacity: 1;\"/><path class=\"point\" transform=\"translate(135,122.89)\" d=\"M3,0A3,3 0 1,1 0,-3A3,3 0 0,1 3,0Z\" style=\"opacity: 1; stroke-width: 0px; fill: rgb(0, 128, 128); fill-opacity: 1;\"/><path class=\"point\" transform=\"translate(135,122.89)\" d=\"M3,0A3,3 0 1,1 0,-3A3,3 0 0,1 3,0Z\" style=\"opacity: 1; stroke-width: 0px; fill: rgb(0, 128, 128); fill-opacity: 1;\"/><path class=\"point\" transform=\"translate(135,122.49)\" d=\"M3,0A3,3 0 1,1 0,-3A3,3 0 0,1 3,0Z\" style=\"opacity: 1; stroke-width: 0px; fill: rgb(0, 128, 128); fill-opacity: 1;\"/><path class=\"point\" transform=\"translate(135,122.1)\" d=\"M3,0A3,3 0 1,1 0,-3A3,3 0 0,1 3,0Z\" style=\"opacity: 1; stroke-width: 0px; fill: rgb(0, 128, 128); fill-opacity: 1;\"/><path class=\"point\" transform=\"translate(135,121.71)\" d=\"M3,0A3,3 0 1,1 0,-3A3,3 0 0,1 3,0Z\" style=\"opacity: 1; stroke-width: 0px; fill: rgb(0, 128, 128); fill-opacity: 1;\"/><path class=\"point\" transform=\"translate(135,121.71)\" d=\"M3,0A3,3 0 1,1 0,-3A3,3 0 0,1 3,0Z\" style=\"opacity: 1; stroke-width: 0px; fill: rgb(0, 128, 128); fill-opacity: 1;\"/><path class=\"point\" transform=\"translate(135,121.32)\" d=\"M3,0A3,3 0 1,1 0,-3A3,3 0 0,1 3,0Z\" style=\"opacity: 1; stroke-width: 0px; fill: rgb(0, 128, 128); fill-opacity: 1;\"/><path class=\"point\" transform=\"translate(135,121.32)\" d=\"M3,0A3,3 0 1,1 0,-3A3,3 0 0,1 3,0Z\" style=\"opacity: 1; stroke-width: 0px; fill: rgb(0, 128, 128); fill-opacity: 1;\"/><path class=\"point\" transform=\"translate(135,121.32)\" d=\"M3,0A3,3 0 1,1 0,-3A3,3 0 0,1 3,0Z\" style=\"opacity: 1; stroke-width: 0px; fill: rgb(0, 128, 128); fill-opacity: 1;\"/><path class=\"point\" transform=\"translate(135,120.93)\" d=\"M3,0A3,3 0 1,1 0,-3A3,3 0 0,1 3,0Z\" style=\"opacity: 1; stroke-width: 0px; fill: rgb(0, 128, 128); fill-opacity: 1;\"/><path class=\"point\" transform=\"translate(135,120.15)\" d=\"M3,0A3,3 0 1,1 0,-3A3,3 0 0,1 3,0Z\" style=\"opacity: 1; stroke-width: 0px; fill: rgb(0, 128, 128); fill-opacity: 1;\"/><path class=\"point\" transform=\"translate(135,119.37)\" d=\"M3,0A3,3 0 1,1 0,-3A3,3 0 0,1 3,0Z\" style=\"opacity: 1; stroke-width: 0px; fill: rgb(0, 128, 128); fill-opacity: 1;\"/><path class=\"point\" transform=\"translate(135,118.98)\" d=\"M3,0A3,3 0 1,1 0,-3A3,3 0 0,1 3,0Z\" style=\"opacity: 1; stroke-width: 0px; fill: rgb(0, 128, 128); fill-opacity: 1;\"/><path class=\"point\" transform=\"translate(135,118.98)\" d=\"M3,0A3,3 0 1,1 0,-3A3,3 0 0,1 3,0Z\" style=\"opacity: 1; stroke-width: 0px; fill: rgb(0, 128, 128); fill-opacity: 1;\"/><path class=\"point\" transform=\"translate(135,118.98)\" d=\"M3,0A3,3 0 1,1 0,-3A3,3 0 0,1 3,0Z\" style=\"opacity: 1; stroke-width: 0px; fill: rgb(0, 128, 128); fill-opacity: 1;\"/><path class=\"point\" transform=\"translate(135,118.98)\" d=\"M3,0A3,3 0 1,1 0,-3A3,3 0 0,1 3,0Z\" style=\"opacity: 1; stroke-width: 0px; fill: rgb(0, 128, 128); fill-opacity: 1;\"/><path class=\"point\" transform=\"translate(135,118.98)\" d=\"M3,0A3,3 0 1,1 0,-3A3,3 0 0,1 3,0Z\" style=\"opacity: 1; stroke-width: 0px; fill: rgb(0, 128, 128); fill-opacity: 1;\"/><path class=\"point\" transform=\"translate(135,118.98)\" d=\"M3,0A3,3 0 1,1 0,-3A3,3 0 0,1 3,0Z\" style=\"opacity: 1; stroke-width: 0px; fill: rgb(0, 128, 128); fill-opacity: 1;\"/><path class=\"point\" transform=\"translate(135,118.2)\" d=\"M3,0A3,3 0 1,1 0,-3A3,3 0 0,1 3,0Z\" style=\"opacity: 1; stroke-width: 0px; fill: rgb(0, 128, 128); fill-opacity: 1;\"/><path class=\"point\" transform=\"translate(135,115.46)\" d=\"M3,0A3,3 0 1,1 0,-3A3,3 0 0,1 3,0Z\" style=\"opacity: 1; stroke-width: 0px; fill: rgb(0, 128, 128); fill-opacity: 1;\"/><path class=\"point\" transform=\"translate(135,113.51)\" d=\"M3,0A3,3 0 1,1 0,-3A3,3 0 0,1 3,0Z\" style=\"opacity: 1; stroke-width: 0px; fill: rgb(0, 128, 128); fill-opacity: 1;\"/><path class=\"point\" transform=\"translate(135,113.12)\" d=\"M3,0A3,3 0 1,1 0,-3A3,3 0 0,1 3,0Z\" style=\"opacity: 1; stroke-width: 0px; fill: rgb(0, 128, 128); fill-opacity: 1;\"/><path class=\"point\" transform=\"translate(135,113.12)\" d=\"M3,0A3,3 0 1,1 0,-3A3,3 0 0,1 3,0Z\" style=\"opacity: 1; stroke-width: 0px; fill: rgb(0, 128, 128); fill-opacity: 1;\"/><path class=\"point\" transform=\"translate(135,112.73)\" d=\"M3,0A3,3 0 1,1 0,-3A3,3 0 0,1 3,0Z\" style=\"opacity: 1; stroke-width: 0px; fill: rgb(0, 128, 128); fill-opacity: 1;\"/><path class=\"point\" transform=\"translate(135,111.17)\" d=\"M3,0A3,3 0 1,1 0,-3A3,3 0 0,1 3,0Z\" style=\"opacity: 1; stroke-width: 0px; fill: rgb(0, 128, 128); fill-opacity: 1;\"/><path class=\"point\" transform=\"translate(135,110.38)\" d=\"M3,0A3,3 0 1,1 0,-3A3,3 0 0,1 3,0Z\" style=\"opacity: 1; stroke-width: 0px; fill: rgb(0, 128, 128); fill-opacity: 1;\"/><path class=\"point\" transform=\"translate(135,99.44)\" d=\"M3,0A3,3 0 1,1 0,-3A3,3 0 0,1 3,0Z\" style=\"opacity: 1; stroke-width: 0px; fill: rgb(0, 128, 128); fill-opacity: 1;\"/><path class=\"point\" transform=\"translate(135,98.66)\" d=\"M3,0A3,3 0 1,1 0,-3A3,3 0 0,1 3,0Z\" style=\"opacity: 1; stroke-width: 0px; fill: rgb(0, 128, 128); fill-opacity: 1;\"/><path class=\"point\" transform=\"translate(135,98.66)\" d=\"M3,0A3,3 0 1,1 0,-3A3,3 0 0,1 3,0Z\" style=\"opacity: 1; stroke-width: 0px; fill: rgb(0, 128, 128); fill-opacity: 1;\"/><path class=\"point\" transform=\"translate(135,98.66)\" d=\"M3,0A3,3 0 1,1 0,-3A3,3 0 0,1 3,0Z\" style=\"opacity: 1; stroke-width: 0px; fill: rgb(0, 128, 128); fill-opacity: 1;\"/><path class=\"point\" transform=\"translate(135,95.15)\" d=\"M3,0A3,3 0 1,1 0,-3A3,3 0 0,1 3,0Z\" style=\"opacity: 1; stroke-width: 0px; fill: rgb(0, 128, 128); fill-opacity: 1;\"/><path class=\"point\" transform=\"translate(135,92.02)\" d=\"M3,0A3,3 0 1,1 0,-3A3,3 0 0,1 3,0Z\" style=\"opacity: 1; stroke-width: 0px; fill: rgb(0, 128, 128); fill-opacity: 1;\"/><path class=\"point\" transform=\"translate(135,88.12)\" d=\"M3,0A3,3 0 1,1 0,-3A3,3 0 0,1 3,0Z\" style=\"opacity: 1; stroke-width: 0px; fill: rgb(0, 128, 128); fill-opacity: 1;\"/><path class=\"point\" transform=\"translate(135,83.04)\" d=\"M3,0A3,3 0 1,1 0,-3A3,3 0 0,1 3,0Z\" style=\"opacity: 1; stroke-width: 0px; fill: rgb(0, 128, 128); fill-opacity: 1;\"/><path class=\"point\" transform=\"translate(135,81.24)\" d=\"M3,0A3,3 0 1,1 0,-3A3,3 0 0,1 3,0Z\" style=\"opacity: 1; stroke-width: 0px; fill: rgb(0, 128, 128); fill-opacity: 1;\"/><path class=\"point\" transform=\"translate(135,79.13)\" d=\"M3,0A3,3 0 1,1 0,-3A3,3 0 0,1 3,0Z\" style=\"opacity: 1; stroke-width: 0px; fill: rgb(0, 128, 128); fill-opacity: 1;\"/><path class=\"point\" transform=\"translate(135,23.65)\" d=\"M3,0A3,3 0 1,1 0,-3A3,3 0 0,1 3,0Z\" style=\"opacity: 1; stroke-width: 0px; fill: rgb(0, 128, 128); fill-opacity: 1;\"/></g><g class=\"points\"><path class=\"point\" transform=\"translate(405,276.03)\" d=\"M3,0A3,3 0 1,1 0,-3A3,3 0 0,1 3,0Z\" style=\"opacity: 1; stroke-width: 0px; fill: rgb(0, 128, 128); fill-opacity: 1;\"/><path class=\"point\" transform=\"translate(405,166.25)\" d=\"M3,0A3,3 0 1,1 0,-3A3,3 0 0,1 3,0Z\" style=\"opacity: 1; stroke-width: 0px; fill: rgb(0, 128, 128); fill-opacity: 1;\"/><path class=\"point\" transform=\"translate(405,165.47)\" d=\"M3,0A3,3 0 1,1 0,-3A3,3 0 0,1 3,0Z\" style=\"opacity: 1; stroke-width: 0px; fill: rgb(0, 128, 128); fill-opacity: 1;\"/><path class=\"point\" transform=\"translate(405,165.47)\" d=\"M3,0A3,3 0 1,1 0,-3A3,3 0 0,1 3,0Z\" style=\"opacity: 1; stroke-width: 0px; fill: rgb(0, 128, 128); fill-opacity: 1;\"/><path class=\"point\" transform=\"translate(405,164.69)\" d=\"M3,0A3,3 0 1,1 0,-3A3,3 0 0,1 3,0Z\" style=\"opacity: 1; stroke-width: 0px; fill: rgb(0, 128, 128); fill-opacity: 1;\"/><path class=\"point\" transform=\"translate(405,164.3)\" d=\"M3,0A3,3 0 1,1 0,-3A3,3 0 0,1 3,0Z\" style=\"opacity: 1; stroke-width: 0px; fill: rgb(0, 128, 128); fill-opacity: 1;\"/><path class=\"point\" transform=\"translate(405,162.73)\" d=\"M3,0A3,3 0 1,1 0,-3A3,3 0 0,1 3,0Z\" style=\"opacity: 1; stroke-width: 0px; fill: rgb(0, 128, 128); fill-opacity: 1;\"/><path class=\"point\" transform=\"translate(405,162.34)\" d=\"M3,0A3,3 0 1,1 0,-3A3,3 0 0,1 3,0Z\" style=\"opacity: 1; stroke-width: 0px; fill: rgb(0, 128, 128); fill-opacity: 1;\"/><path class=\"point\" transform=\"translate(405,161.56)\" d=\"M3,0A3,3 0 1,1 0,-3A3,3 0 0,1 3,0Z\" style=\"opacity: 1; stroke-width: 0px; fill: rgb(0, 128, 128); fill-opacity: 1;\"/><path class=\"point\" transform=\"translate(405,160)\" d=\"M3,0A3,3 0 1,1 0,-3A3,3 0 0,1 3,0Z\" style=\"opacity: 1; stroke-width: 0px; fill: rgb(0, 128, 128); fill-opacity: 1;\"/><path class=\"point\" transform=\"translate(405,160)\" d=\"M3,0A3,3 0 1,1 0,-3A3,3 0 0,1 3,0Z\" style=\"opacity: 1; stroke-width: 0px; fill: rgb(0, 128, 128); fill-opacity: 1;\"/><path class=\"point\" transform=\"translate(405,159.22)\" d=\"M3,0A3,3 0 1,1 0,-3A3,3 0 0,1 3,0Z\" style=\"opacity: 1; stroke-width: 0px; fill: rgb(0, 128, 128); fill-opacity: 1;\"/><path class=\"point\" transform=\"translate(405,159.22)\" d=\"M3,0A3,3 0 1,1 0,-3A3,3 0 0,1 3,0Z\" style=\"opacity: 1; stroke-width: 0px; fill: rgb(0, 128, 128); fill-opacity: 1;\"/><path class=\"point\" transform=\"translate(405,158.83)\" d=\"M3,0A3,3 0 1,1 0,-3A3,3 0 0,1 3,0Z\" style=\"opacity: 1; stroke-width: 0px; fill: rgb(0, 128, 128); fill-opacity: 1;\"/><path class=\"point\" transform=\"translate(405,158.05)\" d=\"M3,0A3,3 0 1,1 0,-3A3,3 0 0,1 3,0Z\" style=\"opacity: 1; stroke-width: 0px; fill: rgb(0, 128, 128); fill-opacity: 1;\"/><path class=\"point\" transform=\"translate(405,149.84)\" d=\"M3,0A3,3 0 1,1 0,-3A3,3 0 0,1 3,0Z\" style=\"opacity: 1; stroke-width: 0px; fill: rgb(0, 128, 128); fill-opacity: 1;\"/><path class=\"point\" transform=\"translate(405,121.71)\" d=\"M3,0A3,3 0 1,1 0,-3A3,3 0 0,1 3,0Z\" style=\"opacity: 1; stroke-width: 0px; fill: rgb(0, 128, 128); fill-opacity: 1;\"/><path class=\"point\" transform=\"translate(405,98.66)\" d=\"M3,0A3,3 0 1,1 0,-3A3,3 0 0,1 3,0Z\" style=\"opacity: 1; stroke-width: 0px; fill: rgb(0, 128, 128); fill-opacity: 1;\"/></g></g></g></g><g class=\"overplot\"/><path class=\"xlines-above crisp\" d=\"M0,0\" style=\"fill: none;\"/><path class=\"ylines-above crisp\" d=\"M0,0\" style=\"fill: none;\"/><g class=\"overlines-above\"/><g class=\"xaxislayer-above\"><g class=\"xtick\"><text text-anchor=\"middle\" x=\"0\" y=\"433\" transform=\"translate(215,0)\" style=\"font-family: 'Open Sans', verdana, arial, sans-serif; font-size: 12px; fill: rgb(42, 63, 95); fill-opacity: 1; white-space: pre; opacity: 1;\">0</text></g><g class=\"xtick\"><text text-anchor=\"middle\" x=\"0\" y=\"433\" style=\"font-family: 'Open Sans', verdana, arial, sans-serif; font-size: 12px; fill: rgb(42, 63, 95); fill-opacity: 1; white-space: pre; opacity: 1;\" transform=\"translate(485,0)\">1</text></g></g><g class=\"yaxislayer-above\"><g class=\"ytick\"><text text-anchor=\"end\" x=\"79\" y=\"4.199999999999999\" transform=\"translate(0,397.52)\" style=\"font-family: 'Open Sans', verdana, arial, sans-serif; font-size: 12px; fill: rgb(42, 63, 95); fill-opacity: 1; white-space: pre; opacity: 1;\">10</text></g><g class=\"ytick\"><text text-anchor=\"end\" x=\"79\" y=\"4.199999999999999\" style=\"font-family: 'Open Sans', verdana, arial, sans-serif; font-size: 12px; fill: rgb(42, 63, 95); fill-opacity: 1; white-space: pre; opacity: 1;\" transform=\"translate(0,358.45)\">20</text></g><g class=\"ytick\"><text text-anchor=\"end\" x=\"79\" y=\"4.199999999999999\" style=\"font-family: 'Open Sans', verdana, arial, sans-serif; font-size: 12px; fill: rgb(42, 63, 95); fill-opacity: 1; white-space: pre; opacity: 1;\" transform=\"translate(0,319.38)\">30</text></g><g class=\"ytick\"><text text-anchor=\"end\" x=\"79\" y=\"4.199999999999999\" style=\"font-family: 'Open Sans', verdana, arial, sans-serif; font-size: 12px; fill: rgb(42, 63, 95); fill-opacity: 1; white-space: pre; opacity: 1;\" transform=\"translate(0,280.32)\">40</text></g><g class=\"ytick\"><text text-anchor=\"end\" x=\"79\" y=\"4.199999999999999\" style=\"font-family: 'Open Sans', verdana, arial, sans-serif; font-size: 12px; fill: rgb(42, 63, 95); fill-opacity: 1; white-space: pre; opacity: 1;\" transform=\"translate(0,241.25)\">50</text></g><g class=\"ytick\"><text text-anchor=\"end\" x=\"79\" y=\"4.199999999999999\" style=\"font-family: 'Open Sans', verdana, arial, sans-serif; font-size: 12px; fill: rgb(42, 63, 95); fill-opacity: 1; white-space: pre; opacity: 1;\" transform=\"translate(0,202.18)\">60</text></g><g class=\"ytick\"><text text-anchor=\"end\" x=\"79\" y=\"4.199999999999999\" style=\"font-family: 'Open Sans', verdana, arial, sans-serif; font-size: 12px; fill: rgb(42, 63, 95); fill-opacity: 1; white-space: pre; opacity: 1;\" transform=\"translate(0,163.11)\">70</text></g><g class=\"ytick\"><text text-anchor=\"end\" x=\"79\" y=\"4.199999999999999\" style=\"font-family: 'Open Sans', verdana, arial, sans-serif; font-size: 12px; fill: rgb(42, 63, 95); fill-opacity: 1; white-space: pre; opacity: 1;\" transform=\"translate(0,124.03999999999999)\">80</text></g></g><g class=\"overaxes-above\"/></g></g><g class=\"polarlayer\"/><g class=\"ternarylayer\"/><g class=\"geolayer\"/><g class=\"funnelarealayer\"/><g class=\"pielayer\"/><g class=\"iciclelayer\"/><g class=\"treemaplayer\"/><g class=\"sunburstlayer\"/><g class=\"glimages\"/><defs id=\"topdefs-1cb80f\"><g class=\"clips\"/></defs><g class=\"layer-above\"><g class=\"imagelayer\"/><g class=\"shapelayer\"/></g><g class=\"infolayer\"><g class=\"g-gtitle\"><text class=\"gtitle\" x=\"210\" y=\"50\" text-anchor=\"start\" dy=\"0.7em\" style=\"font-family: 'Open Sans', verdana, arial, sans-serif; font-size: 17px; fill: rgb(42, 63, 95); opacity: 1; font-weight: normal; white-space: pre;\">BMI &amp; Stroke Status</text></g><g class=\"g-xtitle\"><text class=\"xtitle\" x=\"350\" y=\"460.8\" text-anchor=\"middle\" style=\"font-family: 'Open Sans', verdana, arial, sans-serif; font-size: 14px; fill: rgb(42, 63, 95); opacity: 1; font-weight: normal; white-space: pre;\">Stroke Status</text></g><g class=\"g-ytitle\"><text class=\"ytitle\" transform=\"rotate(-90,38.934375,260)\" x=\"38.934375\" y=\"260\" text-anchor=\"middle\" style=\"font-family: 'Open Sans', verdana, arial, sans-serif; font-size: 14px; fill: rgb(42, 63, 95); opacity: 1; font-weight: normal; white-space: pre;\">BMI</text></g></g></svg>"
      ]
     },
     "metadata": {},
     "output_type": "display_data"
    }
   ],
   "source": [
    "fig = px.violin(train_df, y = 'bmi', x='stroke', box=True, width=700, height=500, color_discrete_sequence=plot_color, \n",
    "                   title='BMI & Stroke Status', \n",
    "               labels={'stroke': 'Stroke Status', 'bmi': 'BMI'})\n",
    "fig.update_layout(title_x = 0.3, title_y = 0.9)\n",
    "fig.show('svg')"
   ]
  },
  {
   "cell_type": "code",
   "execution_count": 43,
   "id": "d96cf5ac",
   "metadata": {},
   "outputs": [
    {
     "data": {
      "text/plain": [
       "Index(['id', 'gender', 'age', 'hypertension', 'heart_disease', 'ever_married',\n",
       "       'work_type', 'Residence_type', 'avg_glucose_level', 'bmi',\n",
       "       'smoking_status', 'stroke'],\n",
       "      dtype='object')"
      ]
     },
     "execution_count": 43,
     "metadata": {},
     "output_type": "execute_result"
    }
   ],
   "source": [
    "train_df.columns"
   ]
  },
  {
   "cell_type": "code",
   "execution_count": 44,
   "id": "4763054b",
   "metadata": {},
   "outputs": [
    {
     "data": {
      "image/png": "[encoded data removed]",
      "text/plain": [
       "<Figure size 864x720 with 6 Axes>"
      ]
     },
     "metadata": {
      "needs_background": "light"
     },
     "output_type": "display_data"
    }
   ],
   "source": [
    "x_values = ['smoking_status', 'hypertension', 'heart_disease','Residence_type','gender', 'ever_married']\n",
    "fig, axis = plt.subplots(nrows = 3, ncols = 2, figsize=(12, 10))\n",
    "\n",
    "for ax, x_value in zip(axis.flat, x_values):\n",
    "    sns.countplot(data = train_df, x = x_value, hue='stroke', ax = ax)\n",
    "    ax.set_title(f'{x_value.capitalize()} and smoking status')\n",
    "\n",
    "plt.tight_layout()\n",
    "plt.show()"
   ]
  },
  {
   "cell_type": "code",
   "execution_count": 45,
   "id": "28e80314",
   "metadata": {},
   "outputs": [],
   "source": [
    "# Data Preparation & Preprocessing\n",
    "from sklearn.preprocessing import OneHotEncoder, OrdinalEncoder\n",
    "from sklearn.pipeline import Pipeline\n",
    "from sklearn.compose import ColumnTransformer\n",
    "from sklearn import set_config\n",
    "\n",
    "set_config(display = 'diagram')"
   ]
  },
  {
   "cell_type": "code",
   "execution_count": 46,
   "id": "2c9fa6bc",
   "metadata": {},
   "outputs": [
    {
     "data": {
      "text/plain": [
       "Index(['id', 'gender', 'age', 'hypertension', 'heart_disease', 'ever_married',\n",
       "       'work_type', 'Residence_type', 'avg_glucose_level', 'bmi',\n",
       "       'smoking_status', 'stroke'],\n",
       "      dtype='object')"
      ]
     },
     "execution_count": 46,
     "metadata": {},
     "output_type": "execute_result"
    }
   ],
   "source": [
    "train_df.columns"
   ]
  },
  {
   "cell_type": "code",
   "execution_count": 47,
   "id": "6fd6773b",
   "metadata": {},
   "outputs": [],
   "source": [
    "input_cols = list(train_df.columns)[1:-1]"
   ]
  },
  {
   "cell_type": "code",
   "execution_count": 48,
   "id": "d45869d6",
   "metadata": {},
   "outputs": [],
   "source": [
    "target_col = 'stroke'"
   ]
  },
  {
   "cell_type": "code",
   "execution_count": 49,
   "id": "5c431289",
   "metadata": {},
   "outputs": [
    {
     "data": {
      "text/plain": [
       "['gender',\n",
       " 'age',\n",
       " 'hypertension',\n",
       " 'heart_disease',\n",
       " 'ever_married',\n",
       " 'work_type',\n",
       " 'Residence_type',\n",
       " 'avg_glucose_level',\n",
       " 'bmi',\n",
       " 'smoking_status']"
      ]
     },
     "execution_count": 49,
     "metadata": {},
     "output_type": "execute_result"
    }
   ],
   "source": [
    "input_cols"
   ]
  },
  {
   "cell_type": "code",
   "execution_count": 50,
   "id": "5c3312ae",
   "metadata": {},
   "outputs": [],
   "source": [
    "train_inputs = train_df[input_cols].copy()\n",
    "train_target = train_df[target_col].copy()\n",
    "\n",
    "test_inputs = test_df[input_cols].copy()"
   ]
  },
  {
   "cell_type": "code",
   "execution_count": 51,
   "id": "10a410c0",
   "metadata": {},
   "outputs": [],
   "source": [
    "numerical_cols = train_inputs.select_dtypes(include=np.number).columns.to_list()"
   ]
  },
  {
   "cell_type": "code",
   "execution_count": 52,
   "id": "4c84e736",
   "metadata": {},
   "outputs": [
    {
     "data": {
      "text/plain": [
       "['age', 'hypertension', 'heart_disease', 'avg_glucose_level', 'bmi']"
      ]
     },
     "execution_count": 52,
     "metadata": {},
     "output_type": "execute_result"
    }
   ],
   "source": [
    "numerical_cols"
   ]
  },
  {
   "cell_type": "code",
   "execution_count": 53,
   "id": "3de84f52",
   "metadata": {},
   "outputs": [],
   "source": [
    "categorical_cols = train_inputs.select_dtypes(include='object').columns.to_list()"
   ]
  },
  {
   "cell_type": "code",
   "execution_count": 54,
   "id": "fbaca24e",
   "metadata": {},
   "outputs": [
    {
     "data": {
      "text/plain": [
       "['gender', 'ever_married', 'work_type', 'Residence_type', 'smoking_status']"
      ]
     },
     "execution_count": 54,
     "metadata": {},
     "output_type": "execute_result"
    }
   ],
   "source": [
    "categorical_cols"
   ]
  },
  {
   "cell_type": "code",
   "execution_count": 55,
   "id": "2213cdad",
   "metadata": {},
   "outputs": [],
   "source": [
    "categorical_cols.remove('smoking_status')"
   ]
  },
  {
   "cell_type": "code",
   "execution_count": 58,
   "id": "937ea77b",
   "metadata": {},
   "outputs": [
    {
     "data": {
      "text/plain": [
       "array(['never smoked', 'formerly smoked', 'Unknown', 'smokes'],\n",
       "      dtype=object)"
      ]
     },
     "execution_count": 58,
     "metadata": {},
     "output_type": "execute_result"
    }
   ],
   "source": [
    "train_df['smoking_status'].unique()"
   ]
  },
  {
   "cell_type": "code",
   "execution_count": 59,
   "id": "8a7483b0",
   "metadata": {},
   "outputs": [],
   "source": [
    "ordinal_enc = OrdinalEncoder(categories=[['Unknown','never smoked', 'formerly smoked','smokes']])"
   ]
  },
  {
   "cell_type": "code",
   "execution_count": 60,
   "id": "70fa3553",
   "metadata": {},
   "outputs": [],
   "source": [
    "onehot_enc = OneHotEncoder(handle_unknown='ignore')"
   ]
  },
  {
   "cell_type": "code",
   "execution_count": 62,
   "id": "75cfe522",
   "metadata": {},
   "outputs": [],
   "source": [
    "preprocessor = ColumnTransformer([\n",
    "    ('Ordinal_Encode', ordinal_enc,['smoking_status']), \n",
    "    ('OneHot_Encode', onehot_enc,categorical_cols)\n",
    "]\n",
    ")"
   ]
  },
  {
   "cell_type": "code",
   "execution_count": 63,
   "id": "32aadf90",
   "metadata": {},
   "outputs": [
    {
     "data": {
      "text/html": [
       "<style>#sk-container-id-1 {color: black;}#sk-container-id-1 pre{padding: 0;}#sk-container-id-1 div.sk-toggleable {background-color: white;}#sk-container-id-1 label.sk-toggleable__label {cursor: pointer;display: block;width: 100%;margin-bottom: 0;padding: 0.3em;box-sizing: border-box;text-align: center;}#sk-container-id-1 label.sk-toggleable__label-arrow:before {content: \"▸\";float: left;margin-right: 0.25em;color: #696969;}#sk-container-id-1 label.sk-toggleable__label-arrow:hover:before {color: black;}#sk-container-id-1 div.sk-estimator:hover label.sk-toggleable__label-arrow:before {color: black;}#sk-container-id-1 div.sk-toggleable__content {max-height: 0;max-width: 0;overflow: hidden;text-align: left;background-color: #f0f8ff;}#sk-container-id-1 div.sk-toggleable__content pre {margin: 0.2em;color: black;border-radius: 0.25em;background-color: #f0f8ff;}#sk-container-id-1 input.sk-toggleable__control:checked~div.sk-toggleable__content {max-height: 200px;max-width: 100%;overflow: auto;}#sk-container-id-1 input.sk-toggleable__control:checked~label.sk-toggleable__label-arrow:before {content: \"▾\";}#sk-container-id-1 div.sk-estimator input.sk-toggleable__control:checked~label.sk-toggleable__label {background-color: #d4ebff;}#sk-container-id-1 div.sk-label input.sk-toggleable__control:checked~label.sk-toggleable__label {background-color: #d4ebff;}#sk-container-id-1 input.sk-hidden--visually {border: 0;clip: rect(1px 1px 1px 1px);clip: rect(1px, 1px, 1px, 1px);height: 1px;margin: -1px;overflow: hidden;padding: 0;position: absolute;width: 1px;}#sk-container-id-1 div.sk-estimator {font-family: monospace;background-color: #f0f8ff;border: 1px dotted black;border-radius: 0.25em;box-sizing: border-box;margin-bottom: 0.5em;}#sk-container-id-1 div.sk-estimator:hover {background-color: #d4ebff;}#sk-container-id-1 div.sk-parallel-item::after {content: \"\";width: 100%;border-bottom: 1px solid gray;flex-grow: 1;}#sk-container-id-1 div.sk-label:hover label.sk-toggleable__label {background-color: #d4ebff;}#sk-container-id-1 div.sk-serial::before {content: \"\";position: absolute;border-left: 1px solid gray;box-sizing: border-box;top: 0;bottom: 0;left: 50%;z-index: 0;}#sk-container-id-1 div.sk-serial {display: flex;flex-direction: column;align-items: center;background-color: white;padding-right: 0.2em;padding-left: 0.2em;position: relative;}#sk-container-id-1 div.sk-item {position: relative;z-index: 1;}#sk-container-id-1 div.sk-parallel {display: flex;align-items: stretch;justify-content: center;background-color: white;position: relative;}#sk-container-id-1 div.sk-item::before, #sk-container-id-1 div.sk-parallel-item::before {content: \"\";position: absolute;border-left: 1px solid gray;box-sizing: border-box;top: 0;bottom: 0;left: 50%;z-index: -1;}#sk-container-id-1 div.sk-parallel-item {display: flex;flex-direction: column;z-index: 1;position: relative;background-color: white;}#sk-container-id-1 div.sk-parallel-item:first-child::after {align-self: flex-end;width: 50%;}#sk-container-id-1 div.sk-parallel-item:last-child::after {align-self: flex-start;width: 50%;}#sk-container-id-1 div.sk-parallel-item:only-child::after {width: 0;}#sk-container-id-1 div.sk-dashed-wrapped {border: 1px dashed gray;margin: 0 0.4em 0.5em 0.4em;box-sizing: border-box;padding-bottom: 0.4em;background-color: white;}#sk-container-id-1 div.sk-label label {font-family: monospace;font-weight: bold;display: inline-block;line-height: 1.2em;}#sk-container-id-1 div.sk-label-container {text-align: center;}#sk-container-id-1 div.sk-container {/* jupyter's `normalize.less` sets `[hidden] { display: none; }` but bootstrap.min.css set `[hidden] { display: none !important; }` so we also need the `!important` here to be able to override the default hidden behavior on the sphinx rendered scikit-learn.org. See: https://github.com/scikit-learn/scikit-learn/issues/21755 */display: inline-block !important;position: relative;}#sk-container-id-1 div.sk-text-repr-fallback {display: none;}</style><div id=\"sk-container-id-1\" class=\"sk-top-container\"><div class=\"sk-text-repr-fallback\"><pre>ColumnTransformer(transformers=[(&#x27;Ordinal_Encode&#x27;,\n",
       "                                 OrdinalEncoder(categories=[[&#x27;Unknown&#x27;,\n",
       "                                                             &#x27;never smoked&#x27;,\n",
       "                                                             &#x27;formerly smoked&#x27;,\n",
       "                                                             &#x27;smokes&#x27;]]),\n",
       "                                 [&#x27;smoking_status&#x27;]),\n",
       "                                (&#x27;OneHot_Encode&#x27;,\n",
       "                                 OneHotEncoder(handle_unknown=&#x27;ignore&#x27;),\n",
       "                                 [&#x27;gender&#x27;, &#x27;ever_married&#x27;, &#x27;work_type&#x27;,\n",
       "                                  &#x27;Residence_type&#x27;])])</pre><b>In a Jupyter environment, please rerun this cell to show the HTML representation or trust the notebook. <br />On GitHub, the HTML representation is unable to render, please try loading this page with nbviewer.org.</b></div><div class=\"sk-container\" hidden><div class=\"sk-item sk-dashed-wrapped\"><div class=\"sk-label-container\"><div class=\"sk-label sk-toggleable\"><input class=\"sk-toggleable__control sk-hidden--visually\" id=\"sk-estimator-id-1\" type=\"checkbox\" ><label for=\"sk-estimator-id-1\" class=\"sk-toggleable__label sk-toggleable__label-arrow\">ColumnTransformer</label><div class=\"sk-toggleable__content\"><pre>ColumnTransformer(transformers=[(&#x27;Ordinal_Encode&#x27;,\n",
       "                                 OrdinalEncoder(categories=[[&#x27;Unknown&#x27;,\n",
       "                                                             &#x27;never smoked&#x27;,\n",
       "                                                             &#x27;formerly smoked&#x27;,\n",
       "                                                             &#x27;smokes&#x27;]]),\n",
       "                                 [&#x27;smoking_status&#x27;]),\n",
       "                                (&#x27;OneHot_Encode&#x27;,\n",
       "                                 OneHotEncoder(handle_unknown=&#x27;ignore&#x27;),\n",
       "                                 [&#x27;gender&#x27;, &#x27;ever_married&#x27;, &#x27;work_type&#x27;,\n",
       "                                  &#x27;Residence_type&#x27;])])</pre></div></div></div><div class=\"sk-parallel\"><div class=\"sk-parallel-item\"><div class=\"sk-item\"><div class=\"sk-label-container\"><div class=\"sk-label sk-toggleable\"><input class=\"sk-toggleable__control sk-hidden--visually\" id=\"sk-estimator-id-2\" type=\"checkbox\" ><label for=\"sk-estimator-id-2\" class=\"sk-toggleable__label sk-toggleable__label-arrow\">Ordinal_Encode</label><div class=\"sk-toggleable__content\"><pre>[&#x27;smoking_status&#x27;]</pre></div></div></div><div class=\"sk-serial\"><div class=\"sk-item\"><div class=\"sk-estimator sk-toggleable\"><input class=\"sk-toggleable__control sk-hidden--visually\" id=\"sk-estimator-id-3\" type=\"checkbox\" ><label for=\"sk-estimator-id-3\" class=\"sk-toggleable__label sk-toggleable__label-arrow\">OrdinalEncoder</label><div class=\"sk-toggleable__content\"><pre>OrdinalEncoder(categories=[[&#x27;Unknown&#x27;, &#x27;never smoked&#x27;, &#x27;formerly smoked&#x27;,\n",
       "                            &#x27;smokes&#x27;]])</pre></div></div></div></div></div></div><div class=\"sk-parallel-item\"><div class=\"sk-item\"><div class=\"sk-label-container\"><div class=\"sk-label sk-toggleable\"><input class=\"sk-toggleable__control sk-hidden--visually\" id=\"sk-estimator-id-4\" type=\"checkbox\" ><label for=\"sk-estimator-id-4\" class=\"sk-toggleable__label sk-toggleable__label-arrow\">OneHot_Encode</label><div class=\"sk-toggleable__content\"><pre>[&#x27;gender&#x27;, &#x27;ever_married&#x27;, &#x27;work_type&#x27;, &#x27;Residence_type&#x27;]</pre></div></div></div><div class=\"sk-serial\"><div class=\"sk-item\"><div class=\"sk-estimator sk-toggleable\"><input class=\"sk-toggleable__control sk-hidden--visually\" id=\"sk-estimator-id-5\" type=\"checkbox\" ><label for=\"sk-estimator-id-5\" class=\"sk-toggleable__label sk-toggleable__label-arrow\">OneHotEncoder</label><div class=\"sk-toggleable__content\"><pre>OneHotEncoder(handle_unknown=&#x27;ignore&#x27;)</pre></div></div></div></div></div></div></div></div></div></div>"
      ],
      "text/plain": [
       "ColumnTransformer(transformers=[('Ordinal_Encode',\n",
       "                                 OrdinalEncoder(categories=[['Unknown',\n",
       "                                                             'never smoked',\n",
       "                                                             'formerly smoked',\n",
       "                                                             'smokes']]),\n",
       "                                 ['smoking_status']),\n",
       "                                ('OneHot_Encode',\n",
       "                                 OneHotEncoder(handle_unknown='ignore'),\n",
       "                                 ['gender', 'ever_married', 'work_type',\n",
       "                                  'Residence_type'])])"
      ]
     },
     "execution_count": 63,
     "metadata": {},
     "output_type": "execute_result"
    }
   ],
   "source": [
    "preprocessor.fit(train_inputs)"
   ]
  },
  {
   "cell_type": "code",
   "execution_count": 64,
   "id": "78f551fa",
   "metadata": {},
   "outputs": [],
   "source": [
    "encoded_cols = list(preprocessor.get_feature_names_out())"
   ]
  },
  {
   "cell_type": "code",
   "execution_count": 65,
   "id": "9f1c2a2e",
   "metadata": {},
   "outputs": [
    {
     "data": {
      "text/plain": [
       "['Ordinal_Encode__smoking_status',\n",
       " 'OneHot_Encode__gender_Female',\n",
       " 'OneHot_Encode__gender_Male',\n",
       " 'OneHot_Encode__ever_married_No',\n",
       " 'OneHot_Encode__ever_married_Yes',\n",
       " 'OneHot_Encode__work_type_Govt_job',\n",
       " 'OneHot_Encode__work_type_Never_worked',\n",
       " 'OneHot_Encode__work_type_Private',\n",
       " 'OneHot_Encode__work_type_Self-employed',\n",
       " 'OneHot_Encode__work_type_children',\n",
       " 'OneHot_Encode__Residence_type_Rural',\n",
       " 'OneHot_Encode__Residence_type_Urban']"
      ]
     },
     "execution_count": 65,
     "metadata": {},
     "output_type": "execute_result"
    }
   ],
   "source": [
    "encoded_cols"
   ]
  },
  {
   "cell_type": "code",
   "execution_count": 67,
   "id": "bdd8468a",
   "metadata": {},
   "outputs": [],
   "source": [
    "train_inputs[encoded_cols] = preprocessor.transform(train_inputs)\n",
    "test_inputs[encoded_cols] = preprocessor.transform(test_inputs)"
   ]
  },
  {
   "cell_type": "code",
   "execution_count": 68,
   "id": "092d5a32",
   "metadata": {},
   "outputs": [],
   "source": [
    "X_train = train_inputs[numerical_cols + encoded_cols]\n",
    "y_train = train_df[target_col]\n",
    "\n",
    "X_test = test_inputs[numerical_cols + encoded_cols]"
   ]
  },
  {
   "cell_type": "code",
   "execution_count": 69,
   "id": "8ed36aca",
   "metadata": {},
   "outputs": [
    {
     "data": {
      "text/html": [
       "<div>\n",
       "<style scoped>\n",
       "    .dataframe tbody tr th:only-of-type {\n",
       "        vertical-align: middle;\n",
       "    }\n",
       "\n",
       "    .dataframe tbody tr th {\n",
       "        vertical-align: top;\n",
       "    }\n",
       "\n",
       "    .dataframe thead th {\n",
       "        text-align: right;\n",
       "    }\n",
       "</style>\n",
       "<table border=\"1\" class=\"dataframe\">\n",
       "  <thead>\n",
       "    <tr style=\"text-align: right;\">\n",
       "      <th></th>\n",
       "      <th>age</th>\n",
       "      <th>hypertension</th>\n",
       "      <th>heart_disease</th>\n",
       "      <th>avg_glucose_level</th>\n",
       "      <th>bmi</th>\n",
       "      <th>Ordinal_Encode__smoking_status</th>\n",
       "      <th>OneHot_Encode__gender_Female</th>\n",
       "      <th>OneHot_Encode__gender_Male</th>\n",
       "      <th>OneHot_Encode__ever_married_No</th>\n",
       "      <th>OneHot_Encode__ever_married_Yes</th>\n",
       "      <th>OneHot_Encode__work_type_Govt_job</th>\n",
       "      <th>OneHot_Encode__work_type_Never_worked</th>\n",
       "      <th>OneHot_Encode__work_type_Private</th>\n",
       "      <th>OneHot_Encode__work_type_Self-employed</th>\n",
       "      <th>OneHot_Encode__work_type_children</th>\n",
       "      <th>OneHot_Encode__Residence_type_Rural</th>\n",
       "      <th>OneHot_Encode__Residence_type_Urban</th>\n",
       "    </tr>\n",
       "  </thead>\n",
       "  <tbody>\n",
       "    <tr>\n",
       "      <th>0</th>\n",
       "      <td>28.0</td>\n",
       "      <td>0</td>\n",
       "      <td>0</td>\n",
       "      <td>79.53</td>\n",
       "      <td>31.1</td>\n",
       "      <td>1.0</td>\n",
       "      <td>0.0</td>\n",
       "      <td>1.0</td>\n",
       "      <td>0.0</td>\n",
       "      <td>1.0</td>\n",
       "      <td>0.0</td>\n",
       "      <td>0.0</td>\n",
       "      <td>1.0</td>\n",
       "      <td>0.0</td>\n",
       "      <td>0.0</td>\n",
       "      <td>0.0</td>\n",
       "      <td>1.0</td>\n",
       "    </tr>\n",
       "    <tr>\n",
       "      <th>1</th>\n",
       "      <td>33.0</td>\n",
       "      <td>0</td>\n",
       "      <td>0</td>\n",
       "      <td>78.44</td>\n",
       "      <td>23.9</td>\n",
       "      <td>2.0</td>\n",
       "      <td>0.0</td>\n",
       "      <td>1.0</td>\n",
       "      <td>0.0</td>\n",
       "      <td>1.0</td>\n",
       "      <td>0.0</td>\n",
       "      <td>0.0</td>\n",
       "      <td>1.0</td>\n",
       "      <td>0.0</td>\n",
       "      <td>0.0</td>\n",
       "      <td>1.0</td>\n",
       "      <td>0.0</td>\n",
       "    </tr>\n",
       "    <tr>\n",
       "      <th>2</th>\n",
       "      <td>42.0</td>\n",
       "      <td>0</td>\n",
       "      <td>0</td>\n",
       "      <td>103.00</td>\n",
       "      <td>40.3</td>\n",
       "      <td>0.0</td>\n",
       "      <td>1.0</td>\n",
       "      <td>0.0</td>\n",
       "      <td>0.0</td>\n",
       "      <td>1.0</td>\n",
       "      <td>0.0</td>\n",
       "      <td>0.0</td>\n",
       "      <td>1.0</td>\n",
       "      <td>0.0</td>\n",
       "      <td>0.0</td>\n",
       "      <td>1.0</td>\n",
       "      <td>0.0</td>\n",
       "    </tr>\n",
       "    <tr>\n",
       "      <th>3</th>\n",
       "      <td>56.0</td>\n",
       "      <td>0</td>\n",
       "      <td>0</td>\n",
       "      <td>64.87</td>\n",
       "      <td>28.8</td>\n",
       "      <td>1.0</td>\n",
       "      <td>0.0</td>\n",
       "      <td>1.0</td>\n",
       "      <td>0.0</td>\n",
       "      <td>1.0</td>\n",
       "      <td>0.0</td>\n",
       "      <td>0.0</td>\n",
       "      <td>1.0</td>\n",
       "      <td>0.0</td>\n",
       "      <td>0.0</td>\n",
       "      <td>0.0</td>\n",
       "      <td>1.0</td>\n",
       "    </tr>\n",
       "    <tr>\n",
       "      <th>4</th>\n",
       "      <td>24.0</td>\n",
       "      <td>0</td>\n",
       "      <td>0</td>\n",
       "      <td>73.36</td>\n",
       "      <td>28.8</td>\n",
       "      <td>1.0</td>\n",
       "      <td>1.0</td>\n",
       "      <td>0.0</td>\n",
       "      <td>1.0</td>\n",
       "      <td>0.0</td>\n",
       "      <td>0.0</td>\n",
       "      <td>0.0</td>\n",
       "      <td>1.0</td>\n",
       "      <td>0.0</td>\n",
       "      <td>0.0</td>\n",
       "      <td>1.0</td>\n",
       "      <td>0.0</td>\n",
       "    </tr>\n",
       "  </tbody>\n",
       "</table>\n",
       "</div>"
      ],
      "text/plain": [
       "    age  hypertension  heart_disease  avg_glucose_level   bmi  \\\n",
       "0  28.0             0              0              79.53  31.1   \n",
       "1  33.0             0              0              78.44  23.9   \n",
       "2  42.0             0              0             103.00  40.3   \n",
       "3  56.0             0              0              64.87  28.8   \n",
       "4  24.0             0              0              73.36  28.8   \n",
       "\n",
       "   Ordinal_Encode__smoking_status  OneHot_Encode__gender_Female  \\\n",
       "0                             1.0                           0.0   \n",
       "1                             2.0                           0.0   \n",
       "2                             0.0                           1.0   \n",
       "3                             1.0                           0.0   \n",
       "4                             1.0                           1.0   \n",
       "\n",
       "   OneHot_Encode__gender_Male  OneHot_Encode__ever_married_No  \\\n",
       "0                         1.0                             0.0   \n",
       "1                         1.0                             0.0   \n",
       "2                         0.0                             0.0   \n",
       "3                         1.0                             0.0   \n",
       "4                         0.0                             1.0   \n",
       "\n",
       "   OneHot_Encode__ever_married_Yes  OneHot_Encode__work_type_Govt_job  \\\n",
       "0                              1.0                                0.0   \n",
       "1                              1.0                                0.0   \n",
       "2                              1.0                                0.0   \n",
       "3                              1.0                                0.0   \n",
       "4                              0.0                                0.0   \n",
       "\n",
       "   OneHot_Encode__work_type_Never_worked  OneHot_Encode__work_type_Private  \\\n",
       "0                                    0.0                               1.0   \n",
       "1                                    0.0                               1.0   \n",
       "2                                    0.0                               1.0   \n",
       "3                                    0.0                               1.0   \n",
       "4                                    0.0                               1.0   \n",
       "\n",
       "   OneHot_Encode__work_type_Self-employed  OneHot_Encode__work_type_children  \\\n",
       "0                                     0.0                                0.0   \n",
       "1                                     0.0                                0.0   \n",
       "2                                     0.0                                0.0   \n",
       "3                                     0.0                                0.0   \n",
       "4                                     0.0                                0.0   \n",
       "\n",
       "   OneHot_Encode__Residence_type_Rural  OneHot_Encode__Residence_type_Urban  \n",
       "0                                  0.0                                  1.0  \n",
       "1                                  1.0                                  0.0  \n",
       "2                                  1.0                                  0.0  \n",
       "3                                  0.0                                  1.0  \n",
       "4                                  1.0                                  0.0  "
      ]
     },
     "execution_count": 69,
     "metadata": {},
     "output_type": "execute_result"
    }
   ],
   "source": [
    "X_train.head()"
   ]
  },
  {
   "cell_type": "code",
   "execution_count": 70,
   "id": "65e7752c",
   "metadata": {},
   "outputs": [
    {
     "data": {
      "text/plain": [
       "True"
      ]
     },
     "execution_count": 70,
     "metadata": {},
     "output_type": "execute_result"
    }
   ],
   "source": [
    "X_train.shape[1] == X_test.shape[1]"
   ]
  },
  {
   "cell_type": "code",
   "execution_count": 72,
   "id": "67961ca6",
   "metadata": {},
   "outputs": [],
   "source": [
    "# Split Dataset into training and validation set\n",
    "from sklearn.model_selection import train_test_split"
   ]
  },
  {
   "cell_type": "code",
   "execution_count": 73,
   "id": "5a15d5c0",
   "metadata": {},
   "outputs": [],
   "source": [
    "X_train, X_val, y_train, y_val = train_test_split(X_train, y_train, test_size=0.2, random_state=42)"
   ]
  },
  {
   "cell_type": "code",
   "execution_count": 74,
   "id": "da2f9106",
   "metadata": {},
   "outputs": [
    {
     "data": {
      "text/plain": [
       "(12242, 17)"
      ]
     },
     "execution_count": 74,
     "metadata": {},
     "output_type": "execute_result"
    }
   ],
   "source": [
    "X_train.shape"
   ]
  },
  {
   "cell_type": "code",
   "execution_count": null,
   "id": "7d11f678",
   "metadata": {},
   "outputs": [],
   "source": []
  },
  {
   "cell_type": "code",
   "execution_count": 75,
   "id": "ec382fde",
   "metadata": {},
   "outputs": [],
   "source": [
    "# Baseline Model\n",
    "from sklearn.linear_model import LogisticRegression\n",
    "from sklearn.tree import DecisionTreeClassifier\n",
    "from sklearn.ensemble import RandomForestClassifier\n",
    "from lightgbm import LGBMClassifier\n",
    "from xgboost import XGBClassifier\n",
    "from imblearn.over_sampling import SMOTE\n",
    "\n",
    "from sklearn.metrics import confusion_matrix, accuracy_score, precision_score, recall_score, f1_score"
   ]
  },
  {
   "cell_type": "code",
   "execution_count": 79,
   "id": "ae1c3220",
   "metadata": {},
   "outputs": [],
   "source": [
    "models = [\n",
    "    (LogisticRegression(), 'LogisticRegression'), \n",
    "    (RandomForestClassifier(), 'RandomForestClassifier'), \n",
    "    (XGBClassifier(), 'XGBClassifier'), \n",
    "    (LGBMClassifier(verbose = 1), 'LightGBM')\n",
    "]"
   ]
  },
  {
   "cell_type": "code",
   "execution_count": 77,
   "id": "dcda74bf",
   "metadata": {},
   "outputs": [],
   "source": [
    "def evalue_model(model, X_train, y_train, X_val, y_val):\n",
    "    y_pred = model.predict(X_val)\n",
    "    confusion_mat = confusion_matrix(y_val, y_pred)\n",
    "    accuracy = accuracy_score(y_val, y_pred)\n",
    "    precision = precision_score(y_val, y_pred)\n",
    "    recall = recall_score(y_val, y_pred)\n",
    "    f1 = f1_score(y_val, y_pred)\n",
    "    return confusion_mat, accuracy, precision, recall, f1"
   ]
  },
  {
   "cell_type": "code",
   "execution_count": 78,
   "id": "5414af80",
   "metadata": {},
   "outputs": [],
   "source": [
    "confusion_mats = {}\n",
    "def metric_df(model, model_name):\n",
    "    confusion_mat, *df = evalue_model(model, X_train, y_train, X_val, y_val)\n",
    "    confusion_mats[model_name] = confusion_mat\n",
    "    df = [df]\n",
    "    model_metrics = pd.DataFrame(data = df, columns=['Accuarcy','Precision', 'Recall', 'F1'])\n",
    "    model_metrics.insert(0, 'Model', model_name)\n",
    "    \n",
    "    return model_metrics"
   ]
  },
  {
   "cell_type": "code",
   "execution_count": 80,
   "id": "4744d6b9",
   "metadata": {},
   "outputs": [
    {
     "name": "stderr",
     "output_type": "stream",
     "text": [
      "d:\\python38\\lib\\site-packages\\sklearn\\linear_model\\_logistic.py:460: ConvergenceWarning:\n",
      "\n",
      "lbfgs failed to converge (status=1):\n",
      "STOP: TOTAL NO. of ITERATIONS REACHED LIMIT.\n",
      "\n",
      "Increase the number of iterations (max_iter) or scale the data as shown in:\n",
      "    https://scikit-learn.org/stable/modules/preprocessing.html\n",
      "Please also refer to the documentation for alternative solver options:\n",
      "    https://scikit-learn.org/stable/modules/linear_model.html#logistic-regression\n",
      "\n"
     ]
    },
    {
     "name": "stdout",
     "output_type": "stream",
     "text": [
      "[LightGBM] [Info] Number of positive: 498, number of negative: 11744\n",
      "[LightGBM] [Info] Auto-choosing row-wise multi-threading, the overhead of testing was 0.001666 seconds.\n",
      "You can set `force_row_wise=true` to remove the overhead.\n",
      "And if memory is not enough, you can set `force_col_wise=true`.\n",
      "[LightGBM] [Info] Total Bins 623\n",
      "[LightGBM] [Info] Number of data points in the train set: 12242, number of used features: 17\n",
      "[LightGBM] [Info] [binary:BoostFromScore]: pavg=0.040680 -> initscore=-3.160498\n",
      "[LightGBM] [Info] Start training from score -3.160498\n"
     ]
    }
   ],
   "source": [
    "predictions = []\n",
    "for model, model_name in models:\n",
    "    model.fit(X_train, y_train)\n",
    "    model_metrics = metric_df(model, model_name)\n",
    "    predictions.append(model_metrics)"
   ]
  },
  {
   "cell_type": "code",
   "execution_count": 84,
   "id": "02b32a46",
   "metadata": {},
   "outputs": [
    {
     "data": {
      "text/plain": [
       "[                Model  Accuarcy  Precision    Recall        F1\n",
       " 0  LogisticRegression  0.955243   0.333333  0.022388  0.041958,\n",
       "                     Model  Accuarcy  Precision    Recall        F1\n",
       " 0  RandomForestClassifier  0.954263   0.333333  0.044776  0.078947,\n",
       "            Model  Accuarcy  Precision   Recall        F1\n",
       " 0  XGBClassifier   0.95165   0.305556  0.08209  0.129412,\n",
       "       Model  Accuarcy  Precision    Recall        F1\n",
       " 0  LightGBM   0.95459   0.380952  0.059701  0.103226]"
      ]
     },
     "execution_count": 84,
     "metadata": {},
     "output_type": "execute_result"
    }
   ],
   "source": [
    "predictions"
   ]
  },
  {
   "cell_type": "code",
   "execution_count": 85,
   "id": "70fb123e",
   "metadata": {},
   "outputs": [],
   "source": [
    "oversample = SMOTE()\n",
    "X_train_ns, y_train_ns = oversample.fit_resample(X_train, y_train)"
   ]
  },
  {
   "cell_type": "code",
   "execution_count": 86,
   "id": "6afa8c6a",
   "metadata": {},
   "outputs": [
    {
     "data": {
      "text/plain": [
       "(23488, 17)"
      ]
     },
     "execution_count": 86,
     "metadata": {},
     "output_type": "execute_result"
    }
   ],
   "source": [
    "X_train_ns.shape"
   ]
  },
  {
   "cell_type": "code",
   "execution_count": 87,
   "id": "b159ec12",
   "metadata": {},
   "outputs": [
    {
     "name": "stderr",
     "output_type": "stream",
     "text": [
      "d:\\python38\\lib\\site-packages\\sklearn\\linear_model\\_logistic.py:460: ConvergenceWarning:\n",
      "\n",
      "lbfgs failed to converge (status=1):\n",
      "STOP: TOTAL NO. of ITERATIONS REACHED LIMIT.\n",
      "\n",
      "Increase the number of iterations (max_iter) or scale the data as shown in:\n",
      "    https://scikit-learn.org/stable/modules/preprocessing.html\n",
      "Please also refer to the documentation for alternative solver options:\n",
      "    https://scikit-learn.org/stable/modules/linear_model.html#logistic-regression\n",
      "\n"
     ]
    }
   ],
   "source": [
    "lr_with_smote = LogisticRegression()\n",
    "lr_with_smote.fit(X_train_ns, y_train_ns)\n",
    "lr_with_smote_mat = metric_df(lr_with_smote, 'Logistic With SMOTE')\n",
    "predictions.append(lr_with_smote_mat)"
   ]
  },
  {
   "cell_type": "code",
   "execution_count": 88,
   "id": "d11c36da",
   "metadata": {},
   "outputs": [
    {
     "name": "stdout",
     "output_type": "stream",
     "text": [
      "Confusion Matrix for LogisticRegression\n",
      "[[2921    6]\n",
      " [ 131    3]]\n",
      "\n",
      "Confusion Matrix for RandomForestClassifier\n",
      "[[2915   12]\n",
      " [ 128    6]]\n",
      "\n",
      "Confusion Matrix for XGBClassifier\n",
      "[[2902   25]\n",
      " [ 123   11]]\n",
      "\n",
      "Confusion Matrix for LightGBM\n",
      "[[2914   13]\n",
      " [ 126    8]]\n",
      "\n",
      "Confusion Matrix for Logistic With SMOTE\n",
      "[[2316  611]\n",
      " [  32  102]]\n",
      "\n"
     ]
    }
   ],
   "source": [
    "for model_name , confusion_mat in confusion_mats.items():\n",
    "    print(f'Confusion Matrix for {model_name}')\n",
    "    print(confusion_mat)\n",
    "    print()"
   ]
  },
  {
   "cell_type": "code",
   "execution_count": 89,
   "id": "db3fe69b",
   "metadata": {},
   "outputs": [],
   "source": [
    "# Voting Classifer . Hard and Soft\n",
    "from sklearn.ensemble import VotingClassifier"
   ]
  },
  {
   "cell_type": "code",
   "execution_count": 91,
   "id": "2c5e814a",
   "metadata": {},
   "outputs": [],
   "source": [
    "estimator = []\n",
    "estimator.append(('LogisticRegression', LogisticRegression())), \n",
    "estimator.append(('RandomForestClassifier', RandomForestClassifier())), \n",
    "estimator.append(('XGBClassifier', XGBClassifier())), \n",
    "estimator.append(('LightGBM', LGBMClassifier(verbose = 1)))"
   ]
  },
  {
   "cell_type": "code",
   "execution_count": 92,
   "id": "56119eb3",
   "metadata": {},
   "outputs": [
    {
     "name": "stderr",
     "output_type": "stream",
     "text": [
      "d:\\python38\\lib\\site-packages\\sklearn\\linear_model\\_logistic.py:460: ConvergenceWarning:\n",
      "\n",
      "lbfgs failed to converge (status=1):\n",
      "STOP: TOTAL NO. of ITERATIONS REACHED LIMIT.\n",
      "\n",
      "Increase the number of iterations (max_iter) or scale the data as shown in:\n",
      "    https://scikit-learn.org/stable/modules/preprocessing.html\n",
      "Please also refer to the documentation for alternative solver options:\n",
      "    https://scikit-learn.org/stable/modules/linear_model.html#logistic-regression\n",
      "\n"
     ]
    },
    {
     "name": "stdout",
     "output_type": "stream",
     "text": [
      "[LightGBM] [Info] Number of positive: 498, number of negative: 11744\n",
      "[LightGBM] [Info] Auto-choosing row-wise multi-threading, the overhead of testing was 0.000688 seconds.\n",
      "You can set `force_row_wise=true` to remove the overhead.\n",
      "And if memory is not enough, you can set `force_col_wise=true`.\n",
      "[LightGBM] [Info] Total Bins 623\n",
      "[LightGBM] [Info] Number of data points in the train set: 12242, number of used features: 17\n",
      "[LightGBM] [Info] [binary:BoostFromScore]: pavg=0.040680 -> initscore=-3.160498\n",
      "[LightGBM] [Info] Start training from score -3.160498\n"
     ]
    }
   ],
   "source": [
    "VC_hard = VotingClassifier(estimators=estimator, voting='hard')\n",
    "VC_hard.fit(X_train, y_train)\n",
    "VC_hard_mat = metric_df(VC_hard, 'VC_HARD')\n",
    "predictions.append(VC_hard_mat)"
   ]
  },
  {
   "cell_type": "code",
   "execution_count": 93,
   "id": "a97b000d",
   "metadata": {},
   "outputs": [
    {
     "data": {
      "text/html": [
       "<div>\n",
       "<style scoped>\n",
       "    .dataframe tbody tr th:only-of-type {\n",
       "        vertical-align: middle;\n",
       "    }\n",
       "\n",
       "    .dataframe tbody tr th {\n",
       "        vertical-align: top;\n",
       "    }\n",
       "\n",
       "    .dataframe thead th {\n",
       "        text-align: right;\n",
       "    }\n",
       "</style>\n",
       "<table border=\"1\" class=\"dataframe\">\n",
       "  <thead>\n",
       "    <tr style=\"text-align: right;\">\n",
       "      <th></th>\n",
       "      <th>Model</th>\n",
       "      <th>Accuarcy</th>\n",
       "      <th>Precision</th>\n",
       "      <th>Recall</th>\n",
       "      <th>F1</th>\n",
       "    </tr>\n",
       "  </thead>\n",
       "  <tbody>\n",
       "    <tr>\n",
       "      <th>0</th>\n",
       "      <td>VC_HARD</td>\n",
       "      <td>0.956223</td>\n",
       "      <td>0.5</td>\n",
       "      <td>0.014925</td>\n",
       "      <td>0.028986</td>\n",
       "    </tr>\n",
       "  </tbody>\n",
       "</table>\n",
       "</div>"
      ],
      "text/plain": [
       "     Model  Accuarcy  Precision    Recall        F1\n",
       "0  VC_HARD  0.956223        0.5  0.014925  0.028986"
      ]
     },
     "execution_count": 93,
     "metadata": {},
     "output_type": "execute_result"
    }
   ],
   "source": [
    "VC_hard_mat"
   ]
  },
  {
   "cell_type": "code",
   "execution_count": 94,
   "id": "8b649863",
   "metadata": {},
   "outputs": [
    {
     "name": "stderr",
     "output_type": "stream",
     "text": [
      "d:\\python38\\lib\\site-packages\\sklearn\\linear_model\\_logistic.py:460: ConvergenceWarning:\n",
      "\n",
      "lbfgs failed to converge (status=1):\n",
      "STOP: TOTAL NO. of ITERATIONS REACHED LIMIT.\n",
      "\n",
      "Increase the number of iterations (max_iter) or scale the data as shown in:\n",
      "    https://scikit-learn.org/stable/modules/preprocessing.html\n",
      "Please also refer to the documentation for alternative solver options:\n",
      "    https://scikit-learn.org/stable/modules/linear_model.html#logistic-regression\n",
      "\n"
     ]
    },
    {
     "name": "stdout",
     "output_type": "stream",
     "text": [
      "[LightGBM] [Info] Number of positive: 498, number of negative: 11744\n",
      "[LightGBM] [Info] Auto-choosing row-wise multi-threading, the overhead of testing was 0.000347 seconds.\n",
      "You can set `force_row_wise=true` to remove the overhead.\n",
      "And if memory is not enough, you can set `force_col_wise=true`.\n",
      "[LightGBM] [Info] Total Bins 623\n",
      "[LightGBM] [Info] Number of data points in the train set: 12242, number of used features: 17\n",
      "[LightGBM] [Info] [binary:BoostFromScore]: pavg=0.040680 -> initscore=-3.160498\n",
      "[LightGBM] [Info] Start training from score -3.160498\n"
     ]
    }
   ],
   "source": [
    "VC_soft = VotingClassifier(estimators=estimator, voting='soft')\n",
    "VC_soft.fit(X_train, y_train)\n",
    "VC_soft_mat = metric_df(VC_soft, 'VC_soft')\n",
    "predictions.append(VC_soft_mat)"
   ]
  },
  {
   "cell_type": "code",
   "execution_count": 95,
   "id": "195befae",
   "metadata": {},
   "outputs": [
    {
     "data": {
      "text/html": [
       "<div>\n",
       "<style scoped>\n",
       "    .dataframe tbody tr th:only-of-type {\n",
       "        vertical-align: middle;\n",
       "    }\n",
       "\n",
       "    .dataframe tbody tr th {\n",
       "        vertical-align: top;\n",
       "    }\n",
       "\n",
       "    .dataframe thead th {\n",
       "        text-align: right;\n",
       "    }\n",
       "</style>\n",
       "<table border=\"1\" class=\"dataframe\">\n",
       "  <thead>\n",
       "    <tr style=\"text-align: right;\">\n",
       "      <th></th>\n",
       "      <th>Model</th>\n",
       "      <th>Accuarcy</th>\n",
       "      <th>Precision</th>\n",
       "      <th>Recall</th>\n",
       "      <th>F1</th>\n",
       "    </tr>\n",
       "  </thead>\n",
       "  <tbody>\n",
       "    <tr>\n",
       "      <th>0</th>\n",
       "      <td>VC_soft</td>\n",
       "      <td>0.955243</td>\n",
       "      <td>0.4</td>\n",
       "      <td>0.044776</td>\n",
       "      <td>0.080537</td>\n",
       "    </tr>\n",
       "  </tbody>\n",
       "</table>\n",
       "</div>"
      ],
      "text/plain": [
       "     Model  Accuarcy  Precision    Recall        F1\n",
       "0  VC_soft  0.955243        0.4  0.044776  0.080537"
      ]
     },
     "execution_count": 95,
     "metadata": {},
     "output_type": "execute_result"
    }
   ],
   "source": [
    "VC_soft_mat"
   ]
  },
  {
   "cell_type": "code",
   "execution_count": 102,
   "id": "eb897440",
   "metadata": {},
   "outputs": [],
   "source": [
    "prediction_base = pd.concat(predictions, ignore_index=True, sort =False)\n",
    "prediction_base = prediction_base.sort_values(by=['Recall'], ascending=False).style.hide(axis = 'index')"
   ]
  },
  {
   "cell_type": "code",
   "execution_count": 103,
   "id": "5e5002c3",
   "metadata": {},
   "outputs": [
    {
     "data": {
      "text/html": [
       "<style type=\"text/css\">\n",
       "</style>\n",
       "<table id=\"T_edb2a\">\n",
       "  <thead>\n",
       "    <tr>\n",
       "      <th id=\"T_edb2a_level0_col0\" class=\"col_heading level0 col0\" >Model</th>\n",
       "      <th id=\"T_edb2a_level0_col1\" class=\"col_heading level0 col1\" >Accuarcy</th>\n",
       "      <th id=\"T_edb2a_level0_col2\" class=\"col_heading level0 col2\" >Precision</th>\n",
       "      <th id=\"T_edb2a_level0_col3\" class=\"col_heading level0 col3\" >Recall</th>\n",
       "      <th id=\"T_edb2a_level0_col4\" class=\"col_heading level0 col4\" >F1</th>\n",
       "    </tr>\n",
       "  </thead>\n",
       "  <tbody>\n",
       "    <tr>\n",
       "      <td id=\"T_edb2a_row0_col0\" class=\"data row0 col0\" >Logistic With SMOTE</td>\n",
       "      <td id=\"T_edb2a_row0_col1\" class=\"data row0 col1\" >0.789938</td>\n",
       "      <td id=\"T_edb2a_row0_col2\" class=\"data row0 col2\" >0.143058</td>\n",
       "      <td id=\"T_edb2a_row0_col3\" class=\"data row0 col3\" >0.761194</td>\n",
       "      <td id=\"T_edb2a_row0_col4\" class=\"data row0 col4\" >0.240850</td>\n",
       "    </tr>\n",
       "    <tr>\n",
       "      <td id=\"T_edb2a_row1_col0\" class=\"data row1 col0\" >XGBClassifier</td>\n",
       "      <td id=\"T_edb2a_row1_col1\" class=\"data row1 col1\" >0.951650</td>\n",
       "      <td id=\"T_edb2a_row1_col2\" class=\"data row1 col2\" >0.305556</td>\n",
       "      <td id=\"T_edb2a_row1_col3\" class=\"data row1 col3\" >0.082090</td>\n",
       "      <td id=\"T_edb2a_row1_col4\" class=\"data row1 col4\" >0.129412</td>\n",
       "    </tr>\n",
       "    <tr>\n",
       "      <td id=\"T_edb2a_row2_col0\" class=\"data row2 col0\" >LightGBM</td>\n",
       "      <td id=\"T_edb2a_row2_col1\" class=\"data row2 col1\" >0.954590</td>\n",
       "      <td id=\"T_edb2a_row2_col2\" class=\"data row2 col2\" >0.380952</td>\n",
       "      <td id=\"T_edb2a_row2_col3\" class=\"data row2 col3\" >0.059701</td>\n",
       "      <td id=\"T_edb2a_row2_col4\" class=\"data row2 col4\" >0.103226</td>\n",
       "    </tr>\n",
       "    <tr>\n",
       "      <td id=\"T_edb2a_row3_col0\" class=\"data row3 col0\" >RandomForestClassifier</td>\n",
       "      <td id=\"T_edb2a_row3_col1\" class=\"data row3 col1\" >0.954263</td>\n",
       "      <td id=\"T_edb2a_row3_col2\" class=\"data row3 col2\" >0.333333</td>\n",
       "      <td id=\"T_edb2a_row3_col3\" class=\"data row3 col3\" >0.044776</td>\n",
       "      <td id=\"T_edb2a_row3_col4\" class=\"data row3 col4\" >0.078947</td>\n",
       "    </tr>\n",
       "    <tr>\n",
       "      <td id=\"T_edb2a_row4_col0\" class=\"data row4 col0\" >VC_soft</td>\n",
       "      <td id=\"T_edb2a_row4_col1\" class=\"data row4 col1\" >0.955243</td>\n",
       "      <td id=\"T_edb2a_row4_col2\" class=\"data row4 col2\" >0.400000</td>\n",
       "      <td id=\"T_edb2a_row4_col3\" class=\"data row4 col3\" >0.044776</td>\n",
       "      <td id=\"T_edb2a_row4_col4\" class=\"data row4 col4\" >0.080537</td>\n",
       "    </tr>\n",
       "    <tr>\n",
       "      <td id=\"T_edb2a_row5_col0\" class=\"data row5 col0\" >LogisticRegression</td>\n",
       "      <td id=\"T_edb2a_row5_col1\" class=\"data row5 col1\" >0.955243</td>\n",
       "      <td id=\"T_edb2a_row5_col2\" class=\"data row5 col2\" >0.333333</td>\n",
       "      <td id=\"T_edb2a_row5_col3\" class=\"data row5 col3\" >0.022388</td>\n",
       "      <td id=\"T_edb2a_row5_col4\" class=\"data row5 col4\" >0.041958</td>\n",
       "    </tr>\n",
       "    <tr>\n",
       "      <td id=\"T_edb2a_row6_col0\" class=\"data row6 col0\" >VC_HARD</td>\n",
       "      <td id=\"T_edb2a_row6_col1\" class=\"data row6 col1\" >0.956223</td>\n",
       "      <td id=\"T_edb2a_row6_col2\" class=\"data row6 col2\" >0.500000</td>\n",
       "      <td id=\"T_edb2a_row6_col3\" class=\"data row6 col3\" >0.014925</td>\n",
       "      <td id=\"T_edb2a_row6_col4\" class=\"data row6 col4\" >0.028986</td>\n",
       "    </tr>\n",
       "  </tbody>\n",
       "</table>\n"
      ],
      "text/plain": [
       "<pandas.io.formats.style.Styler at 0x1f708c9fa00>"
      ]
     },
     "execution_count": 103,
     "metadata": {},
     "output_type": "execute_result"
    }
   ],
   "source": [
    "prediction_base"
   ]
  },
  {
   "cell_type": "code",
   "execution_count": 104,
   "id": "2a4d95b2",
   "metadata": {},
   "outputs": [],
   "source": [
    "models_to_plot = [\n",
    "    'LogisticRegression', \n",
    "    'RandomForestClassifier', \n",
    "    'XGBClassifier', \n",
    "    'Logistic With SMOTE'\n",
    "]"
   ]
  },
  {
   "cell_type": "code",
   "execution_count": 106,
   "id": "a31feabf",
   "metadata": {},
   "outputs": [
    {
     "data": {
      "image/png": "[encoded data removed]",
      "text/plain": [
       "<Figure size 648x504 with 8 Axes>"
      ]
     },
     "metadata": {
      "needs_background": "light"
     },
     "output_type": "display_data"
    }
   ],
   "source": [
    "fig, axes = plt.subplots(nrows = 2, ncols =2, figsize = (9, 7))\n",
    "for ax, model_name in zip(axes.ravel(), models_to_plot):\n",
    "    confusion_mat = confusion_mats[model_name]\n",
    "    sns.heatmap(confusion_mat, annot=True, fmt='d', cmap = 'Blues', ax = ax)\n",
    "    ax.set_title(f'{model_name}')\n",
    "    ax.set_xlabel('Predicted')\n",
    "    ax.set_ylabel('Actual')\n",
    "\n",
    "plt.tight_layout()\n",
    "plt.subplots_adjust(left=0, right = 0.9, top =0.9, bottom = 0)\n",
    "plt.show()"
   ]
  },
  {
   "cell_type": "code",
   "execution_count": 107,
   "id": "b7df31ae",
   "metadata": {},
   "outputs": [],
   "source": [
    "# AUC - ROC Curve Homework ->\n",
    "from sklearn.metrics import roc_auc_score, roc_curve, auc\n",
    "# Precision - recall curve\n",
    "from sklearn.metrics import PredictionErrorDisplay"
   ]
  },
  {
   "cell_type": "code",
   "execution_count": 108,
   "id": "77177d43",
   "metadata": {},
   "outputs": [],
   "source": [
    "# Retrain & Save Model\n",
    "X_train = train_inputs[numerical_cols + encoded_cols]\n",
    "y_train = train_df[target_col]"
   ]
  },
  {
   "cell_type": "code",
   "execution_count": 109,
   "id": "8308a186",
   "metadata": {},
   "outputs": [],
   "source": [
    "preds = lr_with_smote.predict(X_test)"
   ]
  },
  {
   "cell_type": "code",
   "execution_count": 110,
   "id": "400e3793",
   "metadata": {},
   "outputs": [
    {
     "data": {
      "text/plain": [
       "array([0, 1, 0, ..., 0, 0, 0], dtype=int64)"
      ]
     },
     "execution_count": 110,
     "metadata": {},
     "output_type": "execute_result"
    }
   ],
   "source": [
    "preds"
   ]
  },
  {
   "cell_type": "code",
   "execution_count": 111,
   "id": "aeb456b4",
   "metadata": {},
   "outputs": [],
   "source": [
    "sub_df = preds"
   ]
  },
  {
   "cell_type": "code",
   "execution_count": 112,
   "id": "bd59800f",
   "metadata": {},
   "outputs": [],
   "source": [
    "pd.DataFrame(sub_df).to_csv(\"submission.csv\", index=None)"
   ]
  },
  {
   "cell_type": "code",
   "execution_count": 113,
   "id": "5901e7ab",
   "metadata": {},
   "outputs": [],
   "source": [
    "sub_df = pd.read_csv(\"submission.csv\")"
   ]
  },
  {
   "cell_type": "code",
   "execution_count": 114,
   "id": "eb63c2bb",
   "metadata": {},
   "outputs": [
    {
     "data": {
      "text/html": [
       "<div>\n",
       "<style scoped>\n",
       "    .dataframe tbody tr th:only-of-type {\n",
       "        vertical-align: middle;\n",
       "    }\n",
       "\n",
       "    .dataframe tbody tr th {\n",
       "        vertical-align: top;\n",
       "    }\n",
       "\n",
       "    .dataframe thead th {\n",
       "        text-align: right;\n",
       "    }\n",
       "</style>\n",
       "<table border=\"1\" class=\"dataframe\">\n",
       "  <thead>\n",
       "    <tr style=\"text-align: right;\">\n",
       "      <th></th>\n",
       "      <th>0</th>\n",
       "    </tr>\n",
       "  </thead>\n",
       "  <tbody>\n",
       "    <tr>\n",
       "      <th>0</th>\n",
       "      <td>0</td>\n",
       "    </tr>\n",
       "    <tr>\n",
       "      <th>1</th>\n",
       "      <td>1</td>\n",
       "    </tr>\n",
       "    <tr>\n",
       "      <th>2</th>\n",
       "      <td>0</td>\n",
       "    </tr>\n",
       "    <tr>\n",
       "      <th>3</th>\n",
       "      <td>1</td>\n",
       "    </tr>\n",
       "    <tr>\n",
       "      <th>4</th>\n",
       "      <td>0</td>\n",
       "    </tr>\n",
       "  </tbody>\n",
       "</table>\n",
       "</div>"
      ],
      "text/plain": [
       "   0\n",
       "0  0\n",
       "1  1\n",
       "2  0\n",
       "3  1\n",
       "4  0"
      ]
     },
     "execution_count": 114,
     "metadata": {},
     "output_type": "execute_result"
    }
   ],
   "source": [
    "sub_df.head()"
   ]
  },
  {
   "cell_type": "code",
   "execution_count": 115,
   "id": "f8e5d900",
   "metadata": {},
   "outputs": [],
   "source": [
    "# Make Prediction on a single input\n",
    "\n",
    "sub_df['stroke'] = preds"
   ]
  },
  {
   "cell_type": "code",
   "execution_count": 116,
   "id": "a2d34ef1",
   "metadata": {},
   "outputs": [
    {
     "data": {
      "text/html": [
       "<div>\n",
       "<style scoped>\n",
       "    .dataframe tbody tr th:only-of-type {\n",
       "        vertical-align: middle;\n",
       "    }\n",
       "\n",
       "    .dataframe tbody tr th {\n",
       "        vertical-align: top;\n",
       "    }\n",
       "\n",
       "    .dataframe thead th {\n",
       "        text-align: right;\n",
       "    }\n",
       "</style>\n",
       "<table border=\"1\" class=\"dataframe\">\n",
       "  <thead>\n",
       "    <tr style=\"text-align: right;\">\n",
       "      <th></th>\n",
       "      <th>0</th>\n",
       "      <th>stroke</th>\n",
       "    </tr>\n",
       "  </thead>\n",
       "  <tbody>\n",
       "    <tr>\n",
       "      <th>0</th>\n",
       "      <td>0</td>\n",
       "      <td>0</td>\n",
       "    </tr>\n",
       "    <tr>\n",
       "      <th>1</th>\n",
       "      <td>1</td>\n",
       "      <td>1</td>\n",
       "    </tr>\n",
       "    <tr>\n",
       "      <th>2</th>\n",
       "      <td>0</td>\n",
       "      <td>0</td>\n",
       "    </tr>\n",
       "    <tr>\n",
       "      <th>3</th>\n",
       "      <td>1</td>\n",
       "      <td>1</td>\n",
       "    </tr>\n",
       "    <tr>\n",
       "      <th>4</th>\n",
       "      <td>0</td>\n",
       "      <td>0</td>\n",
       "    </tr>\n",
       "    <tr>\n",
       "      <th>...</th>\n",
       "      <td>...</td>\n",
       "      <td>...</td>\n",
       "    </tr>\n",
       "    <tr>\n",
       "      <th>10198</th>\n",
       "      <td>0</td>\n",
       "      <td>0</td>\n",
       "    </tr>\n",
       "    <tr>\n",
       "      <th>10199</th>\n",
       "      <td>0</td>\n",
       "      <td>0</td>\n",
       "    </tr>\n",
       "    <tr>\n",
       "      <th>10200</th>\n",
       "      <td>0</td>\n",
       "      <td>0</td>\n",
       "    </tr>\n",
       "    <tr>\n",
       "      <th>10201</th>\n",
       "      <td>0</td>\n",
       "      <td>0</td>\n",
       "    </tr>\n",
       "    <tr>\n",
       "      <th>10202</th>\n",
       "      <td>0</td>\n",
       "      <td>0</td>\n",
       "    </tr>\n",
       "  </tbody>\n",
       "</table>\n",
       "<p>10203 rows × 2 columns</p>\n",
       "</div>"
      ],
      "text/plain": [
       "       0  stroke\n",
       "0      0       0\n",
       "1      1       1\n",
       "2      0       0\n",
       "3      1       1\n",
       "4      0       0\n",
       "...   ..     ...\n",
       "10198  0       0\n",
       "10199  0       0\n",
       "10200  0       0\n",
       "10201  0       0\n",
       "10202  0       0\n",
       "\n",
       "[10203 rows x 2 columns]"
      ]
     },
     "execution_count": 116,
     "metadata": {},
     "output_type": "execute_result"
    }
   ],
   "source": [
    "sub_df"
   ]
  },
  {
   "cell_type": "code",
   "execution_count": 117,
   "id": "384577df",
   "metadata": {},
   "outputs": [
    {
     "data": {
      "text/plain": [
       "Index(['id', 'gender', 'age', 'hypertension', 'heart_disease', 'ever_married',\n",
       "       'work_type', 'Residence_type', 'avg_glucose_level', 'bmi',\n",
       "       'smoking_status', 'stroke'],\n",
       "      dtype='object')"
      ]
     },
     "execution_count": 117,
     "metadata": {},
     "output_type": "execute_result"
    }
   ],
   "source": [
    "train_df.columns"
   ]
  },
  {
   "cell_type": "code",
   "execution_count": 118,
   "id": "f6a66592",
   "metadata": {},
   "outputs": [],
   "source": [
    "single_input = {\n",
    "    'gender': 'Male', \n",
    "    'age': 33, \n",
    "    'hypertension':0,\n",
    "    'heart_disease': 0, \n",
    "    'ever_married':'Yes',\n",
    "    'work_type':'Private',\n",
    "    'Residence_type':'Urban',\n",
    "    'avg_glucose_level':79.53,\n",
    "    'bmi': 31.10,\n",
    "    'smoking_status': 'formerly smoked'\n",
    "}"
   ]
  },
  {
   "cell_type": "code",
   "execution_count": 119,
   "id": "380658b4",
   "metadata": {},
   "outputs": [],
   "source": [
    "input_df = pd.DataFrame([single_input])"
   ]
  },
  {
   "cell_type": "code",
   "execution_count": 120,
   "id": "ba97d3be",
   "metadata": {},
   "outputs": [],
   "source": [
    "input_df[encoded_cols] = preprocessor.transform(input_df)"
   ]
  },
  {
   "cell_type": "code",
   "execution_count": 121,
   "id": "16606177",
   "metadata": {},
   "outputs": [],
   "source": [
    "X = input_df[numerical_cols + encoded_cols]"
   ]
  },
  {
   "cell_type": "code",
   "execution_count": 122,
   "id": "a4f220b4",
   "metadata": {},
   "outputs": [
    {
     "data": {
      "text/plain": [
       "array([0], dtype=int64)"
      ]
     },
     "execution_count": 122,
     "metadata": {},
     "output_type": "execute_result"
    }
   ],
   "source": [
    "lr_with_smote.predict(X)"
   ]
  },
  {
   "cell_type": "code",
   "execution_count": 123,
   "id": "8772b290",
   "metadata": {},
   "outputs": [],
   "source": [
    "import joblib"
   ]
  },
  {
   "cell_type": "code",
   "execution_count": 124,
   "id": "80657e61",
   "metadata": {},
   "outputs": [],
   "source": [
    "model = {\n",
    "    'encoded_cols': encoded_cols, \n",
    "    'numeric_cols':numerical_cols, \n",
    "    'preprocessor': preprocessor, \n",
    "    'model': lr_with_smote\n",
    "}"
   ]
  },
  {
   "cell_type": "code",
   "execution_count": 125,
   "id": "6b103eb0",
   "metadata": {},
   "outputs": [
    {
     "data": {
      "text/plain": [
       "['model.joblib']"
      ]
     },
     "execution_count": 125,
     "metadata": {},
     "output_type": "execute_result"
    }
   ],
   "source": [
    "joblib.dump(model, 'model.joblib')"
   ]
  },
  {
   "cell_type": "code",
   "execution_count": null,
   "id": "5c41f0cc",
   "metadata": {},
   "outputs": [],
   "source": []
  }
 ],
 "metadata": {
  "kernelspec": {
   "display_name": "Python 3",
   "language": "python",
   "name": "python3"
  },
  "language_info": {
   "codemirror_mode": {
    "name": "ipython",
    "version": 3
   },
   "file_extension": ".py",
   "mimetype": "text/x-python",
   "name": "python",
   "nbconvert_exporter": "python",
   "pygments_lexer": "ipython3",
   "version": "3.8.5"
  }
 },
 "nbformat": 4,
 "nbformat_minor": 5
}
